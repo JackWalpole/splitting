{
 "cells": [
  {
   "cell_type": "code",
   "execution_count": 3,
   "metadata": {},
   "outputs": [],
   "source": [
    "%matplotlib inline\n",
    "\n",
    "import sys\n",
    "sys.path.append(\"..\")\n",
    "import splitwavepy as s\n",
    "\n",
    "import scipy\n",
    "import numpy as np\n",
    "import matplotlib.pyplot as plt"
   ]
  },
  {
   "cell_type": "markdown",
   "metadata": {},
   "source": [
    "## Method:\n",
    "\n",
    "1) Split wave using set parameters\n",
    "\n",
    "2) Perturb the wave by random splitting parameters (with small lags) N times to make N copies\n",
    "\n",
    "3) Add varying levels of random noise to these data\n",
    "\n",
    "4) Try to recover the splitting parameters by error surface stacking."
   ]
  },
  {
   "cell_type": "code",
   "execution_count": 57,
   "metadata": {},
   "outputs": [],
   "source": [
    "pure = s.synth(fast=30,lag=10,noise=0.0001)\n",
    "\n",
    "listM = []\n",
    "\n",
    "for n in np.arange(10):\n",
    "#     fast = np.random.randint(0,180)\n",
    "#     lag = 2\n",
    "#     split = s.split(pure,fast,lag)\n",
    "    noiselevel = 0.02 * np.random.rand()\n",
    "    noise = pure + np.random.normal(0,noiselevel,pure.shape)\n",
    "    M = s.eigval.grideigval(noise)\n",
    "    listM.append(M)\n",
    "    \n",
    "    "
   ]
  },
  {
   "cell_type": "code",
   "execution_count": 19,
   "metadata": {},
   "outputs": [],
   "source": [
    "def error_stack(listM):\n",
    "    \"\"\"\n",
    "    Stack a list of Measurements\n",
    "    \"\"\"\n",
    "    stack = np.zeros(listM[0].lam1.shape)\n",
    "    for M in listM:\n",
    "        stack = stack + (M.lam1 / M.lam2)\n",
    "    return stack / len(listM)"
   ]
  },
  {
   "cell_type": "code",
   "execution_count": 58,
   "metadata": {},
   "outputs": [],
   "source": [
    "N = error_stack(listM)"
   ]
  },
  {
   "cell_type": "code",
   "execution_count": 59,
   "metadata": {},
   "outputs": [
    {
     "data": {
      "text/plain": [
       "<matplotlib.contour.QuadContourSet at 0x110dc5390>"
      ]
     },
     "execution_count": 59,
     "metadata": {},
     "output_type": "execute_result"
    },
    {
     "data": {
      "image/png": "[encoded data removed]",
      "text/plain": [
       "<matplotlib.figure.Figure at 0x10fe64190>"
      ]
     },
     "metadata": {},
     "output_type": "display_data"
    }
   ],
   "source": [
    "plt.contourf(listM[0].lags,listM[0].degs,N,cmap='viridis')"
   ]
  },
  {
   "cell_type": "code",
   "execution_count": 66,
   "metadata": {},
   "outputs": [
    {
     "data": {
      "image/png": "[encoded data removed]",
      "text/plain": [
       "<matplotlib.figure.Figure at 0x110a08090>"
      ]
     },
     "metadata": {},
     "output_type": "display_data"
    }
   ],
   "source": [
    "listM[6].plot()"
   ]
  },
  {
   "cell_type": "code",
   "execution_count": null,
   "metadata": {
    "collapsed": true
   },
   "outputs": [],
   "source": []
  }
 ],
 "metadata": {
  "kernelspec": {
   "display_name": "Python 2",
   "language": "python",
   "name": "python2"
  },
  "language_info": {
   "codemirror_mode": {
    "name": "ipython",
    "version": 2
   },
   "file_extension": ".py",
   "mimetype": "text/x-python",
   "name": "python",
   "nbconvert_exporter": "python",
   "pygments_lexer": "ipython2",
   "version": "2.7.11"
  }
 },
 "nbformat": 4,
 "nbformat_minor": 1
}
