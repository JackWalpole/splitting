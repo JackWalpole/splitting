{
 "cells": [
  {
   "cell_type": "code",
   "execution_count": 1,
   "metadata": {
    "collapsed": true
   },
   "outputs": [],
   "source": [
    "%matplotlib inline\n",
    "import numpy as np\n",
    "import matplotlib.pyplot as plt\n",
    "import math\n",
    "import cmath\n",
    "from scipy import signal"
   ]
  },
  {
   "cell_type": "code",
   "execution_count": 2,
   "metadata": {
    "collapsed": true
   },
   "outputs": [],
   "source": [
    "# routines\n",
    "def _shift(pair,shift):\n",
    "    \"\"\"shift t1 shift/2 samples to the left and\n",
    "       shift t2 shift/2 samples to the right,\n",
    "       if shift is odd move t1 the extra sample\n",
    "       this process truncates trace length\"\"\"\n",
    "    if shift == 0:\n",
    "        return pair\n",
    "    elif shift == 1:\n",
    "        t1 = pair[0,:]\n",
    "        t2 = pair[1,:]\n",
    "        return np.vstack((t1[math.ceil(shift/2):], t2[:-shift]))\n",
    "    else:\n",
    "        t1 = pair[0,:]\n",
    "        t2 = pair[1,:]\n",
    "        return np.vstack((t1[math.ceil(shift/2):-math.floor(shift/2)], t2[:-shift]))\n",
    "\n",
    "def _rotate(pair,degrees):\n",
    "    \"\"\"t1 is x-axis and t2 is y-axis,\n",
    "       rotates clockwise\"\"\"\n",
    "    ang = np.deg2rad(degrees)\n",
    "    rot = np.array([[np.cos(ang),-np.sin(ang)],\n",
    "                    [np.sin(ang), np.cos(ang)]])\n",
    "    return np.dot(rot,pair)\n",
    "\n",
    "def _rotate_and_shift(pair,degrees,shift):\n",
    "    return _shift(_rotate(pair,degrees), shift)\n",
    "\n",
    "def _split(pair,degrees,shift):\n",
    "    return _rotate(_shift(_rotate(pair,degrees), shift),-degrees)\n",
    "\n",
    "def _unsplit(pair,degrees,shift):\n",
    "    return _split(pair,degrees+90,shift)\n",
    "    \n",
    "def _taper(pair,width,centre=None):\n",
    "    \"\"\"Apply Hanning window about c0 sample\n",
    "       of width number of samples, truncates traces\"\"\"\n",
    "    \n",
    "    if centre is None:\n",
    "        centre = math.floor(pair.shape[1]/2)\n",
    "        \n",
    "    if width > pair.shape[1]:\n",
    "        raise Exception('taper width is greater than trace length')\n",
    "        \n",
    "    t0 = centre - math.floor(width/2)\n",
    "    t1 = centre + math.ceil(width/2)\n",
    "    \n",
    "    if t0 < 0:\n",
    "        raise Exception('window starts before trace data')\n",
    "    elif t1 > pair.shape[1]:\n",
    "        raise Exception('window ends after trace data')\n",
    "        \n",
    "    return np.hanning(width) * pair[:,t0:t1]\n",
    "\n",
    "def _eigcov(pair):\n",
    "    return np.sort(np.linalg.eigvals(np.cov(pair,rowvar=True)))\n",
    "#     return np.sort(np.linalg.eigvals(np.cov(pair)))\n",
    "\n",
    "def _grideigcov(pair,maxshift,window=None, stepang=None,stepshift=None):\n",
    "    \n",
    "    # set some defaults\n",
    "    if stepshift is None:\n",
    "        stepshift = int(np.max([1,maxshift/40]))\n",
    "    if stepang is None:\n",
    "        stepang = 2\n",
    "    if window is None:\n",
    "        # by default whatevers smaller,\n",
    "        # half trace length or 10 * max shift\n",
    "        window = int(np.min([pair.shape[1] * 0.5,maxshift * 10]))\n",
    "    \n",
    "    deg, shift = np.meshgrid(np.arange(0,180,stepang),\n",
    "                             np.arange(0,maxshift,stepshift).astype(int))\n",
    "    \n",
    "    shape = deg.shape\n",
    "    lam1 = np.zeros(shape)\n",
    "    lam2 = np.zeros(shape)\n",
    "    for ii in np.arange(shape[1]):\n",
    "        temp = _rotate(pair,deg[0,ii]+90)\n",
    "        for jj in np.arange(shape[0]):\n",
    "            temp2 = _shift(temp,shift[jj,ii])\n",
    "            temp3 = _taper(temp2,window)\n",
    "            lam2[jj,ii], lam1[jj,ii] = _eigcov(temp3)\n",
    "    return deg, shift, lam1, lam2\n",
    "\n",
    "def _xcorr(pair):\n",
    "    return np.correlate(pair[0,:],pair[1,:])[0]\n",
    "\n",
    "def _gridxcorr(pair,maxshift,window=None, stepang=None,stepshift=None):\n",
    "    \n",
    "    # set some defaults\n",
    "    if stepshift is None:\n",
    "        stepshift = int(np.max([1,maxshift/40]))\n",
    "    if stepang is None:\n",
    "        stepang = 2\n",
    "    if window is None:\n",
    "        # by default whatevers smaller,\n",
    "        # half trace length or 10 * max shift\n",
    "        window = int(np.min([pair.shape[1] * 0.5,maxshift * 10]))\n",
    "        \n",
    "    deg, shift = np.meshgrid(np.arange(0,180,stepang),\n",
    "                             np.arange(0,maxshift,stepshift).astype(int))\n",
    "    \n",
    "    shape = deg.shape\n",
    "    xc = np.zeros(shape)\n",
    "    for ii in np.arange(shape[1]):\n",
    "        temp = _rotate(pair,deg[0,ii]+90)\n",
    "        for jj in np.arange(shape[0]):\n",
    "            temp2 = _shift(temp,shift[jj,ii])\n",
    "            temp3 = _taper(temp2,window)\n",
    "            xc[jj,ii] = _xcorr(temp3)\n",
    "    return deg, shift, xc "
   ]
  },
  {
   "cell_type": "code",
   "execution_count": 3,
   "metadata": {},
   "outputs": [
    {
     "data": {
      "image/png": "[encoded data removed]",
      "text/plain": [
       "<matplotlib.figure.Figure at 0x107015908>"
      ]
     },
     "metadata": {},
     "output_type": "display_data"
    }
   ],
   "source": [
    "# synthetic data\n",
    "ricker = signal.ricker(500, 16.0)\n",
    "pair = np.vstack((ricker,np.zeros(ricker.shape)))\n",
    "noise = np.random.normal(0,.005,pair.shape)\n",
    "splitdata = _split(pair+noise,110,12)\n",
    "\n",
    "def plt_pair(pair):\n",
    "    from matplotlib import gridspec\n",
    "    fig = plt.figure(figsize=(12, 3)) \n",
    "    gs = gridspec.GridSpec(1, 2, width_ratios=[3, 1]) \n",
    "    ax0 = plt.subplot(gs[0])\n",
    "    ax0.plot(pair.T)\n",
    "    ax1 = plt.subplot(gs[1])\n",
    "    ax1.plot(pair[0,:],pair[1,:])\n",
    "    ticks = np.linspace(-np.abs(pair).max(),np.abs(pair).max(),7)\n",
    "    ax1.xaxis.set_ticks(ticks)\n",
    "    ax1.yaxis.set_ticks(ticks)\n",
    "    plt.axis('equal')\n",
    "    plt.show()\n",
    "    \n",
    "plt_pair(splitdata)"
   ]
  },
  {
   "cell_type": "code",
   "execution_count": 4,
   "metadata": {
    "scrolled": true
   },
   "outputs": [
    {
     "data": {
      "image/png": "[encoded data removed]",
      "text/plain": [
       "<matplotlib.figure.Figure at 0x102871588>"
      ]
     },
     "metadata": {},
     "output_type": "display_data"
    }
   ],
   "source": [
    "t1 = splitdata[0,:]\n",
    "sp = np.fft.fft(t1)\n",
    "freq = np.rad2deg(np.fft.fftfreq(t1.shape[-1]))\n",
    "plt.plot(freq, sp.real, freq, sp.imag)\n",
    "plt.xlim(0,10)\n",
    "plt.show()"
   ]
  },
  {
   "cell_type": "code",
   "execution_count": 9,
   "metadata": {
    "collapsed": true
   },
   "outputs": [],
   "source": [
    "np.fft.fft?"
   ]
  },
  {
   "cell_type": "code",
   "execution_count": 5,
   "metadata": {
    "scrolled": true
   },
   "outputs": [
    {
     "data": {
      "image/png": "[encoded data removed]",
      "text/plain": [
       "<matplotlib.figure.Figure at 0x1040295f8>"
      ]
     },
     "metadata": {},
     "output_type": "display_data"
    }
   ],
   "source": [
    "plt_pair(_rotate(pair,30))"
   ]
  },
  {
   "cell_type": "code",
   "execution_count": 6,
   "metadata": {
    "collapsed": true
   },
   "outputs": [],
   "source": [
    "f1 = np.fft.fft(pair[0,:])\n",
    "f2 = np.fft.fft(pair[1,:])"
   ]
  },
  {
   "cell_type": "code",
   "execution_count": 7,
   "metadata": {
    "scrolled": false
   },
   "outputs": [
    {
     "data": {
      "image/png": "[encoded data removed]",
      "text/plain": [
       "<matplotlib.figure.Figure at 0x107346eb8>"
      ]
     },
     "metadata": {},
     "output_type": "display_data"
    }
   ],
   "source": [
    "# Forward and reverse Fourier Transform\n",
    "plt_pair(np.vstack((np.real(np.fft.ifft(f1)),\n",
    "                            np.real(np.fft.ifft(f2)))))"
   ]
  },
  {
   "cell_type": "code",
   "execution_count": 8,
   "metadata": {},
   "outputs": [
    {
     "data": {
      "image/png": "[encoded data removed]",
      "text/plain": [
       "<matplotlib.figure.Figure at 0x10c5c1198>"
      ]
     },
     "metadata": {},
     "output_type": "display_data"
    }
   ],
   "source": [
    "# Rotation in Fourier Domain\n",
    "rf = _rotate(np.vstack((f1,f2)),30)\n",
    "data = np.vstack((np.real(np.fft.ifft(rf[0,:])),\n",
    "                  np.real(np.fft.ifft(rf[1,:]))))\n",
    "plt_pair(data)"
   ]
  },
  {
   "cell_type": "code",
   "execution_count": 9,
   "metadata": {},
   "outputs": [
    {
     "data": {
      "text/plain": [
       "[<matplotlib.lines.Line2D at 0x10d15c908>]"
      ]
     },
     "execution_count": 9,
     "metadata": {},
     "output_type": "execute_result"
    },
    {
     "data": {
      "image/png": "[encoded data removed]",
      "text/plain": [
       "<matplotlib.figure.Figure at 0x10d0332b0>"
      ]
     },
     "metadata": {},
     "output_type": "display_data"
    }
   ],
   "source": [
    "# Shift in the Fourier Domain\n",
    "# t1 = _taper(splitdata,100)[0,:]\n",
    "t1 = pair[0,:]\n",
    "f1 = np.fft.fft(t1)\n",
    "delta = 1\n",
    "# shift must be an integer multiple of delta\n",
    "shift = 0\n",
    "N = f1.size\n",
    "P = np.arange(N) * -(2*np.pi * shift)/(delta * N)  \n",
    "fs = f1 * np.exp(1j*P)\n",
    "t2 = np.real(np.fft.ifft(fs))\n",
    "plt.plot(t1)\n",
    "plt.plot(t2)\n",
    "# plt.plot(fs.real)\n",
    "# plt.plot(fs.imag)\n",
    "# freq = np.rad2deg(np.fft.fftfreq(t1.shape[-1]))\n",
    "# plt.plot(freq, f1.real, freq, f1.imag)\n",
    "# plt.xlim(0,4)\n",
    "# plt.show()\n"
   ]
  },
  {
   "cell_type": "code",
   "execution_count": 87,
   "metadata": {},
   "outputs": [
    {
     "data": {
      "text/plain": [
       "array([ -1.00000000e+00 +1.22464680e-16j,   6.12323400e-17 +1.00000000e+00j])"
      ]
     },
     "execution_count": 87,
     "metadata": {},
     "output_type": "execute_result"
    }
   ],
   "source": [
    "# a = np.array([1,2])\n",
    "b = np.array([np.pi,np.pi/2])\n",
    "np.cos(b) + np.sin(b)*1j"
   ]
  },
  {
   "cell_type": "code",
   "execution_count": 234,
   "metadata": {},
   "outputs": [
    {
     "data": {
      "text/plain": [
       "array([[ 0.00200401,  0.00097217],\n",
       "       [ 0.00097217,  0.00200401]])"
      ]
     },
     "execution_count": 234,
     "metadata": {},
     "output_type": "execute_result"
    }
   ],
   "source": [
    "np.cov(t1,t2)"
   ]
  },
  {
   "cell_type": "code",
   "execution_count": 247,
   "metadata": {},
   "outputs": [
    {
     "data": {
      "text/plain": [
       "[<matplotlib.lines.Line2D at 0x117e099b0>]"
      ]
     },
     "execution_count": 247,
     "metadata": {},
     "output_type": "execute_result"
    },
    {
     "data": {
      "image/png": "[encoded data removed]",
      "text/plain": [
       "<matplotlib.figure.Figure at 0x117c0a668>"
      ]
     },
     "metadata": {},
     "output_type": "display_data"
    }
   ],
   "source": [
    "plt.plot(np.abs(f1)**2)"
   ]
  },
  {
   "cell_type": "code",
   "execution_count": 250,
   "metadata": {},
   "outputs": [
    {
     "data": {
      "text/plain": [
       "[<matplotlib.lines.Line2D at 0x117f49630>]"
      ]
     },
     "execution_count": 250,
     "metadata": {},
     "output_type": "execute_result"
    },
    {
     "data": {
      "image/png": "[encoded data removed]",
      "text/plain": [
       "<matplotlib.figure.Figure at 0x117e4d630>"
      ]
     },
     "metadata": {},
     "output_type": "display_data"
    }
   ],
   "source": [
    "from scipy.signal import welch\n",
    "f, psd = welch(splitdata[0,:],\n",
    "               fs=1.,  # sample rate\n",
    "               window='hanning',   # apply a Hanning window before taking the DFT\n",
    "               nperseg=256,        # compute periodograms of 256-long segments of x\n",
    "               detrend='constant') # detrend x by subtracting the mean\n",
    "plt.plot(f,psd)"
   ]
  },
  {
   "cell_type": "code",
   "execution_count": 10,
   "metadata": {
    "collapsed": true
   },
   "outputs": [],
   "source": [
    "import splitwavepy as sw"
   ]
  },
  {
   "cell_type": "code",
   "execution_count": 60,
   "metadata": {},
   "outputs": [
    {
     "data": {
      "image/png": "[encoded data removed]",
      "text/plain": [
       "<matplotlib.figure.Figure at 0x10c458978>"
      ]
     },
     "metadata": {},
     "output_type": "display_data"
    }
   ],
   "source": [
    "a = sw.SplitWave(pol=40)\n",
    "a.plot()"
   ]
  },
  {
   "cell_type": "code",
   "execution_count": 209,
   "metadata": {},
   "outputs": [],
   "source": [
    "# get fourier traces\n",
    "x = a.x[:-1]\n",
    "y = a.y[:-1]\n",
    "x = x - np.mean(x)\n",
    "y = y - np.mean(y)\n",
    "fx = np.fft.fft(x)\n",
    "fy = np.fft.fft(y)"
   ]
  },
  {
   "cell_type": "code",
   "execution_count": 210,
   "metadata": {},
   "outputs": [],
   "source": [
    "cxy = fx*fy.conj()\n",
    "cyx = fy*fx.conj()\n",
    "cxx = fx*fx.conj()\n",
    "cyy = fy*fy.conj()"
   ]
  },
  {
   "cell_type": "code",
   "execution_count": 211,
   "metadata": {},
   "outputs": [],
   "source": [
    "ixy = np.fft.ifft(cxy)\n",
    "iyx = np.fft.ifft(cyx)\n",
    "ixx = np.fft.ifft(cxx)\n",
    "iyy = np.fft.ifft(cyy)"
   ]
  },
  {
   "cell_type": "code",
   "execution_count": 212,
   "metadata": {},
   "outputs": [
    {
     "data": {
      "text/plain": [
       "[<matplotlib.lines.Line2D at 0x1c12867630>]"
      ]
     },
     "execution_count": 212,
     "metadata": {},
     "output_type": "execute_result"
    },
    {
     "data": {
      "image/png": "[encoded data removed]",
      "text/plain": [
       "<matplotlib.figure.Figure at 0x1c127d9c18>"
      ]
     },
     "metadata": {},
     "output_type": "display_data"
    }
   ],
   "source": [
    "# plt.plot(np.real(ixx))\n",
    "# plt.plot(np.real(iyy))\n",
    "plt.plot(ixy.real)"
   ]
  },
  {
   "cell_type": "code",
   "execution_count": 213,
   "metadata": {},
   "outputs": [
    {
     "data": {
      "text/plain": [
       "[<matplotlib.lines.Line2D at 0x1c128c6358>]"
      ]
     },
     "execution_count": 213,
     "metadata": {},
     "output_type": "execute_result"
    },
    {
     "data": {
      "image/png": "[encoded data removed]",
      "text/plain": [
       "<matplotlib.figure.Figure at 0x1c12700160>"
      ]
     },
     "metadata": {},
     "output_type": "display_data"
    }
   ],
   "source": [
    "plt.plot(np.correlate(x,y,mode='full'))"
   ]
  },
  {
   "cell_type": "code",
   "execution_count": 214,
   "metadata": {},
   "outputs": [
    {
     "data": {
      "text/plain": [
       "array([ -5.55111512e-17])"
      ]
     },
     "execution_count": 214,
     "metadata": {},
     "output_type": "execute_result"
    }
   ],
   "source": [
    "# raw correlation coefficient difference between\n",
    "# fourier method V time domain method\n",
    "ixy.real[0] - np.correlate(x,y)"
   ]
  },
  {
   "cell_type": "code",
   "execution_count": 216,
   "metadata": {},
   "outputs": [
    {
     "data": {
      "text/plain": [
       "array([ -1.11022302e-16])"
      ]
     },
     "execution_count": 216,
     "metadata": {},
     "output_type": "execute_result"
    }
   ],
   "source": [
    "# Pearson Correlation in time domain\n",
    "np.correlate(x, y)/(x.size * np.std(x) * np.std(y)) - np.corrcoef(x, y)[0,1]"
   ]
  },
  {
   "cell_type": "code",
   "execution_count": 219,
   "metadata": {},
   "outputs": [
    {
     "data": {
      "text/plain": [
       "1.1102230246251565e-16"
      ]
     },
     "execution_count": 219,
     "metadata": {},
     "output_type": "execute_result"
    }
   ],
   "source": [
    "# np.corrcoef(a.x, a.y)\n",
    "np.var(x)*(x.size) - ixx.real[0]"
   ]
  },
  {
   "cell_type": "code",
   "execution_count": 222,
   "metadata": {},
   "outputs": [
    {
     "data": {
      "text/plain": [
       "array([  9.99925535e-01,   1.00004252e+00,   1.00016052e+00,\n",
       "         1.00028012e+00,   1.00040194e+00,   1.00052663e+00,\n",
       "         1.00065487e+00,   1.00078738e+00,   1.00092498e+00,\n",
       "         1.00106856e+00,   1.00121914e+00,   1.00137791e+00,\n",
       "         1.00154621e+00,   1.00172565e+00,   1.00191816e+00,\n",
       "         1.00212604e+00,   1.00235210e+00,   1.00259982e+00,\n",
       "         1.00287356e+00,   1.00317885e+00,   1.00352282e+00,\n",
       "         1.00391487e+00,   1.00436759e+00,   1.00489833e+00,\n",
       "         1.00553165e+00,   1.00630353e+00,   1.00726887e+00,\n",
       "         1.00851597e+00,   1.01019636e+00,   1.01259400e+00,\n",
       "         1.01631030e+00,   1.02288035e+00,   1.03773448e+00,\n",
       "         1.10400785e+00,   8.57490738e-01,   9.57435441e-01,\n",
       "         9.74920811e-01,   9.82217322e-01,   9.86235921e-01,\n",
       "         9.88790291e-01,   9.90564688e-01,   9.91874670e-01,\n",
       "         9.92885950e-01,   9.93693900e-01,   9.94357294e-01,\n",
       "         9.94914323e-01,   9.95390882e-01,   9.95805144e-01,\n",
       "         9.96170242e-01,   9.96495898e-01,   9.96789463e-01,\n",
       "         9.97056597e-01,   9.97301724e-01,   9.97528354e-01,\n",
       "         9.97739303e-01,   9.97936854e-01,   9.98122876e-01,\n",
       "         9.98298908e-01,   9.98466231e-01,   9.98625910e-01,\n",
       "         9.98778840e-01,   9.98925770e-01,   9.99067330e-01,\n",
       "         9.99204050e-01,   9.99336373e-01,   9.99464668e-01,\n",
       "         9.99589239e-01,   9.99710334e-01,   9.99828152e-01,\n",
       "         9.99942846e-01,   1.00005453e+00,   1.00016328e+00,\n",
       "         1.00026914e+00,   1.00037214e+00,   1.00047224e+00,\n",
       "         1.00056942e+00,   1.00066361e+00,   1.00075473e+00,\n",
       "         1.00084268e+00,   1.00092732e+00,   1.00100852e+00,\n",
       "         1.00108612e+00,   1.00115994e+00,   1.00122980e+00,\n",
       "         1.00129551e+00,   1.00135684e+00,   1.00141357e+00,\n",
       "         1.00146549e+00,   1.00151234e+00,   1.00155388e+00,\n",
       "         1.00158988e+00,   1.00162008e+00,   1.00164427e+00,\n",
       "         1.00166222e+00,   1.00167377e+00,   1.00167885e+00,\n",
       "         1.00167751e+00,   1.00167011e+00,   1.00165753e+00,\n",
       "         1.00164178e+00,   1.00162740e+00,   1.00162523e+00,\n",
       "         1.00166481e+00,   1.00184674e+00,   1.00269222e+00,\n",
       "         1.01250859e+00,   1.03016122e+00,   1.00351454e+00,\n",
       "         1.00179659e+00,   1.00121896e+00,   1.00087644e+00,\n",
       "         1.00060492e+00,   1.00035546e+00,   1.00010884e+00,\n",
       "         9.99855990e-01,   9.99591947e-01,   9.99313652e-01,\n",
       "         9.99019009e-01,   9.98706452e-01,   9.98374721e-01,\n",
       "         9.98022746e-01,   9.97649579e-01,   9.97254354e-01,\n",
       "         9.96836270e-01,   9.96394570e-01,   9.95928539e-01,\n",
       "         9.95437498e-01,   9.94920803e-01,   9.94377849e-01,\n",
       "         9.93808065e-01,   9.93210928e-01,   9.92585956e-01,\n",
       "         9.91932723e-01,   9.91250861e-01,   9.90540067e-01,\n",
       "         9.89800108e-01,   9.89030836e-01,   9.88232189e-01,\n",
       "         9.87404207e-01,   9.86547035e-01,   9.85660940e-01,\n",
       "         9.84746317e-01,   9.83803705e-01,   9.82833796e-01,\n",
       "         9.81837452e-01,   9.80815717e-01,   9.79769835e-01,\n",
       "         9.78701266e-01,   9.77611705e-01,   9.76503102e-01,\n",
       "         9.75377682e-01,   9.74237971e-01,   9.73086818e-01,\n",
       "         9.71927422e-01,   9.70763359e-01,   9.69598610e-01,\n",
       "         9.68437593e-01,   9.67285190e-01,   9.66146783e-01,\n",
       "         9.65028283e-01,   9.63936162e-01,   9.62877490e-01,\n",
       "         9.61859965e-01,   9.60891943e-01,   9.59982474e-01,\n",
       "         9.59141329e-01,   9.58379027e-01,   9.57706858e-01,\n",
       "         9.57136903e-01,   9.56682044e-01,   9.56355973e-01,\n",
       "         9.56173181e-01,   9.56148948e-01,   9.56299312e-01,\n",
       "         9.56641031e-01,   9.57191534e-01,   9.57968861e-01,\n",
       "         9.58991606e-01,   9.60278863e-01,   9.61850205e-01,\n",
       "         9.63725705e-01,   9.65926047e-01,   9.68472763e-01,\n",
       "         9.71388662e-01,   9.74698537e-01,   9.78430235e-01,\n",
       "         9.82616219e-01,   9.87295768e-01,   9.92517953e-01,\n",
       "         9.98345586e-01,   1.00486031e+00,   1.01216907e+00,\n",
       "         1.02041213e+00,   1.02977312e+00,   1.04049130e+00,\n",
       "         1.05287716e+00,   1.06733223e+00,   1.08437561e+00,\n",
       "         1.10468079e+00,   1.12912929e+00,   1.15889258e+00,\n",
       "         1.19556294e+00,   1.24137299e+00,   1.29958365e+00,\n",
       "         1.37521605e+00,   1.47655130e+00,   1.61856714e+00,\n",
       "         1.83216916e+00,   2.19593938e+00,   3.00929472e+00,\n",
       "         1.15936353e+01,   4.32073676e-13,   5.77131492e-15,\n",
       "         4.90561237e-14,   1.34609729e-14,   1.79706639e-14,\n",
       "         6.36547743e-15,   7.55780491e-15,   9.36025731e-15,\n",
       "         1.27223431e-14,   1.00199361e-14,   3.44536265e-15,\n",
       "        -1.94307689e-15,   2.22252568e-15,   4.81073201e-15,\n",
       "         1.38127786e-15,   7.35717908e-15,   6.72310116e-15,\n",
       "         1.08518292e-15,   1.53344133e-15,   2.90784041e-15,\n",
       "         4.71420792e-15,   3.47330941e-15,   3.06496482e-15,\n",
       "         6.70981866e-15,  -3.76104530e-15,   2.18238813e-15,\n",
       "         2.70343643e-15,  -9.04378252e-16,   5.12815941e-15,\n",
       "        -2.26159674e-15,   2.56928984e-15,   2.79798469e-15,\n",
       "         2.45133903e-15,   1.80859875e-15,  -1.80560734e-15,\n",
       "        -2.04626299e-15,  -1.20798081e-15,   2.69598261e-15,\n",
       "         4.07531612e-15,   4.15211474e-15,   6.21438165e-15,\n",
       "        -8.63589199e-16,  -1.96560657e-15,   8.57446209e-15,\n",
       "        -2.49846181e-15,   8.37462672e-15,   2.23052215e-15,\n",
       "         7.29404602e-15,   8.65859127e-15,   4.66512323e-16,\n",
       "         2.15350881e-14,   2.08942812e-14,   2.64220958e-14,\n",
       "         4.79051977e-16,   2.72258971e-14,   1.66478496e-14,\n",
       "         2.17113516e-14,   7.68936856e-13,   3.41350322e+00,\n",
       "         1.83400356e+00,   1.56355099e+00,   1.56280072e+00,\n",
       "         1.85087190e+00,   4.24340148e+00,   6.68295961e-13,\n",
       "         1.15416132e-13,   3.89668375e-14,   8.37183591e-14,\n",
       "         2.10082156e-14,   3.64375011e-14,   3.37713019e-14,\n",
       "         1.52835453e-14,   2.56541297e-14,   1.11437206e-14,\n",
       "         6.22988675e-15,   6.96012605e-15,   3.80551974e-15,\n",
       "         1.29456085e-14,   2.16477758e-14,   3.85743858e-15,\n",
       "         2.21802348e-14,   6.82983060e-15,   4.36698301e-16,\n",
       "        -3.53281932e-16,   8.85132672e-15,   7.06143220e-15,\n",
       "         1.50784675e-14,   7.64605983e-15,   7.44392990e-15,\n",
       "         1.30201851e-14,   6.94709979e-15,   1.32073865e-15,\n",
       "         4.20148981e-15,   8.37604871e-15,   9.93452747e-15,\n",
       "         8.60218522e-15,   8.58361060e-15,   2.96919003e-15,\n",
       "         6.00385322e-15,   1.25148126e-15,   4.55152853e-15,\n",
       "         6.20274066e-15,   2.09827933e-15,   5.66486554e-16,\n",
       "        -2.93414636e-15,  -5.15902059e-15,  -5.10349464e-15,\n",
       "        -3.61326561e-15,  -1.77499254e-14,  -3.14139489e-14,\n",
       "        -3.40861022e-14,  -6.33397244e-14,  -9.35761271e-14,\n",
       "        -1.12060356e-13,  -2.99520927e-13,  -3.74415888e-13,\n",
       "        -5.03416026e-13,  -2.23880277e-12,  -6.62470798e-12,\n",
       "        -1.29763419e+01,  -6.74704253e+00,  -6.06867427e+00,\n",
       "        -6.30355264e+00,  -7.34703864e+00,  -1.05603396e+01,\n",
       "        -1.21434802e-10,  -8.95554201e-12,  -1.98214703e-12,\n",
       "        -1.60375439e-12,  -1.20805646e-12,  -3.56988356e-13,\n",
       "        -4.40026849e-13,   1.85383939e-13,  -4.01155906e-13,\n",
       "        -4.80391330e-13,  -2.84452470e-13,  -1.00913054e-13,\n",
       "        -2.78558700e-13,  -1.75892630e-13,  -3.37580548e-13,\n",
       "        -3.38313572e-13,  -3.16921086e-13,  -2.80913460e-13,\n",
       "        -3.40652450e-13,  -1.64173896e-13,  -4.13143037e-13,\n",
       "        -3.35641060e-13,  -4.14607732e-13,  -4.35714066e-13,\n",
       "        -5.40167402e-13,  -6.71413999e-13,  -7.53544156e-13,\n",
       "        -6.87711707e-13,  -7.68670243e-13,  -8.50079833e-13,\n",
       "        -1.11981783e-12,  -1.17514659e-12,  -1.10052993e-12,\n",
       "        -6.42737511e-13,  -1.42268637e-12,  -1.35913417e-12,\n",
       "        -1.06842425e-12,  -2.17117831e-13,  -2.68720230e-13,\n",
       "        -9.64699956e-14,  -4.47798812e-12,   3.30516535e+00,\n",
       "        -2.93944521e+00,   2.85237903e+00,  -2.79396702e+00,\n",
       "         2.72991666e+00,   2.65649940e+00,   2.57613629e+00,\n",
       "        -2.49198887e+00,  -2.40665967e+00,  -2.32200277e+00,\n",
       "        -2.23923292e+00,  -2.15908776e+00,  -2.08197122e+00,\n",
       "        -2.00806334e+00,  -1.93739916e+00,  -1.86992353e+00,\n",
       "        -1.80552852e+00,  -1.74407872e+00,  -1.68542825e+00,\n",
       "        -1.62943255e+00,  -1.57595662e+00,  -1.52488140e+00,\n",
       "        -1.47610930e+00,  -1.42956985e+00,  -1.38522648e+00,\n",
       "        -1.34308549e+00,  -1.30320899e+00,  -1.26573440e+00,\n",
       "        -1.23090509e+00,  -1.19912040e+00,  -1.17102119e+00,\n",
       "        -1.14764435e+00,  -1.13072100e+00,  -1.12330509e+00,\n",
       "        -1.13126227e+00,  -1.16743816e+00,  -1.26683670e+00,\n",
       "        -1.57845956e+00,  -2.90945641e-10,  -1.89423309e-12,\n",
       "        -5.32829949e-13,  -2.01819999e-13,  -5.52969194e-14,\n",
       "        -2.33438304e-14,  -1.09139395e-15,  -3.47958369e-15,\n",
       "        -2.34950196e-14,  -3.31373029e-14,  -6.65093907e-14,\n",
       "        -1.38498266e-13,  -2.66602835e-13,  -5.56081722e-13,\n",
       "        -1.59226913e-12,  -1.14802209e-11,  -7.38014207e-01,\n",
       "        -4.32867358e-01,  -3.10134602e-01,  -2.30999719e-01,\n",
       "        -1.69596791e-01,  -1.17065603e-01,  -6.94374636e-02,\n",
       "        -2.46185547e-02,   1.86354688e-02,   6.11411679e-02,\n",
       "         1.03485670e-01,   1.46130492e-01,   1.89471461e-01,\n",
       "         2.33877107e-01,   2.79716449e-01,   3.27382219e-01,\n",
       "         3.77313357e-01,   4.30019904e-01,   4.86113446e-01,\n",
       "         5.46347159e-01,   6.11671342e-01,   6.83313704e-01,\n",
       "         7.62900022e-01,   8.52642676e-01,   9.55648349e-01,\n",
       "         1.07644639e+00,   1.22195427e+00,   1.40338580e+00,\n",
       "         1.64043473e+00,   1.97186926e+00,   2.48888359e+00,\n",
       "         3.48880801e+00,   7.47652127e+00,   6.88893855e-12,\n",
       "         1.70622762e-12,   3.69224514e-13,  -3.43852976e-13,\n",
       "        -1.34943102e-12,  -8.82190281e-12,  -6.79265972e+00,\n",
       "        -2.78928198e+00,  -1.84777376e+00,  -1.35731043e+00,\n",
       "        -1.03889372e+00,  -8.07974349e-01,  -6.28644237e-01,\n",
       "        -4.82624546e-01,  -3.59477823e-01,  -2.52748945e-01,\n",
       "        -1.58203716e-01,  -7.29362259e-02,   5.12066960e-03,\n",
       "         7.74808936e-02,   1.45280239e-01,   2.09388241e-01,\n",
       "         2.70482184e-01,   3.29097551e-01,   3.85663322e-01,\n",
       "         4.40527250e-01,   4.93974366e-01,   5.46240776e-01,\n",
       "         5.97524159e-01,   6.47991896e-01,   6.97787487e-01,\n",
       "         7.47035706e-01,   7.95846844e-01,   8.44320257e-01,\n",
       "         8.92547437e-01,   9.40614718e-01,   9.88605755e-01,\n",
       "        -1.03660387e+00,   1.08469432e+00,   1.13296670e+00,\n",
       "         1.18151734e+00,   1.23045202e+00,   1.27988906e+00,\n",
       "         1.32996280e+00,   1.38082783e+00,   1.43266411e+00,\n",
       "         1.48568331e+00,   1.54013686e+00,   1.59632628e+00,\n",
       "         1.65461667e+00,   1.71545477e+00,   1.77939328e+00,\n",
       "         1.84712467e+00,   1.91952874e+00,   1.99774151e+00,\n",
       "         2.08325737e+00,   2.17808544e+00,   2.28499758e+00,\n",
       "         2.40793854e+00,   2.55273978e+00,   2.72844266e+00,\n",
       "         2.94995539e+00,   3.24398426e+00,   3.66437969e+00,\n",
       "         4.34179396e+00,   5.72246311e+00,   1.21671773e+01,\n",
       "        -9.13880050e-13,   6.17289611e-13,  -1.52950106e-13,\n",
       "        -2.12394360e-13,  -9.09175610e-15,   2.56864326e-13,\n",
       "        -3.34951887e+00,  -9.73389314e-01,  -2.69299138e-01,\n",
       "         1.31182043e-01,   4.05812465e-01,   6.12910425e-01,\n",
       "         7.78688996e-01,   9.17110480e-01,   1.03646252e+00,\n",
       "         1.14205567e+00,   1.23749776e+00,   1.32536030e+00,\n",
       "         1.40755538e+00,   1.48556310e+00,   1.56057725e+00,\n",
       "         1.63360435e+00,   1.70553617e+00,   1.77720756e+00,\n",
       "         1.84944841e+00,   1.92313653e+00,   1.99925883e+00,\n",
       "         2.07899057e+00,   2.16380685e+00,   2.25565129e+00,\n",
       "         2.35720624e+00,   2.47235218e+00,   2.60699982e+00,\n",
       "         2.77071610e+00,   2.98022328e+00,   3.26797524e+00,\n",
       "         3.70756481e+00,   4.51654943e+00,   6.87931788e+00,\n",
       "         7.52691840e-11,   8.08539098e-12,   2.74426278e-12,\n",
       "         1.64768695e-12,   7.06649380e-13,   4.61705234e-13,\n",
       "         2.02208511e-13,   6.21940946e-14,   2.65843021e-14,\n",
       "         1.10413666e-16,   1.40121207e-14,   9.03612309e-14,\n",
       "        -2.08409482e-14,  -8.23085546e-14,   1.82522270e-12,\n",
       "         3.02183720e-10,   5.11105296e+00,  -4.02020261e+00,\n",
       "        -3.62714026e+00,   3.43935732e+00,   3.34127665e+00,\n",
       "         3.29057751e+00,   3.26797854e+00,   3.26344977e+00,\n",
       "         3.27129118e+00,   3.28805768e+00,   3.31157585e+00,\n",
       "         3.34043576e+00,   3.37370977e+00,   3.41078835e+00,\n",
       "         3.45127966e+00,  -3.49494557e+00,   3.54165938e+00,\n",
       "         3.59137644e+00,   3.64411262e+00,   3.69992715e+00,\n",
       "        -3.75890711e+00,  -3.82115155e+00,   3.88675282e+00,\n",
       "         3.95577262e+00,  -4.02820917e+00,   4.10395102e+00,\n",
       "         4.18271138e+00,   4.26393473e+00,   4.34666606e+00,\n",
       "         4.42937353e+00,   4.50972320e+00,   4.58433438e+00,\n",
       "         4.64863612e+00,   4.69721942e+00,   4.72595716e+00,\n",
       "         4.74053805e+00,   4.79441145e+00,   5.27552448e+00,\n",
       "         3.97597436e-11,  -1.62857291e-13,   4.25766203e-13,\n",
       "         1.10411431e-12,   8.80498677e-13,   9.81476166e-13,\n",
       "         9.65831085e-13,   1.71677157e-12,   1.50370176e-12,\n",
       "         1.54917726e-12,   8.33379273e-13,   1.06066235e-12,\n",
       "         9.66715191e-13,   6.96304202e-13,   2.23812129e-13,\n",
       "         3.55811598e-13,   4.29232834e-13,   4.06302586e-13,\n",
       "         4.29220810e-13,   2.62405951e-13,   2.33892511e-13,\n",
       "         1.51404651e-13,   4.35614295e-14,   1.59093214e-13,\n",
       "         3.25154895e-13,   1.54529578e-13,   1.02394936e-13,\n",
       "         1.30095370e-13,   3.44665914e-13,  -4.65626268e-14,\n",
       "         4.18419372e-14,   2.46900260e-13,   5.54627356e-14,\n",
       "         1.82418980e-13,   3.09065799e-14,   3.44105758e-16,\n",
       "         4.48152401e-14,   7.69503750e-13,   1.34440912e-12,\n",
       "         4.57903476e-12,   5.76015405e-11,   1.33089550e+01,\n",
       "         9.46925574e+00,   8.34274849e+00,   8.28563818e+00,\n",
       "         9.55153019e+00,   1.91566298e+01,   5.09118712e-12,\n",
       "         4.09396877e-13,   8.18616781e-13,   3.39365708e-13,\n",
       "         2.32766019e-13,   2.99691172e-13,   7.78048395e-14,\n",
       "         1.31701927e-14,   6.21479929e-14,   1.37030921e-15,\n",
       "         2.58911160e-14,  -2.30096617e-14,  -8.53538156e-15,\n",
       "        -1.87527927e-14,   5.56753127e-14,   1.99893983e-14,\n",
       "         1.04126876e-14,   2.08371109e-14,  -9.80137533e-15,\n",
       "         2.12189871e-14,   2.15507806e-14,  -1.16813941e-14,\n",
       "         1.25816227e-14,   1.50943523e-14,   2.51497428e-14,\n",
       "         8.75786762e-15,   4.41516469e-15,   6.86645465e-15,\n",
       "         1.79345093e-14,   1.48003929e-15,   9.08448718e-15,\n",
       "         2.66931015e-14,   3.62921215e-14,   1.10145256e-15,\n",
       "         1.59968898e-14,   1.14763314e-14,   1.61896625e-14,\n",
       "        -8.66174339e-16,   1.97308343e-14,   1.81129111e-14,\n",
       "         4.85165087e-14,   1.25856693e-16,   3.14344050e-14,\n",
       "         3.40729272e-14,   2.82770017e-15,  -1.20767255e-14,\n",
       "         3.80770581e-14,   5.24983275e-15,   2.66767351e-14,\n",
       "         1.76806490e-14,   8.47154051e-14,   1.28720808e-13,\n",
       "         3.34240442e-14,   3.63314305e-13,   1.36543286e-12,\n",
       "         4.36981206e+00,   1.47413053e+00,   8.78102224e-01,\n",
       "         5.15436287e-01,   1.89486038e-01,  -3.88602805e-01,\n",
       "        -2.53817645e-13,  -8.32651108e-14,  -5.40102513e-14,\n",
       "        -4.48026569e-15,   7.64775678e-15,  -4.72867674e-15,\n",
       "         2.07386952e-14,   6.55713382e-16,   5.33299572e-15,\n",
       "         1.03435296e-14,   1.06715560e-14,   9.08611027e-15,\n",
       "         1.55901746e-14,   2.01636774e-14,   6.32051468e-15,\n",
       "        -1.70782637e-15,  -1.30662859e-15,   9.34262657e-15,\n",
       "        -4.51703262e-15,   1.12204172e-14,   1.15550046e-14,\n",
       "         5.65376365e-16,  -2.10641622e-15,   1.08014421e-14,\n",
       "         3.09048699e-15,   2.31469969e-15,  -1.71545818e-15,\n",
       "         5.02037765e-15,   2.00815555e-15,   3.73159598e-15,\n",
       "         2.41319832e-15,  -4.49591439e-15,   1.75153826e-15,\n",
       "         2.97660045e-15,   1.47437219e-15,   1.57783803e-15,\n",
       "        -2.44866221e-15,  -1.20461143e-15,  -8.73616889e-16,\n",
       "        -4.88254829e-15,  -8.95043473e-16,  -1.87246544e-15,\n",
       "        -1.02083814e-15,  -3.19323126e-15,  -1.96015990e-15,\n",
       "        -2.73342498e-15,  -1.45782595e-15,  -2.17519064e-15,\n",
       "        -8.17183727e-16,  -3.67313837e-16,   6.73776488e-16,\n",
       "         2.87905880e-15,   4.25252878e-15,   1.32820397e-14,\n",
       "         2.19526242e-14,   4.62493905e-14,   9.31965441e-14,\n",
       "         4.08865622e-13,   3.88583335e+00,   1.13262697e+00,\n",
       "         9.17679551e-01,   8.42039921e-01,   8.11329011e-01,\n",
       "         8.01371788e-01,   8.02818691e-01,   8.11163356e-01,\n",
       "         8.23887306e-01,   8.39416108e-01,   8.56674424e-01,\n",
       "         8.74876208e-01,   8.93419091e-01,   9.11828999e-01,\n",
       "         9.29730231e-01,   9.46828586e-01,   9.62900902e-01,\n",
       "         9.77787382e-01,   9.91384754e-01,   1.00363935e+00,\n",
       "         1.01453986e+00,   1.02410981e+00,   1.03240007e+00,\n",
       "         1.03948181e+00,   1.04543996e+00,   1.05036762e+00,\n",
       "         1.05436144e+00,   1.05751791e+00,   1.05993060e+00,\n",
       "         1.06168822e+00,   1.06287337e+00,   1.06356183e+00,\n",
       "         1.06382231e+00,   1.06371649e+00,   1.06329929e+00,\n",
       "         1.06261928e+00,   1.06171917e+00,   1.06063636e+00,\n",
       "         1.05940344e+00,   1.05804873e+00,   1.05659676e+00,\n",
       "         1.05506872e+00,   1.05348285e+00,   1.05185481e+00,\n",
       "         1.05019804e+00,   1.04852397e+00,   1.04684237e+00,\n",
       "         1.04516149e+00,   1.04348829e+00,   1.04182864e+00,\n",
       "         1.04018742e+00,   1.03856869e+00,   1.03697581e+00,\n",
       "         1.03541152e+00,   1.03387805e+00,   1.03237719e+00,\n",
       "         1.03091038e+00,   1.02947874e+00,   1.02808314e+00,\n",
       "         1.02672424e+00,   1.02540250e+00,   1.02411827e+00,\n",
       "         1.02287175e+00,   1.02166305e+00,   1.02049217e+00,\n",
       "         1.01935906e+00,   1.01826358e+00,   1.01720552e+00,\n",
       "         1.01618463e+00,   1.01520059e+00,   1.01425302e+00,\n",
       "         1.01334149e+00,   1.01246553e+00,   1.01162460e+00,\n",
       "         1.01081814e+00,   1.01004553e+00,   1.00930610e+00,\n",
       "         1.00859917e+00,   1.00792400e+00,   1.00727985e+00,\n",
       "         1.00666596e+00,   1.00608153e+00,   1.00552577e+00,\n",
       "         1.00499789e+00,   1.00449711e+00,   1.00402264e+00,\n",
       "         1.00357375e+00,   1.00314968e+00,   1.00274977e+00,\n",
       "         1.00237336e+00,   1.00201986e+00,   1.00168879e+00,\n",
       "         1.00137974e+00,   1.00109249e+00,   1.00082702e+00,\n",
       "         1.00058369e+00,   1.00036345e+00,   1.00016832e+00,\n",
       "         1.00000239e+00,   9.99874166e-01,   9.99802876e-01,\n",
       "         9.99838932e-01,   1.00015229e+00,   1.00167345e+00,\n",
       "         1.02846153e+00,   1.00963013e+00,   9.99902854e-01,\n",
       "         9.98955332e-01,   9.98660996e-01,   9.98519620e-01,\n",
       "         9.98435752e-01,   9.98381279e-01,   9.98345529e-01,\n",
       "         9.98323644e-01,   9.98313051e-01,   9.98312193e-01,\n",
       "         9.98320007e-01,   9.98335695e-01,   9.98358606e-01,\n",
       "         9.98388184e-01,   9.98423936e-01,   9.98465414e-01,\n",
       "         9.98512210e-01,   9.98563949e-01,   9.98620287e-01,\n",
       "         9.98680908e-01,   9.98745526e-01,   9.98813883e-01,\n",
       "         9.98885747e-01,   9.98960916e-01,   9.99039213e-01,\n",
       "         9.99120489e-01,   9.99204620e-01,   9.99291508e-01,\n",
       "         9.99381081e-01,   9.99473290e-01,   9.99568114e-01,\n",
       "         9.99665554e-01,   9.99765635e-01,   9.99868410e-01,\n",
       "         9.99973955e-01,   1.00008238e+00,   1.00019380e+00,\n",
       "         1.00030841e+00,   1.00042638e+00,   1.00054796e+00,\n",
       "         1.00067343e+00,   1.00080311e+00,   1.00093741e+00,\n",
       "         1.00107676e+00,   1.00122171e+00,   1.00137288e+00,\n",
       "         1.00153102e+00,   1.00169702e+00,   1.00187193e+00,\n",
       "         1.00205701e+00,   1.00225379e+00,   1.00246412e+00,\n",
       "         1.00269028e+00,   1.00293507e+00,   1.00320199e+00,\n",
       "         1.00349546e+00,   1.00382116e+00,   1.00418645e+00,\n",
       "         1.00460108e+00,   1.00507822e+00,   1.00563612e+00,\n",
       "         1.00630077e+00,   1.00711052e+00,   1.00812441e+00,\n",
       "         1.00943826e+00,   1.01121861e+00,   1.01378274e+00,\n",
       "         1.01781920e+00,   1.02515512e+00,   1.04276947e+00,\n",
       "         1.14436895e+00,   8.96553938e-01,   9.62259452e-01,\n",
       "         9.77076716e-01,   9.83640514e-01,   9.87355578e-01,\n",
       "         9.89752921e-01,   9.91433005e-01,   9.92679490e-01,\n",
       "         9.93643829e-01,   9.94414266e-01,   9.95045707e-01,\n",
       "         9.95574119e-01,   9.96024055e-01,   9.96412864e-01,\n",
       "         9.96753159e-01,   9.97054347e-01,   9.97323592e-01,\n",
       "         9.97566460e-01,   9.97787351e-01,   9.97989800e-01,\n",
       "         9.98176689e-01,   9.98350402e-01,   9.98512936e-01,\n",
       "         9.98665990e-01,   9.98811019e-01,   9.98949293e-01,\n",
       "         9.99081928e-01,   9.99209916e-01,   9.99334152e-01,\n",
       "         9.99455449e-01,   9.99574557e-01,   9.99692173e-01,\n",
       "         9.99808956e-01])"
      ]
     },
     "execution_count": 222,
     "metadata": {},
     "output_type": "execute_result"
    }
   ],
   "source": [
    "n = x.size\n",
    "((ixy.real / ixy.size) / \\\n",
    " (np.sqrt(ixx/ixx.size) * np.sqrt(iyy/iyy.size))).real"
   ]
  },
  {
   "cell_type": "code",
   "execution_count": 189,
   "metadata": {},
   "outputs": [
    {
     "data": {
      "text/plain": [
       "array([ 0.00049218,  0.00049163,  0.00048989, ...,  0.00048661,\n",
       "        0.00048966,  0.00049152])"
      ]
     },
     "execution_count": 189,
     "metadata": {},
     "output_type": "execute_result"
    }
   ],
   "source": [
    "ixy.real / ixy.size"
   ]
  },
  {
   "cell_type": "code",
   "execution_count": 148,
   "metadata": {},
   "outputs": [
    {
     "data": {
      "text/plain": [
       "0.586322878010479"
      ]
     },
     "execution_count": 148,
     "metadata": {},
     "output_type": "execute_result"
    }
   ],
   "source": [
    "ixx.real[0]"
   ]
  },
  {
   "cell_type": "code",
   "execution_count": 170,
   "metadata": {},
   "outputs": [
    {
     "data": {
      "text/plain": [
       "array([ 0.58632288])"
      ]
     },
     "execution_count": 170,
     "metadata": {},
     "output_type": "execute_result"
    }
   ],
   "source": [
    "np.correlate(a.x, a.x)"
   ]
  },
  {
   "cell_type": "code",
   "execution_count": 169,
   "metadata": {},
   "outputs": [
    {
     "data": {
      "text/plain": [
       "0.58632152133470516"
      ]
     },
     "execution_count": 169,
     "metadata": {},
     "output_type": "execute_result"
    }
   ],
   "source": [
    "np.var(a.x)*(a.x.size)"
   ]
  },
  {
   "cell_type": "code",
   "execution_count": 203,
   "metadata": {},
   "outputs": [
    {
     "data": {
      "text/plain": [
       "array([  5.86322868e-01,   5.85608256e-01,   5.83466894e-01,\n",
       "         5.79906088e-01,   5.74937978e-01,   5.68579488e-01,\n",
       "         5.60852245e-01,   5.51782488e-01,   5.41400952e-01,\n",
       "         5.29742730e-01,   5.16847123e-01,   5.02757468e-01,\n",
       "         4.87520947e-01,   4.71188389e-01,   4.53814048e-01,\n",
       "         4.35455370e-01,   4.16172753e-01,   3.96029288e-01,\n",
       "         3.75090499e-01,   3.53424063e-01,   3.31099537e-01,\n",
       "         3.08188068e-01,   2.84762101e-01,   2.60895092e-01,\n",
       "         2.36661209e-01,   2.12135038e-01,   1.87391290e-01,\n",
       "         1.62504512e-01,   1.37548801e-01,   1.12597521e-01,\n",
       "         8.77230302e-02,   6.29964162e-02,   3.84872385e-02,\n",
       "         1.42632820e-02,   9.60967749e-03,   3.30680958e-02,\n",
       "         5.60508700e-02,   7.84995336e-02,   1.00358437e-01,\n",
       "         1.21574912e-01,   1.42099424e-01,   1.61885699e-01,\n",
       "         1.80890848e-01,   1.99075460e-01,   2.16403687e-01,\n",
       "         2.32843307e-01,   2.48365779e-01,   2.62946264e-01,\n",
       "         2.76563650e-01,   2.89200541e-01,   3.00843246e-01,\n",
       "         3.11481743e-01,   3.21109627e-01,   3.29724053e-01,\n",
       "         3.37325654e-01,   3.43918455e-01,   3.49509765e-01,\n",
       "         3.54110070e-01,   3.57732900e-01,   3.60394701e-01,\n",
       "         3.62114691e-01,   3.62914702e-01,   3.62819031e-01,\n",
       "         3.61854267e-01,   3.60049128e-01,   3.57434281e-01,\n",
       "         3.54042170e-01,   3.49906836e-01,   3.45063734e-01,\n",
       "         3.39549554e-01,   3.33402042e-01,   3.26659818e-01,\n",
       "         3.19362202e-01,   3.11549038e-01,   3.03260527e-01,\n",
       "         2.94537055e-01,   2.85419041e-01,   2.75946774e-01,\n",
       "         2.66160268e-01,   2.56099118e-01,   2.45802364e-01,\n",
       "         2.35308367e-01,   2.24654682e-01,   2.13877952e-01,\n",
       "         2.03013802e-01,   1.92096742e-01,   1.81160083e-01,\n",
       "         1.70235856e-01,   1.59354747e-01,   1.48546031e-01,\n",
       "         1.37837523e-01,   1.27255536e-01,   1.16824841e-01,\n",
       "         1.06568646e-01,   9.65085709e-02,   8.66646397e-02,\n",
       "         7.70552754e-02,   6.76973025e-02,   5.86059565e-02,\n",
       "         4.97948999e-02,   4.12762436e-02,   3.30605744e-02,\n",
       "         2.51569872e-02,   1.75731219e-02,   1.03152054e-02,\n",
       "         3.38809665e-03,   3.20466450e-03,   9.46080487e-03,\n",
       "         1.53792633e-02,   2.09601334e-02,   2.62046046e-02,\n",
       "         3.11149009e-02,   3.56942196e-02,   3.99466683e-02,\n",
       "         4.38772012e-02,   4.74915566e-02,   5.07961931e-02,\n",
       "         5.37982267e-02,   5.65053696e-02,   5.89258684e-02,\n",
       "         6.10684453e-02,   6.29422391e-02,   6.45567492e-02,\n",
       "         6.59217808e-02,   6.70473923e-02,   6.79438446e-02,\n",
       "         6.86215530e-02,   6.90910411e-02,   6.93628970e-02,\n",
       "         6.94477323e-02,   6.93561432e-02,   6.90986745e-02,\n",
       "         6.86857851e-02,   6.81278175e-02,   6.74349680e-02,\n",
       "         6.66172607e-02,   6.56845230e-02,   6.46463640e-02,\n",
       "         6.35121543e-02,   6.22910090e-02,   6.09917720e-02,\n",
       "         5.96230023e-02,   5.81929629e-02,   5.67096110e-02,\n",
       "         5.51805898e-02,   5.36132224e-02,   5.20145071e-02,\n",
       "         5.03911139e-02,   4.87493829e-02,   4.70953236e-02,\n",
       "         4.54346157e-02,   4.37726108e-02,   4.21143350e-02,\n",
       "         4.04644933e-02,   3.88274736e-02,   3.72073527e-02,\n",
       "         3.56079019e-02,   3.40325943e-02,   3.24846116e-02,\n",
       "         3.09668520e-02,   2.94819381e-02,   2.80322257e-02,\n",
       "         2.66198119e-02,   2.52465444e-02,   2.39140302e-02,\n",
       "         2.26236450e-02,   2.13765421e-02,   2.01736624e-02,\n",
       "         1.90157433e-02,   1.79033286e-02,   1.68367780e-02,\n",
       "         1.58162766e-02,   1.48418451e-02,   1.39133485e-02,\n",
       "         1.30305069e-02,   1.21929040e-02,   1.13999971e-02,\n",
       "         1.06511262e-02,   9.94552305e-03,   9.28231995e-03,\n",
       "         8.66055838e-03,   8.07919727e-03,   7.53712101e-03,\n",
       "         7.03314715e-03,   6.56603384e-03,   6.13448698e-03,\n",
       "         5.73716707e-03,   5.37269591e-03,   5.03966298e-03,\n",
       "         4.73663165e-03,   4.46214528e-03,   4.21473302e-03,\n",
       "         3.99291551e-03,   3.79521048e-03,   3.62013805e-03,\n",
       "         3.46622593e-03,   3.33201447e-03,   3.21606139e-03,\n",
       "         3.11694641e-03,   3.03327554e-03,   2.96368522e-03,\n",
       "         2.90684608e-03,   2.86146656e-03,   2.82629609e-03,\n",
       "         2.80012815e-03,   2.78180292e-03,   2.77020974e-03,\n",
       "         2.76428916e-03,   2.76303487e-03,   2.76549523e-03,\n",
       "         2.77077455e-03,   2.77803416e-03,   2.78649308e-03,\n",
       "         2.79542858e-03,   2.80417628e-03,   2.81213015e-03,\n",
       "         2.81874212e-03,   2.82352151e-03,   2.82603411e-03,\n",
       "         2.82590110e-03,   2.82279765e-03,   2.81645139e-03,\n",
       "         2.80664053e-03,   2.79319193e-03,   2.77597888e-03,\n",
       "         2.75491879e-03,   2.72997072e-03,   2.70113276e-03,\n",
       "         2.66843937e-03,   2.63195861e-03,   2.59178928e-03,\n",
       "         2.54805808e-03,   2.50091671e-03,   2.45053896e-03,\n",
       "         2.39711786e-03,   2.34086282e-03,   2.28199683e-03,\n",
       "         2.22075376e-03,   2.15737566e-03,   2.09211026e-03,\n",
       "         2.02520845e-03,   1.95692199e-03,   1.88750126e-03,\n",
       "         1.81719315e-03,   1.74623909e-03,   1.67487325e-03,\n",
       "         1.60332075e-03,   1.53179623e-03,   1.46050236e-03,\n",
       "         1.38962866e-03,   1.31935045e-03,   1.24982796e-03,\n",
       "         1.18120568e-03,   1.11361188e-03,   1.04715839e-03,\n",
       "         9.81940513e-04,   9.18037298e-04,   8.55511900e-04,\n",
       "         7.94412226e-04,   7.34771769e-04,   6.76610619e-04,\n",
       "         6.19936633e-04,   5.64746738e-04,   5.11028333e-04,\n",
       "         4.58760756e-04,   4.07916778e-04,   3.58464094e-04,\n",
       "         3.10366774e-04,   2.63586657e-04,   2.18084647e-04,\n",
       "         1.73821908e-04,   1.30760947e-04,   8.88665645e-05,\n",
       "         4.81066897e-05,   8.45309626e-06,   3.01179958e-05,\n",
       "         6.76254185e-05,   1.04082649e-04,   1.39497489e-04,\n",
       "         1.73871822e-04,   2.07201448e-04,   2.39476000e-04,\n",
       "         2.70678933e-04,   3.00787602e-04,   3.29773434e-04,\n",
       "         3.57602193e-04,   3.84234354e-04,   4.09625575e-04,\n",
       "         4.33727286e-04,   4.56487368e-04,   4.77850935e-04,\n",
       "         4.97761179e-04,   5.16160293e-04,   5.32990417e-04,\n",
       "         5.48194610e-04,   5.61717812e-04,   5.73507779e-04,\n",
       "         5.83515969e-04,   5.91698360e-04,   5.98016194e-04,\n",
       "         6.02436636e-04,   6.04933338e-04,   6.05486923e-04,\n",
       "         6.04085371e-04,   6.00724335e-04,   5.95407370e-04,\n",
       "         5.88146103e-04,   5.78960326e-04,   5.67878042e-04,\n",
       "         5.54935435e-04,   5.40176797e-04,   5.23654389e-04,\n",
       "         5.05428246e-04,   4.85565923e-04,   4.64142184e-04,\n",
       "         4.41238645e-04,   4.16943355e-04,   3.91350343e-04,\n",
       "         3.64559134e-04,   3.36674227e-04,   3.07804571e-04,\n",
       "         2.78063031e-04,   2.47565853e-04,   2.16432151e-04,\n",
       "         1.84783403e-04,   1.52742973e-04,   1.20435661e-04,\n",
       "         8.79872633e-05,   5.55241628e-05,   2.31729259e-05,\n",
       "         8.94009296e-06,   4.06891488e-05,   7.19495135e-05,\n",
       "         1.02597901e-04,   1.32512914e-04,   1.61575517e-04,\n",
       "         1.89669540e-04,   2.16682206e-04,   2.42504677e-04,\n",
       "         2.67032625e-04,   2.90166803e-04,   3.11813621e-04,\n",
       "         3.31885711e-04,   3.50302467e-04,   3.66990573e-04,\n",
       "         3.81884479e-04,   3.94926855e-04,   4.06068990e-04,\n",
       "         4.15271146e-04,   4.22502862e-04,   4.27743201e-04,\n",
       "         4.30980940e-04,   4.32214694e-04,   4.31452973e-04,\n",
       "         4.28714163e-04,   4.24026430e-04,   4.17427544e-04,\n",
       "         4.08964609e-04,   3.98693719e-04,   3.86679522e-04,\n",
       "         3.72994712e-04,   3.57719448e-04,   3.40940713e-04,\n",
       "         3.22751628e-04,   3.03250725e-04,   2.82541201e-04,\n",
       "         2.60730161e-04,   2.37927860e-04,   2.14246954e-04,\n",
       "         1.89801774e-04,   1.64707616e-04,   1.39080064e-04,\n",
       "         1.13034345e-04,   8.66847213e-05,   6.01439159e-05,\n",
       "         3.35225864e-05,   6.92884013e-06,   1.95322008e-05,\n",
       "         4.57587839e-05,   7.16528565e-05,   9.71203414e-05,\n",
       "         1.22071358e-04,   1.46420389e-04,   1.70086401e-04,\n",
       "         1.92992919e-04,   2.15068067e-04,   2.36244578e-04,\n",
       "         2.56459790e-04,   2.75655634e-04,   2.93778613e-04,\n",
       "         3.10779803e-04,   3.26614851e-04,   3.41244001e-04,\n",
       "         3.54632123e-04,   3.66748757e-04,   3.77568159e-04,\n",
       "         3.87069339e-04,   3.95236079e-04,   4.02056922e-04,\n",
       "         4.07525118e-04,   4.11638511e-04,   4.14399372e-04,\n",
       "         4.15814164e-04,   4.15893238e-04,   4.14650480e-04,\n",
       "         4.12102904e-04,   4.08270222e-04,   4.03174395e-04,\n",
       "         3.96839205e-04,   3.89289860e-04,   3.80552651e-04,\n",
       "         3.70654698e-04,   3.59623775e-04,   3.47488253e-04,\n",
       "         3.34277141e-04,   3.20020230e-04,   3.04748343e-04,\n",
       "         2.88493656e-04,   2.71290093e-04,   2.53173761e-04,\n",
       "         2.34183409e-04,   2.14360890e-04,   1.93751604e-04,\n",
       "         1.72404915e-04,   1.50374522e-04,   1.27718774e-04,\n",
       "         1.04500941e-04,   8.07894135e-05,   5.66578636e-05,\n",
       "         3.21853389e-05,   7.45631353e-06,   1.74393133e-05,\n",
       "         4.24062695e-05,   6.73440152e-05,   9.21469063e-05,\n",
       "         1.16704424e-04,   1.40901474e-04,   1.64618773e-04,\n",
       "         1.87733312e-04,   2.10118919e-04,   2.31646913e-04,\n",
       "         2.52186845e-04,   2.71607324e-04,   2.89776925e-04,\n",
       "         3.06565150e-04,   3.21843443e-04,   3.35486233e-04,\n",
       "         3.47371997e-04,   3.57384315e-04,   3.65412924e-04,\n",
       "         3.71354728e-04,   3.75114787e-04,   3.76607251e-04,\n",
       "         3.75756248e-04,   3.72496708e-04,   3.66775131e-04,\n",
       "         3.58550280e-04,   3.47793805e-04,   3.34490780e-04,\n",
       "         3.18640164e-04,   3.00255156e-04,   2.79363459e-04,\n",
       "         2.56007431e-04,   2.30244130e-04,   2.02145236e-04,\n",
       "         1.71796861e-04,   1.39299237e-04,   1.04766292e-04,\n",
       "         6.83251088e-05,   3.01152856e-05,   9.71180379e-06,\n",
       "         5.09938324e-05,   9.35584179e-05,   1.37224082e-04,\n",
       "         1.81801258e-04,   2.27093345e-04,   2.72897778e-04,\n",
       "         3.19007139e-04,   3.65210266e-04,   4.11293389e-04,\n",
       "         4.57041271e-04,   5.02238357e-04,   5.46669936e-04,\n",
       "         5.90123313e-04,   6.32388981e-04,   6.73261801e-04,\n",
       "         7.12542179e-04,   7.50037224e-04,   7.85561897e-04,\n",
       "         8.18940113e-04,   8.50005808e-04,   8.78603940e-04,\n",
       "         9.04591423e-04,   9.27837979e-04,   9.48226903e-04,\n",
       "         9.65655737e-04,   9.80036841e-04,   9.91297875e-04,\n",
       "         9.99382185e-04,   1.00424910e-03,   1.00587413e-03,\n",
       "         1.00424910e-03,   9.99382185e-04,   9.91297875e-04,\n",
       "         9.80036841e-04,   9.65655737e-04,   9.48226903e-04,\n",
       "         9.27837979e-04,   9.04591423e-04,   8.78603940e-04,\n",
       "         8.50005808e-04,   8.18940113e-04,   7.85561897e-04,\n",
       "         7.50037224e-04,   7.12542179e-04,   6.73261801e-04,\n",
       "         6.32388981e-04,   5.90123313e-04,   5.46669936e-04,\n",
       "         5.02238357e-04,   4.57041271e-04,   4.11293389e-04,\n",
       "         3.65210266e-04,   3.19007139e-04,   2.72897778e-04,\n",
       "         2.27093345e-04,   1.81801258e-04,   1.37224082e-04,\n",
       "         9.35584179e-05,   5.09938324e-05,   9.71180379e-06,\n",
       "         3.01152856e-05,   6.83251088e-05,   1.04766292e-04,\n",
       "         1.39299237e-04,   1.71796861e-04,   2.02145236e-04,\n",
       "         2.30244130e-04,   2.56007431e-04,   2.79363459e-04,\n",
       "         3.00255156e-04,   3.18640164e-04,   3.34490780e-04,\n",
       "         3.47793805e-04,   3.58550280e-04,   3.66775131e-04,\n",
       "         3.72496708e-04,   3.75756248e-04,   3.76607251e-04,\n",
       "         3.75114787e-04,   3.71354728e-04,   3.65412924e-04,\n",
       "         3.57384315e-04,   3.47371997e-04,   3.35486233e-04,\n",
       "         3.21843443e-04,   3.06565150e-04,   2.89776925e-04,\n",
       "         2.71607324e-04,   2.52186845e-04,   2.31646913e-04,\n",
       "         2.10118919e-04,   1.87733312e-04,   1.64618773e-04,\n",
       "         1.40901474e-04,   1.16704424e-04,   9.21469063e-05,\n",
       "         6.73440152e-05,   4.24062695e-05,   1.74393133e-05,\n",
       "         7.45631353e-06,   3.21853389e-05,   5.66578636e-05,\n",
       "         8.07894135e-05,   1.04500941e-04,   1.27718774e-04,\n",
       "         1.50374522e-04,   1.72404915e-04,   1.93751604e-04,\n",
       "         2.14360890e-04,   2.34183409e-04,   2.53173761e-04,\n",
       "         2.71290093e-04,   2.88493656e-04,   3.04748343e-04,\n",
       "         3.20020230e-04,   3.34277141e-04,   3.47488253e-04,\n",
       "         3.59623775e-04,   3.70654698e-04,   3.80552651e-04,\n",
       "         3.89289860e-04,   3.96839205e-04,   4.03174395e-04,\n",
       "         4.08270222e-04,   4.12102904e-04,   4.14650480e-04,\n",
       "         4.15893238e-04,   4.15814164e-04,   4.14399372e-04,\n",
       "         4.11638511e-04,   4.07525118e-04,   4.02056922e-04,\n",
       "         3.95236079e-04,   3.87069339e-04,   3.77568159e-04,\n",
       "         3.66748757e-04,   3.54632123e-04,   3.41244001e-04,\n",
       "         3.26614851e-04,   3.10779803e-04,   2.93778613e-04,\n",
       "         2.75655634e-04,   2.56459790e-04,   2.36244578e-04,\n",
       "         2.15068067e-04,   1.92992919e-04,   1.70086401e-04,\n",
       "         1.46420389e-04,   1.22071358e-04,   9.71203414e-05,\n",
       "         7.16528565e-05,   4.57587839e-05,   1.95322008e-05,\n",
       "         6.92884013e-06,   3.35225864e-05,   6.01439159e-05,\n",
       "         8.66847213e-05,   1.13034345e-04,   1.39080064e-04,\n",
       "         1.64707616e-04,   1.89801774e-04,   2.14246954e-04,\n",
       "         2.37927860e-04,   2.60730161e-04,   2.82541201e-04,\n",
       "         3.03250725e-04,   3.22751628e-04,   3.40940713e-04,\n",
       "         3.57719448e-04,   3.72994712e-04,   3.86679522e-04,\n",
       "         3.98693719e-04,   4.08964609e-04,   4.17427544e-04,\n",
       "         4.24026430e-04,   4.28714163e-04,   4.31452973e-04,\n",
       "         4.32214694e-04,   4.30980940e-04,   4.27743201e-04,\n",
       "         4.22502862e-04,   4.15271146e-04,   4.06068990e-04,\n",
       "         3.94926855e-04,   3.81884479e-04,   3.66990573e-04,\n",
       "         3.50302467e-04,   3.31885711e-04,   3.11813621e-04,\n",
       "         2.90166803e-04,   2.67032625e-04,   2.42504677e-04,\n",
       "         2.16682206e-04,   1.89669540e-04,   1.61575517e-04,\n",
       "         1.32512914e-04,   1.02597901e-04,   7.19495135e-05,\n",
       "         4.06891488e-05,   8.94009296e-06,   2.31729259e-05,\n",
       "         5.55241628e-05,   8.79872633e-05,   1.20435661e-04,\n",
       "         1.52742973e-04,   1.84783403e-04,   2.16432151e-04,\n",
       "         2.47565853e-04,   2.78063031e-04,   3.07804571e-04,\n",
       "         3.36674227e-04,   3.64559134e-04,   3.91350343e-04,\n",
       "         4.16943355e-04,   4.41238645e-04,   4.64142184e-04,\n",
       "         4.85565923e-04,   5.05428246e-04,   5.23654389e-04,\n",
       "         5.40176797e-04,   5.54935435e-04,   5.67878042e-04,\n",
       "         5.78960326e-04,   5.88146103e-04,   5.95407370e-04,\n",
       "         6.00724335e-04,   6.04085371e-04,   6.05486923e-04,\n",
       "         6.04933338e-04,   6.02436636e-04,   5.98016194e-04,\n",
       "         5.91698360e-04,   5.83515969e-04,   5.73507779e-04,\n",
       "         5.61717812e-04,   5.48194610e-04,   5.32990417e-04,\n",
       "         5.16160293e-04,   4.97761179e-04,   4.77850935e-04,\n",
       "         4.56487368e-04,   4.33727286e-04,   4.09625575e-04,\n",
       "         3.84234354e-04,   3.57602193e-04,   3.29773434e-04,\n",
       "         3.00787602e-04,   2.70678933e-04,   2.39476000e-04,\n",
       "         2.07201448e-04,   1.73871822e-04,   1.39497489e-04,\n",
       "         1.04082649e-04,   6.76254185e-05,   3.01179958e-05,\n",
       "         8.45309626e-06,   4.81066897e-05,   8.88665645e-05,\n",
       "         1.30760947e-04,   1.73821908e-04,   2.18084647e-04,\n",
       "         2.63586657e-04,   3.10366774e-04,   3.58464094e-04,\n",
       "         4.07916778e-04,   4.58760756e-04,   5.11028333e-04,\n",
       "         5.64746738e-04,   6.19936633e-04,   6.76610619e-04,\n",
       "         7.34771769e-04,   7.94412226e-04,   8.55511900e-04,\n",
       "         9.18037298e-04,   9.81940513e-04,   1.04715839e-03,\n",
       "         1.11361188e-03,   1.18120568e-03,   1.24982796e-03,\n",
       "         1.31935045e-03,   1.38962866e-03,   1.46050236e-03,\n",
       "         1.53179623e-03,   1.60332075e-03,   1.67487325e-03,\n",
       "         1.74623909e-03,   1.81719315e-03,   1.88750126e-03,\n",
       "         1.95692199e-03,   2.02520845e-03,   2.09211026e-03,\n",
       "         2.15737566e-03,   2.22075376e-03,   2.28199683e-03,\n",
       "         2.34086282e-03,   2.39711786e-03,   2.45053896e-03,\n",
       "         2.50091671e-03,   2.54805808e-03,   2.59178928e-03,\n",
       "         2.63195861e-03,   2.66843937e-03,   2.70113276e-03,\n",
       "         2.72997072e-03,   2.75491879e-03,   2.77597888e-03,\n",
       "         2.79319193e-03,   2.80664053e-03,   2.81645139e-03,\n",
       "         2.82279765e-03,   2.82590110e-03,   2.82603411e-03,\n",
       "         2.82352151e-03,   2.81874212e-03,   2.81213015e-03,\n",
       "         2.80417628e-03,   2.79542858e-03,   2.78649308e-03,\n",
       "         2.77803416e-03,   2.77077455e-03,   2.76549523e-03,\n",
       "         2.76303487e-03,   2.76428916e-03,   2.77020974e-03,\n",
       "         2.78180292e-03,   2.80012815e-03,   2.82629609e-03,\n",
       "         2.86146656e-03,   2.90684608e-03,   2.96368522e-03,\n",
       "         3.03327554e-03,   3.11694641e-03,   3.21606139e-03,\n",
       "         3.33201447e-03,   3.46622593e-03,   3.62013805e-03,\n",
       "         3.79521048e-03,   3.99291551e-03,   4.21473302e-03,\n",
       "         4.46214528e-03,   4.73663165e-03,   5.03966298e-03,\n",
       "         5.37269591e-03,   5.73716707e-03,   6.13448698e-03,\n",
       "         6.56603384e-03,   7.03314715e-03,   7.53712101e-03,\n",
       "         8.07919727e-03,   8.66055838e-03,   9.28231995e-03,\n",
       "         9.94552305e-03,   1.06511262e-02,   1.13999971e-02,\n",
       "         1.21929040e-02,   1.30305069e-02,   1.39133485e-02,\n",
       "         1.48418451e-02,   1.58162766e-02,   1.68367780e-02,\n",
       "         1.79033286e-02,   1.90157433e-02,   2.01736624e-02,\n",
       "         2.13765421e-02,   2.26236450e-02,   2.39140302e-02,\n",
       "         2.52465444e-02,   2.66198119e-02,   2.80322257e-02,\n",
       "         2.94819381e-02,   3.09668520e-02,   3.24846116e-02,\n",
       "         3.40325943e-02,   3.56079019e-02,   3.72073527e-02,\n",
       "         3.88274736e-02,   4.04644933e-02,   4.21143350e-02,\n",
       "         4.37726108e-02,   4.54346157e-02,   4.70953236e-02,\n",
       "         4.87493829e-02,   5.03911139e-02,   5.20145071e-02,\n",
       "         5.36132224e-02,   5.51805898e-02,   5.67096110e-02,\n",
       "         5.81929629e-02,   5.96230023e-02,   6.09917720e-02,\n",
       "         6.22910090e-02,   6.35121543e-02,   6.46463640e-02,\n",
       "         6.56845230e-02,   6.66172607e-02,   6.74349680e-02,\n",
       "         6.81278175e-02,   6.86857851e-02,   6.90986745e-02,\n",
       "         6.93561432e-02,   6.94477323e-02,   6.93628970e-02,\n",
       "         6.90910411e-02,   6.86215530e-02,   6.79438446e-02,\n",
       "         6.70473923e-02,   6.59217808e-02,   6.45567492e-02,\n",
       "         6.29422391e-02,   6.10684453e-02,   5.89258684e-02,\n",
       "         5.65053696e-02,   5.37982267e-02,   5.07961931e-02,\n",
       "         4.74915566e-02,   4.38772012e-02,   3.99466683e-02,\n",
       "         3.56942196e-02,   3.11149009e-02,   2.62046046e-02,\n",
       "         2.09601334e-02,   1.53792633e-02,   9.46080487e-03,\n",
       "         3.20466450e-03,   3.38809665e-03,   1.03152054e-02,\n",
       "         1.75731219e-02,   2.51569872e-02,   3.30605744e-02,\n",
       "         4.12762436e-02,   4.97948999e-02,   5.86059565e-02,\n",
       "         6.76973025e-02,   7.70552754e-02,   8.66646397e-02,\n",
       "         9.65085709e-02,   1.06568646e-01,   1.16824841e-01,\n",
       "         1.27255536e-01,   1.37837523e-01,   1.48546031e-01,\n",
       "         1.59354747e-01,   1.70235856e-01,   1.81160083e-01,\n",
       "         1.92096742e-01,   2.03013802e-01,   2.13877952e-01,\n",
       "         2.24654682e-01,   2.35308367e-01,   2.45802364e-01,\n",
       "         2.56099118e-01,   2.66160268e-01,   2.75946774e-01,\n",
       "         2.85419041e-01,   2.94537055e-01,   3.03260527e-01,\n",
       "         3.11549038e-01,   3.19362202e-01,   3.26659818e-01,\n",
       "         3.33402042e-01,   3.39549554e-01,   3.45063734e-01,\n",
       "         3.49906836e-01,   3.54042170e-01,   3.57434281e-01,\n",
       "         3.60049128e-01,   3.61854267e-01,   3.62819031e-01,\n",
       "         3.62914702e-01,   3.62114691e-01,   3.60394701e-01,\n",
       "         3.57732900e-01,   3.54110070e-01,   3.49509765e-01,\n",
       "         3.43918455e-01,   3.37325654e-01,   3.29724053e-01,\n",
       "         3.21109627e-01,   3.11481743e-01,   3.00843246e-01,\n",
       "         2.89200541e-01,   2.76563650e-01,   2.62946264e-01,\n",
       "         2.48365779e-01,   2.32843307e-01,   2.16403687e-01,\n",
       "         1.99075460e-01,   1.80890848e-01,   1.61885699e-01,\n",
       "         1.42099424e-01,   1.21574912e-01,   1.00358437e-01,\n",
       "         7.84995336e-02,   5.60508700e-02,   3.30680958e-02,\n",
       "         9.60967749e-03,   1.42632820e-02,   3.84872385e-02,\n",
       "         6.29964162e-02,   8.77230302e-02,   1.12597521e-01,\n",
       "         1.37548801e-01,   1.62504512e-01,   1.87391290e-01,\n",
       "         2.12135038e-01,   2.36661209e-01,   2.60895092e-01,\n",
       "         2.84762101e-01,   3.08188068e-01,   3.31099537e-01,\n",
       "         3.53424063e-01,   3.75090499e-01,   3.96029288e-01,\n",
       "         4.16172753e-01,   4.35455370e-01,   4.53814048e-01,\n",
       "         4.71188389e-01,   4.87520947e-01,   5.02757468e-01,\n",
       "         5.16847123e-01,   5.29742730e-01,   5.41400952e-01,\n",
       "         5.51782488e-01,   5.60852245e-01,   5.68579488e-01,\n",
       "         5.74937978e-01,   5.79906088e-01,   5.83466894e-01,\n",
       "         5.85608256e-01])"
      ]
     },
     "execution_count": 203,
     "metadata": {},
     "output_type": "execute_result"
    }
   ],
   "source": [
    "np.abs(ixx)"
   ]
  },
  {
   "cell_type": "code",
   "execution_count": null,
   "metadata": {
    "collapsed": true
   },
   "outputs": [],
   "source": []
  }
 ],
 "metadata": {
  "kernelspec": {
   "display_name": "Python 3",
   "language": "python",
   "name": "python3"
  },
  "language_info": {
   "codemirror_mode": {
    "name": "ipython",
    "version": 3
   },
   "file_extension": ".py",
   "mimetype": "text/x-python",
   "name": "python",
   "nbconvert_exporter": "python",
   "pygments_lexer": "ipython3",
   "version": "3.6.3"
  }
 },
 "nbformat": 4,
 "nbformat_minor": 2
}
