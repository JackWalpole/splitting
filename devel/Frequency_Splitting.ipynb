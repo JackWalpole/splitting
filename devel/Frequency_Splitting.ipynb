{
 "cells": [
  {
   "cell_type": "code",
   "execution_count": 1,
   "metadata": {
    "collapsed": true
   },
   "outputs": [],
   "source": [
    "%matplotlib inline\n",
    "import numpy as np\n",
    "import matplotlib.pyplot as plt\n",
    "import math\n",
    "import cmath\n",
    "from scipy import signal"
   ]
  },
  {
   "cell_type": "code",
   "execution_count": 2,
   "metadata": {
    "collapsed": true
   },
   "outputs": [],
   "source": [
    "# routines\n",
    "def _shift(pair,shift):\n",
    "    \"\"\"shift t1 shift/2 samples to the left and\n",
    "       shift t2 shift/2 samples to the right,\n",
    "       if shift is odd move t1 the extra sample\n",
    "       this process truncates trace length\"\"\"\n",
    "    if shift == 0:\n",
    "        return pair\n",
    "    elif shift == 1:\n",
    "        t1 = pair[0,:]\n",
    "        t2 = pair[1,:]\n",
    "        return np.vstack((t1[math.ceil(shift/2):], t2[:-shift]))\n",
    "    else:\n",
    "        t1 = pair[0,:]\n",
    "        t2 = pair[1,:]\n",
    "        return np.vstack((t1[math.ceil(shift/2):-math.floor(shift/2)], t2[:-shift]))\n",
    "\n",
    "def _rotate(pair,degrees):\n",
    "    \"\"\"t1 is x-axis and t2 is y-axis,\n",
    "       rotates clockwise\"\"\"\n",
    "    ang = np.deg2rad(degrees)\n",
    "    rot = np.array([[np.cos(ang),-np.sin(ang)],\n",
    "                    [np.sin(ang), np.cos(ang)]])\n",
    "    return np.dot(rot,pair)\n",
    "\n",
    "def _rotate_and_shift(pair,degrees,shift):\n",
    "    return _shift(_rotate(pair,degrees), shift)\n",
    "\n",
    "def _split(pair,degrees,shift):\n",
    "    return _rotate(_shift(_rotate(pair,degrees), shift),-degrees)\n",
    "\n",
    "def _unsplit(pair,degrees,shift):\n",
    "    return _split(pair,degrees+90,shift)\n",
    "    \n",
    "def _taper(pair,width,centre=None):\n",
    "    \"\"\"Apply Hanning window about c0 sample\n",
    "       of width number of samples, truncates traces\"\"\"\n",
    "    \n",
    "    if centre is None:\n",
    "        centre = math.floor(pair.shape[1]/2)\n",
    "        \n",
    "    if width > pair.shape[1]:\n",
    "        raise Exception('taper width is greater than trace length')\n",
    "        \n",
    "    t0 = centre - math.floor(width/2)\n",
    "    t1 = centre + math.ceil(width/2)\n",
    "    \n",
    "    if t0 < 0:\n",
    "        raise Exception('window starts before trace data')\n",
    "    elif t1 > pair.shape[1]:\n",
    "        raise Exception('window ends after trace data')\n",
    "        \n",
    "    return np.hanning(width) * pair[:,t0:t1]\n",
    "\n",
    "def _eigcov(pair):\n",
    "    return np.sort(np.linalg.eigvals(np.cov(pair,rowvar=True)))\n",
    "#     return np.sort(np.linalg.eigvals(np.cov(pair)))\n",
    "\n",
    "def _grideigcov(pair,maxshift,window=None, stepang=None,stepshift=None):\n",
    "    \n",
    "    # set some defaults\n",
    "    if stepshift is None:\n",
    "        stepshift = int(np.max([1,maxshift/40]))\n",
    "    if stepang is None:\n",
    "        stepang = 2\n",
    "    if window is None:\n",
    "        # by default whatevers smaller,\n",
    "        # half trace length or 10 * max shift\n",
    "        window = int(np.min([pair.shape[1] * 0.5,maxshift * 10]))\n",
    "    \n",
    "    deg, shift = np.meshgrid(np.arange(0,180,stepang),\n",
    "                             np.arange(0,maxshift,stepshift).astype(int))\n",
    "    \n",
    "    shape = deg.shape\n",
    "    lam1 = np.zeros(shape)\n",
    "    lam2 = np.zeros(shape)\n",
    "    for ii in np.arange(shape[1]):\n",
    "        temp = _rotate(pair,deg[0,ii]+90)\n",
    "        for jj in np.arange(shape[0]):\n",
    "            temp2 = _shift(temp,shift[jj,ii])\n",
    "            temp3 = _taper(temp2,window)\n",
    "            lam2[jj,ii], lam1[jj,ii] = _eigcov(temp3)\n",
    "    return deg, shift, lam1, lam2\n",
    "\n",
    "def _xcorr(pair):\n",
    "    return np.correlate(pair[0,:],pair[1,:])[0]\n",
    "\n",
    "def _gridxcorr(pair,maxshift,window=None, stepang=None,stepshift=None):\n",
    "    \n",
    "    # set some defaults\n",
    "    if stepshift is None:\n",
    "        stepshift = int(np.max([1,maxshift/40]))\n",
    "    if stepang is None:\n",
    "        stepang = 2\n",
    "    if window is None:\n",
    "        # by default whatevers smaller,\n",
    "        # half trace length or 10 * max shift\n",
    "        window = int(np.min([pair.shape[1] * 0.5,maxshift * 10]))\n",
    "        \n",
    "    deg, shift = np.meshgrid(np.arange(0,180,stepang),\n",
    "                             np.arange(0,maxshift,stepshift).astype(int))\n",
    "    \n",
    "    shape = deg.shape\n",
    "    xc = np.zeros(shape)\n",
    "    for ii in np.arange(shape[1]):\n",
    "        temp = _rotate(pair,deg[0,ii]+90)\n",
    "        for jj in np.arange(shape[0]):\n",
    "            temp2 = _shift(temp,shift[jj,ii])\n",
    "            temp3 = _taper(temp2,window)\n",
    "            xc[jj,ii] = _xcorr(temp3)\n",
    "    return deg, shift, xc "
   ]
  },
  {
   "cell_type": "code",
   "execution_count": 3,
   "metadata": {},
   "outputs": [
    {
     "data": {
      "image/png": "[encoded data removed]",
      "text/plain": [
       "<matplotlib.figure.Figure at 0x1147c8cf8>"
      ]
     },
     "metadata": {},
     "output_type": "display_data"
    }
   ],
   "source": [
    "# synthetic data\n",
    "ricker = signal.ricker(500, 16.0)\n",
    "pair = np.vstack((ricker,np.zeros(ricker.shape)))\n",
    "noise = np.random.normal(0,.005,pair.shape)\n",
    "splitdata = _split(pair+noise,110,12)\n",
    "\n",
    "def plt_pair(pair):\n",
    "    from matplotlib import gridspec\n",
    "    fig = plt.figure(figsize=(12, 3)) \n",
    "    gs = gridspec.GridSpec(1, 2, width_ratios=[3, 1]) \n",
    "    ax0 = plt.subplot(gs[0])\n",
    "    ax0.plot(pair.T)\n",
    "    ax1 = plt.subplot(gs[1])\n",
    "    ax1.plot(pair[0,:],pair[1,:])\n",
    "    ticks = np.linspace(-np.abs(pair).max(),np.abs(pair).max(),7)\n",
    "    ax1.xaxis.set_ticks(ticks)\n",
    "    ax1.yaxis.set_ticks(ticks)\n",
    "    plt.axis('equal')\n",
    "    plt.show()\n",
    "    \n",
    "plt_pair(splitdata)"
   ]
  },
  {
   "cell_type": "code",
   "execution_count": 4,
   "metadata": {
    "scrolled": true
   },
   "outputs": [
    {
     "data": {
      "image/png": "[encoded data removed]",
      "text/plain": [
       "<matplotlib.figure.Figure at 0x1127c5ef0>"
      ]
     },
     "metadata": {},
     "output_type": "display_data"
    }
   ],
   "source": [
    "t1 = splitdata[0,:]\n",
    "sp = np.fft.fft(t1)\n",
    "freq = np.rad2deg(np.fft.fftfreq(t1.shape[-1]))\n",
    "plt.plot(freq, sp.real, freq, sp.imag)\n",
    "plt.xlim(0,10)\n",
    "plt.show()"
   ]
  },
  {
   "cell_type": "code",
   "execution_count": 5,
   "metadata": {
    "collapsed": true
   },
   "outputs": [],
   "source": [
    "np.fft.fft?"
   ]
  },
  {
   "cell_type": "code",
   "execution_count": 6,
   "metadata": {
    "scrolled": true
   },
   "outputs": [
    {
     "data": {
      "image/png": "[encoded data removed]",
      "text/plain": [
       "<matplotlib.figure.Figure at 0x1147c8e10>"
      ]
     },
     "metadata": {},
     "output_type": "display_data"
    }
   ],
   "source": [
    "plt_pair(_rotate(pair,30))"
   ]
  },
  {
   "cell_type": "code",
   "execution_count": 7,
   "metadata": {
    "collapsed": true
   },
   "outputs": [],
   "source": [
    "f1 = np.fft.fft(pair[0,:])\n",
    "f2 = np.fft.fft(pair[1,:])"
   ]
  },
  {
   "cell_type": "code",
   "execution_count": 8,
   "metadata": {
    "scrolled": false
   },
   "outputs": [
    {
     "data": {
      "image/png": "[encoded data removed]",
      "text/plain": [
       "<matplotlib.figure.Figure at 0x11496f400>"
      ]
     },
     "metadata": {},
     "output_type": "display_data"
    }
   ],
   "source": [
    "# Forward and reverse Fourier Transform\n",
    "plt_pair(np.vstack((np.real(np.fft.ifft(f1)),\n",
    "                            np.real(np.fft.ifft(f2)))))"
   ]
  },
  {
   "cell_type": "code",
   "execution_count": 9,
   "metadata": {},
   "outputs": [
    {
     "data": {
      "image/png": "[encoded data removed]",
      "text/plain": [
       "<matplotlib.figure.Figure at 0x114fbbbe0>"
      ]
     },
     "metadata": {},
     "output_type": "display_data"
    }
   ],
   "source": [
    "# Rotation in Fourier Domain\n",
    "rf = _rotate(np.vstack((f1,f2)),30)\n",
    "data = np.vstack((np.real(np.fft.ifft(rf[0,:])),\n",
    "                  np.real(np.fft.ifft(rf[1,:]))))\n",
    "plt_pair(data)"
   ]
  },
  {
   "cell_type": "code",
   "execution_count": 10,
   "metadata": {},
   "outputs": [
    {
     "data": {
      "text/plain": [
       "[<matplotlib.lines.Line2D at 0x114fc4b00>]"
      ]
     },
     "execution_count": 10,
     "metadata": {},
     "output_type": "execute_result"
    },
    {
     "data": {
      "image/png": "[encoded data removed]",
      "text/plain": [
       "<matplotlib.figure.Figure at 0x114fc49e8>"
      ]
     },
     "metadata": {},
     "output_type": "display_data"
    }
   ],
   "source": [
    "# Shift in the Fourier Domain\n",
    "# t1 = _taper(splitdata,100)[0,:]\n",
    "t1 = pair[0,:]\n",
    "f1 = np.fft.fft(t1)\n",
    "delta = 1\n",
    "# shift must be an integer multiple of delta\n",
    "shift = 0\n",
    "N = f1.size\n",
    "P = np.arange(N) * -(2*np.pi * shift)/(delta * N)  \n",
    "fs = f1 * np.exp(1j*P)\n",
    "t2 = np.real(np.fft.ifft(fs))\n",
    "plt.plot(t1)\n",
    "plt.plot(t2)\n",
    "# plt.plot(fs.real)\n",
    "# plt.plot(fs.imag)\n",
    "# freq = np.rad2deg(np.fft.fftfreq(t1.shape[-1]))\n",
    "# plt.plot(freq, f1.real, freq, f1.imag)\n",
    "# plt.xlim(0,4)\n",
    "# plt.show()\n"
   ]
  },
  {
   "cell_type": "code",
   "execution_count": 11,
   "metadata": {},
   "outputs": [
    {
     "data": {
      "text/plain": [
       "array([ -1.00000000e+00 +1.22464680e-16j,   6.12323400e-17 +1.00000000e+00j])"
      ]
     },
     "execution_count": 11,
     "metadata": {},
     "output_type": "execute_result"
    }
   ],
   "source": [
    "# a = np.array([1,2])\n",
    "b = np.array([np.pi,np.pi/2])\n",
    "np.cos(b) + np.sin(b)*1j"
   ]
  },
  {
   "cell_type": "code",
   "execution_count": 12,
   "metadata": {},
   "outputs": [
    {
     "data": {
      "text/plain": [
       "array([[ 0.00200401,  0.00200401],\n",
       "       [ 0.00200401,  0.00200401]])"
      ]
     },
     "execution_count": 12,
     "metadata": {},
     "output_type": "execute_result"
    }
   ],
   "source": [
    "np.cov(t1,t2)"
   ]
  },
  {
   "cell_type": "code",
   "execution_count": 13,
   "metadata": {},
   "outputs": [
    {
     "data": {
      "text/plain": [
       "[<matplotlib.lines.Line2D at 0x1148552e8>]"
      ]
     },
     "execution_count": 13,
     "metadata": {},
     "output_type": "execute_result"
    },
    {
     "data": {
      "image/png": "[encoded data removed]",
      "text/plain": [
       "<matplotlib.figure.Figure at 0x114fcfcc0>"
      ]
     },
     "metadata": {},
     "output_type": "display_data"
    }
   ],
   "source": [
    "plt.plot(np.abs(f1)**2)"
   ]
  },
  {
   "cell_type": "code",
   "execution_count": 14,
   "metadata": {},
   "outputs": [
    {
     "data": {
      "text/plain": [
       "[<matplotlib.lines.Line2D at 0x1147bc518>]"
      ]
     },
     "execution_count": 14,
     "metadata": {},
     "output_type": "execute_result"
    },
    {
     "data": {
      "image/png": "[encoded data removed]",
      "text/plain": [
       "<matplotlib.figure.Figure at 0x11496a438>"
      ]
     },
     "metadata": {},
     "output_type": "display_data"
    }
   ],
   "source": [
    "from scipy.signal import welch\n",
    "f, psd = welch(splitdata[0,:],\n",
    "               fs=1.,  # sample rate\n",
    "               window='hanning',   # apply a Hanning window before taking the DFT\n",
    "               nperseg=256,        # compute periodograms of 256-long segments of x\n",
    "               detrend='constant') # detrend x by subtracting the mean\n",
    "plt.plot(f,psd)"
   ]
  },
  {
   "cell_type": "code",
   "execution_count": 2,
   "metadata": {
    "collapsed": true
   },
   "outputs": [],
   "source": [
    "import splitwavepy as sw"
   ]
  },
  {
   "cell_type": "code",
   "execution_count": 3,
   "metadata": {},
   "outputs": [
    {
     "data": {
      "image/png": "[encoded data removed]",
      "text/plain": [
       "<matplotlib.figure.Figure at 0x114ab9898>"
      ]
     },
     "metadata": {},
     "output_type": "display_data"
    }
   ],
   "source": [
    "a = sw.SplitWave(pol=40)\n",
    "a.plot()"
   ]
  },
  {
   "cell_type": "code",
   "execution_count": 4,
   "metadata": {
    "collapsed": true
   },
   "outputs": [],
   "source": [
    "# get fourier traces\n",
    "x = a.x[:-1]\n",
    "y = a.y[:-1]\n",
    "x = x - np.mean(x)\n",
    "y = y - np.mean(y)\n",
    "fx = np.fft.rfft(x)\n",
    "fy = np.fft.rfft(y)"
   ]
  },
  {
   "cell_type": "code",
   "execution_count": 5,
   "metadata": {
    "collapsed": true
   },
   "outputs": [],
   "source": [
    "# cross correlation (in Fourier domain)\n",
    "cxy = fx*fy.conj()\n",
    "cyx = fy*fx.conj()\n",
    "cxx = fx*fx.conj()\n",
    "cyy = fy*fy.conj()"
   ]
  },
  {
   "cell_type": "code",
   "execution_count": 6,
   "metadata": {
    "collapsed": true
   },
   "outputs": [],
   "source": [
    "# reverse transform cross-correlation\n",
    "ixy = np.fft.irfft(cxy)\n",
    "iyx = np.fft.irfft(cyx)\n",
    "ixx = np.fft.irfft(cxx)\n",
    "iyy = np.fft.irfft(cyy)"
   ]
  },
  {
   "cell_type": "code",
   "execution_count": 7,
   "metadata": {},
   "outputs": [
    {
     "data": {
      "text/plain": [
       "[<matplotlib.lines.Line2D at 0x117a64748>]"
      ]
     },
     "execution_count": 7,
     "metadata": {},
     "output_type": "execute_result"
    },
    {
     "data": {
      "image/png": "[encoded data removed]",
      "text/plain": [
       "<matplotlib.figure.Figure at 0x11791a8d0>"
      ]
     },
     "metadata": {},
     "output_type": "display_data"
    }
   ],
   "source": [
    "# plt.plot(np.real(ixx))\n",
    "# plt.plot(np.real(iyy))\n",
    "plt.plot(ixx)"
   ]
  },
  {
   "cell_type": "code",
   "execution_count": 8,
   "metadata": {},
   "outputs": [
    {
     "data": {
      "text/plain": [
       "0.49034212114277587"
      ]
     },
     "execution_count": 8,
     "metadata": {},
     "output_type": "execute_result"
    },
    {
     "data": {
      "image/png": "[encoded data removed]",
      "text/plain": [
       "<matplotlib.figure.Figure at 0x117983240>"
      ]
     },
     "metadata": {},
     "output_type": "display_data"
    }
   ],
   "source": [
    "plt.plot(np.correlate(x,y,mode='same'))\n",
    "np.max(np.correlate(x,y,mode='same'))"
   ]
  },
  {
   "cell_type": "code",
   "execution_count": 9,
   "metadata": {},
   "outputs": [
    {
     "data": {
      "text/plain": [
       "array([ -1.66533454e-16])"
      ]
     },
     "execution_count": 9,
     "metadata": {},
     "output_type": "execute_result"
    }
   ],
   "source": [
    "# raw correlation coefficient difference between\n",
    "# fourier method V time domain method\n",
    "ixy[0] - np.correlate(x,y)"
   ]
  },
  {
   "cell_type": "code",
   "execution_count": 10,
   "metadata": {},
   "outputs": [
    {
     "data": {
      "image/png": "[encoded data removed]",
      "text/plain": [
       "<matplotlib.figure.Figure at 0x117a856a0>"
      ]
     },
     "metadata": {},
     "output_type": "display_data"
    }
   ],
   "source": [
    "corrxy = np.correlate(x,y,'same')\n",
    "mid = int(x.size/2)\n",
    "plt.plot(ixy - np.roll(corrxy,mid))\n",
    "plt.show()"
   ]
  },
  {
   "cell_type": "code",
   "execution_count": 11,
   "metadata": {},
   "outputs": [
    {
     "data": {
      "text/plain": [
       "array([  2.22044605e-16])"
      ]
     },
     "execution_count": 11,
     "metadata": {},
     "output_type": "execute_result"
    }
   ],
   "source": [
    "# Pearson Correlation in time domain\n",
    "np.correlate(x, y)/(x.size * np.std(x) * np.std(y)) - np.corrcoef(x, y)[0,1]"
   ]
  },
  {
   "cell_type": "code",
   "execution_count": 12,
   "metadata": {},
   "outputs": [
    {
     "data": {
      "text/plain": [
       "1.0842021724855044e-19"
      ]
     },
     "execution_count": 12,
     "metadata": {},
     "output_type": "execute_result"
    }
   ],
   "source": [
    "np.var(x) - ixx[0] / x.size"
   ]
  },
  {
   "cell_type": "code",
   "execution_count": 13,
   "metadata": {
    "collapsed": true
   },
   "outputs": [],
   "source": [
    "stdx = np.sqrt( ixx[0]/ x.size)\n",
    "stdy = np.sqrt( iyy[0]/ y.size)"
   ]
  },
  {
   "cell_type": "code",
   "execution_count": 14,
   "metadata": {},
   "outputs": [
    {
     "data": {
      "text/plain": [
       "[<matplotlib.lines.Line2D at 0x117c4a518>]"
      ]
     },
     "execution_count": 14,
     "metadata": {},
     "output_type": "execute_result"
    },
    {
     "data": {
      "image/png": "[encoded data removed]",
      "text/plain": [
       "<matplotlib.figure.Figure at 0x117aa1b70>"
      ]
     },
     "metadata": {},
     "output_type": "display_data"
    }
   ],
   "source": [
    "# plt.plot(ixx)\n",
    "plt.plot(ixy / (x.size * stdx * stdy))"
   ]
  },
  {
   "cell_type": "code",
   "execution_count": 15,
   "metadata": {},
   "outputs": [
    {
     "data": {
      "text/plain": [
       "array([  4.90342121e-04,   4.89763247e-04,   4.87989079e-04,\n",
       "         4.85025568e-04,   4.80882721e-04,   4.75574560e-04,\n",
       "         4.69119064e-04,   4.61538085e-04,   4.52857257e-04,\n",
       "         4.43105887e-04,   4.32316821e-04,   4.20526309e-04,\n",
       "         4.07773844e-04,   3.94101996e-04,   3.79556225e-04,\n",
       "         3.64184690e-04,   3.48038042e-04,   3.31169213e-04,\n",
       "         3.13633187e-04,   2.95486775e-04,   2.76788377e-04,\n",
       "         2.57597738e-04,   2.37975706e-04,   2.17983984e-04,\n",
       "         1.97684880e-04,   1.77141058e-04,   1.56415291e-04,\n",
       "         1.35570216e-04,   1.14668092e-04,   9.37705634e-05,\n",
       "         7.29384272e-05,   5.22314100e-05,   3.17079508e-05,\n",
       "         1.14249930e-05,  -8.56221406e-06,  -2.82003027e-05,\n",
       "        -4.74379640e-05,  -6.62261126e-05,  -8.45180394e-05,\n",
       "        -1.02269551e-04,  -1.19439094e-04,  -1.35987871e-04,\n",
       "        -1.51879936e-04,  -1.67082276e-04,  -1.81564887e-04,\n",
       "        -1.95300822e-04,  -2.08266234e-04,  -2.20440403e-04,\n",
       "        -2.31805748e-04,  -2.42347821e-04,  -2.52055296e-04,\n",
       "        -2.60919939e-04,  -2.68936564e-04,  -2.76102981e-04,\n",
       "        -2.82419931e-04,  -2.87891008e-04,  -2.92522575e-04,\n",
       "        -2.96323661e-04,  -2.99305861e-04,  -3.01483221e-04,\n",
       "        -3.02872114e-04,  -3.03491113e-04,  -3.03360857e-04,\n",
       "        -3.02503911e-04,  -3.00944623e-04,  -2.98708976e-04,\n",
       "        -2.95824440e-04,  -2.92319815e-04,  -2.88225085e-04,\n",
       "        -2.83571259e-04,  -2.78390223e-04,  -2.72714582e-04,\n",
       "        -2.66577516e-04,  -2.60012630e-04,  -2.53053807e-04,\n",
       "        -2.45735073e-04,  -2.38090457e-04,  -2.30153860e-04,\n",
       "        -2.21958927e-04,  -2.13538932e-04,  -2.04926658e-04,\n",
       "        -1.96154293e-04,  -1.87253324e-04,  -1.78254449e-04,\n",
       "        -1.69187486e-04,  -1.60081293e-04,  -1.50963697e-04,\n",
       "        -1.41861428e-04,  -1.32800062e-04,  -1.23803970e-04,\n",
       "        -1.14896274e-04,  -1.06098814e-04,  -9.74321169e-05,\n",
       "        -8.89153731e-05,  -8.05664244e-05,  -7.24017529e-05,\n",
       "        -6.44364789e-05,  -5.66843641e-05,  -4.91578203e-05,\n",
       "        -4.18679241e-05,  -3.48244357e-05,  -2.80358234e-05,\n",
       "        -2.15092920e-05,  -1.52508153e-05,  -9.26517247e-06,\n",
       "        -3.55598799e-06,   1.87422587e-06,   7.02402338e-06,\n",
       "         1.18929776e-05,   1.64816302e-05,   2.07914405e-05,\n",
       "         2.48247317e-05,   2.85846375e-05,   3.20750469e-05,\n",
       "         3.53005491e-05,   3.82663784e-05,   4.09783582e-05,\n",
       "         4.34428470e-05,   4.56666832e-05,   4.76571326e-05,\n",
       "         4.94218355e-05,   5.09687557e-05,   5.23061313e-05,\n",
       "         5.34424268e-05,   5.43862865e-05,   5.51464909e-05,\n",
       "         5.57319140e-05,   5.61514836e-05,   5.64141433e-05,\n",
       "         5.65288165e-05,   5.65043730e-05,   5.63495980e-05,\n",
       "         5.60731628e-05,   5.56835981e-05,   5.51892698e-05,\n",
       "         5.45983560e-05,   5.39188276e-05,   5.31584299e-05,\n",
       "         5.23246664e-05,   5.14247854e-05,   5.04657679e-05,\n",
       "         4.94543173e-05,   4.83968517e-05,   4.72994972e-05,\n",
       "         4.61680836e-05,   4.50081412e-05,   4.38248996e-05,\n",
       "         4.26232878e-05,   4.14079356e-05,   4.01831769e-05,\n",
       "         3.89530532e-05,   3.77213193e-05,   3.64914491e-05,\n",
       "         3.52666435e-05,   3.40498375e-05,   3.28437095e-05,\n",
       "         3.16506904e-05,   3.04729736e-05,   2.93125251e-05,\n",
       "         2.81710941e-05,   2.70502240e-05,   2.59512634e-05,\n",
       "         2.48753769e-05,   2.38235567e-05,   2.27966334e-05,\n",
       "         2.17952867e-05,   2.08200568e-05,   1.98713546e-05,\n",
       "         1.89494717e-05,   1.80545909e-05,   1.71867955e-05,\n",
       "         1.63460787e-05,   1.55323522e-05,   1.47454549e-05,\n",
       "         1.39851607e-05,   1.32511860e-05,   1.25431969e-05,\n",
       "         1.18608161e-05,   1.12036286e-05,   1.05711883e-05,\n",
       "         9.96302282e-06,   9.37863894e-06,   8.81752722e-06,\n",
       "         8.27916631e-06,   7.76302704e-06,   7.26857596e-06,\n",
       "         6.79527871e-06,   6.34260295e-06,   5.91002098e-06,\n",
       "         5.49701198e-06,   5.10306390e-06,   4.72767506e-06,\n",
       "         4.37035534e-06,   4.03062703e-06,   3.70802536e-06,\n",
       "         3.40209873e-06,   3.11240863e-06,   2.83852921e-06,\n",
       "         2.58004675e-06,   2.33655874e-06,   2.10767294e-06,\n",
       "         1.89300615e-06,   1.69218299e-06,   1.50483456e-06,\n",
       "         1.33059703e-06,   1.16911033e-06,   1.02001680e-06,\n",
       "         8.82959912e-07,   7.57583129e-07,   6.43528797e-07,\n",
       "         5.40437206e-07,   4.47945760e-07,   3.65688280e-07,\n",
       "         2.93294448e-07,   2.30389377e-07,   1.76593315e-07,\n",
       "         1.31521475e-07,   9.47839854e-08,   6.59859464e-08,\n",
       "         4.47275994e-08,   3.06045901e-08,   2.32083237e-08,\n",
       "         2.21264050e-08,   2.69431571e-08,   3.72402141e-08,\n",
       "         5.25971833e-08,   7.25923743e-08,   9.68035921e-08,\n",
       "         1.24808993e-07,   1.56188002e-07,   1.90522293e-07,\n",
       "         2.27396824e-07,   2.66400938e-07,   3.07129510e-07,\n",
       "         3.49184152e-07,   3.92174461e-07,   4.35719295e-07,\n",
       "         4.79448082e-07,   5.23002131e-07,   5.66035942e-07,\n",
       "         6.08218488e-07,   6.49234460e-07,   6.88785442e-07,\n",
       "         7.26591019e-07,   7.62389780e-07,   7.95940213e-07,\n",
       "         8.27021489e-07,   8.55434103e-07,   8.81000389e-07,\n",
       "         9.03564899e-07,   9.22994636e-07,   9.39179161e-07,\n",
       "         9.52030557e-07,   9.61483269e-07,   9.67493805e-07,\n",
       "         9.70040324e-07,   9.69122089e-07,   9.64758818e-07,\n",
       "         9.56989902e-07,   9.45873538e-07,   9.31485741e-07,\n",
       "         9.13919290e-07,   8.93282579e-07,   8.69698418e-07,\n",
       "         8.43302782e-07,   8.14243532e-07,   7.82679115e-07,\n",
       "         7.48777275e-07,   7.12713766e-07,   6.74671095e-07,\n",
       "         6.34837291e-07,   5.93404721e-07,   5.50568931e-07,\n",
       "         5.06527531e-07,   4.61479119e-07,   4.15622229e-07,\n",
       "         3.69154314e-07,   3.22270755e-07,   2.75163890e-07,\n",
       "         2.28022076e-07,   1.81028778e-07,   1.34361698e-07,\n",
       "         8.81919431e-08,   4.26832554e-08,  -2.00869742e-09,\n",
       "        -4.57369520e-08,  -8.83637941e-08,  -1.29761208e-07,\n",
       "        -1.69811228e-07,  -2.08406182e-07,  -2.45448834e-07,\n",
       "        -2.80852430e-07,  -3.14540635e-07,  -3.46447396e-07,\n",
       "        -3.76516712e-07,  -4.04702335e-07,  -4.30967410e-07,\n",
       "        -4.55284060e-07,  -4.77632919e-07,  -4.98002639e-07,\n",
       "        -5.16389351e-07,  -5.32796113e-07,  -5.47232330e-07,\n",
       "        -5.59713169e-07,  -5.70258957e-07,  -5.78894581e-07,\n",
       "        -5.85648898e-07,  -5.90554147e-07,  -5.93645388e-07,\n",
       "        -5.94959972e-07,  -5.94537038e-07,  -5.92417068e-07,\n",
       "        -5.88641486e-07,  -5.83252324e-07,  -5.76291953e-07,\n",
       "        -5.67802878e-07,  -5.57827617e-07,  -5.46408634e-07,\n",
       "        -5.33588353e-07,  -5.19409233e-07,  -5.03913890e-07,\n",
       "        -4.87145282e-07,  -4.69146923e-07,  -4.49963136e-07,\n",
       "        -4.29639326e-07,  -4.08222266e-07,  -3.85760399e-07,\n",
       "        -3.62304129e-07,  -3.37906121e-07,  -3.12621584e-07,\n",
       "        -2.86508541e-07,  -2.59628091e-07,  -2.32044638e-07,\n",
       "        -2.03826106e-07,  -1.75044117e-07,  -1.45774137e-07,\n",
       "        -1.16095581e-07,  -8.60918757e-08,  -5.58504639e-08,\n",
       "        -2.54627642e-08,   4.97593243e-09,   3.53666219e-08,\n",
       "         6.56068033e-08,   9.55907500e-08,   1.25209831e-07,\n",
       "         1.54352881e-07,   1.82906608e-07,   2.10756037e-07,\n",
       "         2.37784993e-07,   2.63876600e-07,   2.88913815e-07,\n",
       "         3.12779982e-07,   3.35359407e-07,   3.56537954e-07,\n",
       "         3.76203666e-07,   3.94247400e-07,   4.10563479e-07,\n",
       "         4.25050352e-07,   4.37611273e-07,   4.48154966e-07,\n",
       "         4.56596304e-07,   4.62856959e-07,   4.66866048e-07,\n",
       "         4.68560752e-07,   4.67886904e-07,   4.64799541e-07,\n",
       "         4.59263420e-07,   4.51253488e-07,   4.40755301e-07,\n",
       "         4.27765392e-07,   4.12291581e-07,   3.94353222e-07,\n",
       "         3.73981390e-07,   3.51218989e-07,   3.26120798e-07,\n",
       "         2.98753440e-07,   2.69195269e-07,   2.37536187e-07,\n",
       "         2.03877378e-07,   1.68330970e-07,   1.31019617e-07,\n",
       "         9.20760132e-08,   5.16423353e-08,   9.86962376e-09,\n",
       "        -3.30828965e-08,  -7.70485461e-08,  -1.21853964e-07,\n",
       "        -1.67319919e-07,  -2.13262140e-07,  -2.59492176e-07,\n",
       "        -3.05818255e-07,  -3.52046145e-07,  -3.97980022e-07,\n",
       "        -4.43423323e-07,  -4.88179591e-07,  -5.32053324e-07,\n",
       "        -5.74850813e-07,  -6.16380998e-07,  -6.56456328e-07,\n",
       "        -6.94893652e-07,  -7.31515129e-07,  -7.66149180e-07,\n",
       "        -7.98631471e-07,  -8.28805928e-07,  -8.56525781e-07,\n",
       "        -8.81654620e-07,  -9.04067460e-07,  -9.23651779e-07,\n",
       "        -9.40308529e-07,  -9.53953079e-07,  -9.64516084e-07,\n",
       "        -9.71944245e-07,  -9.76200952e-07,  -9.77266780e-07,\n",
       "        -9.75139832e-07,  -9.69835918e-07,  -9.61388561e-07,\n",
       "        -9.49848827e-07,  -9.35284979e-07,  -9.17781970e-07,\n",
       "        -8.97440773e-07,  -8.74377558e-07,  -8.48722741e-07,\n",
       "        -8.20619912e-07,  -7.90224661e-07,  -7.57703319e-07,\n",
       "        -7.23231626e-07,  -6.86993359e-07,  -6.49178917e-07,\n",
       "        -6.09983893e-07,  -5.69607645e-07,  -5.28251881e-07,\n",
       "        -4.86119263e-07,  -4.43412067e-07,  -4.00330874e-07,\n",
       "        -3.57073340e-07,  -3.13833025e-07,  -2.70798297e-07,\n",
       "        -2.28151328e-07,  -1.86067159e-07,  -1.44712863e-07,\n",
       "        -1.04246785e-07,  -6.48178698e-08,  -2.65650653e-08,\n",
       "         1.03831949e-08,   4.59094392e-08,   7.99075376e-08,\n",
       "         1.12283018e-07,   1.42953324e-07,   1.71848006e-07,\n",
       "         1.98908866e-07,   2.24090021e-07,   2.47357921e-07,\n",
       "         2.68691278e-07,   2.88080927e-07,   3.05529597e-07,\n",
       "         3.21051595e-07,   3.34672390e-07,   3.46428100e-07,\n",
       "         3.56364880e-07,   3.64538217e-07,   3.71012138e-07,\n",
       "         3.75858335e-07,   3.79155237e-07,   3.80987033e-07,\n",
       "         3.81442668e-07,   3.80614831e-07,   3.78598962e-07,\n",
       "         3.75492278e-07,   3.71392854e-07,   3.66398751e-07,\n",
       "         3.60607219e-07,   3.54113960e-07,   3.47012470e-07,\n",
       "         3.39393439e-07,   3.31344228e-07,   3.22948397e-07,\n",
       "         3.14285280e-07,   3.05429615e-07,   2.96451204e-07,\n",
       "         2.87414610e-07,   2.78378878e-07,   2.69397285e-07,\n",
       "         2.60517121e-07,   2.51779490e-07,   2.43219144e-07,\n",
       "         2.34864354e-07,   2.26736815e-07,   2.18851596e-07,\n",
       "         2.11217132e-07,   2.03835271e-07,   1.96701373e-07,\n",
       "         1.89804453e-07,   1.83127390e-07,   1.76647178e-07,\n",
       "         1.70335229e-07,   1.64157714e-07,   1.58075949e-07,\n",
       "         1.52046811e-07,   1.46023177e-07,   1.39954389e-07,\n",
       "         1.33786726e-07,   1.27463893e-07,   1.20927513e-07,\n",
       "         1.14117620e-07,   1.06973161e-07,   9.94324865e-08,\n",
       "         9.14338562e-08,   8.29159393e-08,   7.38183229e-08,\n",
       "         6.40820274e-08,   5.36500314e-08,   4.24678076e-08,\n",
       "         3.04838708e-08,   1.76503386e-08,   3.92350144e-09,\n",
       "        -1.07355992e-08,  -2.63605899e-08,  -4.29791872e-08,\n",
       "        -6.06126297e-08,  -7.92751288e-08,  -9.89733450e-08,\n",
       "        -1.19705902e-07,  -1.41462941e-07,  -1.64225733e-07,\n",
       "        -1.87966344e-07,  -2.12647367e-07,  -2.38221721e-07,\n",
       "        -2.64632523e-07,  -2.91813028e-07,  -3.19686649e-07,\n",
       "        -3.48167040e-07,  -3.77158254e-07,  -4.06554977e-07,\n",
       "        -4.36242822e-07,  -4.66098701e-07,  -4.95991267e-07,\n",
       "        -5.25781423e-07,  -5.55322914e-07,  -5.84462986e-07,\n",
       "        -6.13043126e-07,  -6.40899878e-07,  -6.67865733e-07,\n",
       "        -6.93770088e-07,  -7.18440273e-07,  -7.41702631e-07,\n",
       "        -7.63383641e-07,  -7.83311078e-07,  -8.01315182e-07,\n",
       "        -8.17229831e-07,  -8.30893700e-07,  -8.42151386e-07,\n",
       "        -8.50854494e-07,  -8.56862665e-07,  -8.60044547e-07,\n",
       "        -8.60278701e-07,  -8.57454436e-07,  -8.51472587e-07,\n",
       "        -8.42246237e-07,  -8.29701387e-07,  -8.13777585e-07,\n",
       "        -7.94428522e-07,  -7.71622606e-07,  -7.45343513e-07,\n",
       "        -7.15590715e-07,  -6.82379996e-07,  -6.45743930e-07,\n",
       "        -6.05732330e-07,  -5.62412638e-07,  -5.15870256e-07,\n",
       "        -4.66208781e-07,  -4.13550139e-07,  -3.58034590e-07,\n",
       "        -2.99820586e-07,  -2.39084477e-07,  -1.76020037e-07,\n",
       "        -1.10837820e-07,  -4.37643277e-08,   2.49589823e-08,\n",
       "         9.50768677e-08,   1.66321614e-07,   2.38414480e-07,\n",
       "         3.11067255e-07,   3.83983903e-07,   4.56862269e-07,\n",
       "         5.29395827e-07,   6.01275456e-07,   6.72191209e-07,\n",
       "         7.41834080e-07,   8.09897748e-07,   8.76080290e-07,\n",
       "         9.40085857e-07,   1.00162631e-06,   1.06042283e-06,\n",
       "         1.11620744e-06,   1.16872453e-06,   1.21773231e-06,\n",
       "         1.26300415e-06,   1.30432999e-06,   1.34151750e-06,\n",
       "         1.37439332e-06,   1.40280413e-06,   1.42661760e-06,\n",
       "         1.44572334e-06,   1.46003363e-06,   1.46948413e-06,\n",
       "         1.47403439e-06,   1.47366838e-06,   1.46839471e-06,\n",
       "         1.45824695e-06,   1.44328368e-06,   1.42358847e-06,\n",
       "         1.39926978e-06,   1.37046068e-06,   1.33731847e-06,\n",
       "         1.30002414e-06,   1.25878170e-06,   1.21381734e-06,\n",
       "         1.16537843e-06,   1.11373237e-06,   1.05916518e-06,\n",
       "         1.00198002e-06,   9.42495454e-07,   8.81043576e-07,\n",
       "         8.17968001e-07,   7.53621701e-07,   6.88364738e-07,\n",
       "         6.22561926e-07,   5.56580437e-07,   4.90787392e-07,\n",
       "         4.25547461e-07,   3.61220509e-07,   2.98159301e-07,\n",
       "         2.36707300e-07,   1.77196567e-07,   1.19945775e-07,\n",
       "         6.52583501e-08,   1.34207399e-08,  -3.52991880e-08,\n",
       "        -8.06536177e-08,  -1.22416128e-07,  -1.60382911e-07,\n",
       "        -1.94373862e-07,  -2.24233549e-07,  -2.49832063e-07,\n",
       "        -2.71065739e-07,  -2.87857762e-07,  -3.00158646e-07,\n",
       "        -3.07946590e-07,  -3.11227708e-07,  -3.10036138e-07,\n",
       "        -3.04434011e-07,  -2.94511296e-07,  -2.80385508e-07,\n",
       "        -2.62201272e-07,  -2.40129744e-07,  -2.14367886e-07,\n",
       "        -1.85137580e-07,  -1.52684581e-07,  -1.17277309e-07,\n",
       "        -7.92054719e-08,  -3.87785099e-08,   3.67612205e-09,\n",
       "         4.78148464e-08,   9.32800175e-08,   1.39702131e-07,\n",
       "         1.86702176e-07,   2.33894117e-07,   2.80887484e-07,\n",
       "         3.27290051e-07,   3.72710574e-07,   4.16761572e-07,\n",
       "         4.59062115e-07,   4.99240582e-07,   5.36937385e-07,\n",
       "         5.71807601e-07,   6.03523497e-07,   6.31776926e-07,\n",
       "         6.56281551e-07,   6.76774894e-07,   6.93020171e-07,\n",
       "         7.04807914e-07,   7.11957348e-07,   7.14317528e-07,\n",
       "         7.11768228e-07,   7.04220573e-07,   6.91617430e-07,\n",
       "         6.73933548e-07,   6.51175480e-07,   6.23381270e-07,\n",
       "         5.90619948e-07,   5.52990825e-07,   5.10622622e-07,\n",
       "         4.63672435e-07,   4.12324559e-07,   3.56789181e-07,\n",
       "         2.97300955e-07,   2.34117465e-07,   1.67517588e-07,\n",
       "         9.77997550e-08,   2.52801250e-08,  -4.97093367e-08,\n",
       "        -1.26822863e-07,  -2.05702976e-07,  -2.85982645e-07,\n",
       "        -3.67287521e-07,  -4.49238215e-07,  -5.31452623e-07,\n",
       "        -6.13548259e-07,  -6.95144599e-07,  -7.75865390e-07,\n",
       "        -8.55340918e-07,  -9.33210200e-07,  -1.00912308e-06,\n",
       "        -1.08274223e-06,  -1.15374498e-06,  -1.22182502e-06,\n",
       "        -1.28669394e-06,  -1.34808259e-06,  -1.40574222e-06,\n",
       "        -1.45944543e-06,  -1.50898697e-06,  -1.55418421e-06,\n",
       "        -1.59487748e-06,  -1.63093019e-06,  -1.66222867e-06,\n",
       "        -1.68868187e-06,  -1.71022081e-06,  -1.72679791e-06,\n",
       "        -1.73838611e-06,  -1.74497786e-06,  -1.74658399e-06,\n",
       "        -1.74323254e-06,  -1.73496741e-06,  -1.72184709e-06,\n",
       "        -1.70394331e-06,  -1.68133965e-06,  -1.65413030e-06,\n",
       "        -1.62241869e-06,  -1.58631634e-06,  -1.54594164e-06,\n",
       "        -1.50141885e-06,  -1.45287701e-06,  -1.40044914e-06,\n",
       "        -1.34427137e-06,  -1.28448227e-06,  -1.22122221e-06,\n",
       "        -1.15463278e-06,  -1.08485636e-06,  -1.01203567e-06,\n",
       "        -9.36313371e-07,  -8.57831703e-07,  -7.76732131e-07,\n",
       "        -6.93154981e-07,  -6.07239061e-07,  -5.19121264e-07,\n",
       "        -4.28936128e-07,  -3.36815379e-07,  -2.42887425e-07,\n",
       "        -1.47276834e-07,  -5.01037762e-08,   4.85165410e-08,\n",
       "         1.48474449e-07,   2.49666385e-07,   3.51995448e-07,\n",
       "         4.55371926e-07,   5.59713783e-07,   6.64947112e-07,\n",
       "         7.71006539e-07,   8.77835581e-07,   9.85386959e-07,\n",
       "         1.09362289e-06,   1.20251532e-06,   1.31204623e-06,\n",
       "         1.42220783e-06,   1.53300288e-06,   1.64444504e-06,\n",
       "         1.75655922e-06,   1.86938206e-06,   1.98296253e-06,\n",
       "         2.09736255e-06,   2.21265776e-06,   2.32893840e-06,\n",
       "         2.44631031e-06,   2.56489597e-06,   2.68483567e-06,\n",
       "         2.80628879e-06,   2.92943506e-06,   3.05447589e-06,\n",
       "         3.18163578e-06,   3.31116365e-06,   3.44333418e-06,\n",
       "         3.57844916e-06,   3.71683863e-06,   3.85886215e-06,\n",
       "         4.00490973e-06,   4.15540283e-06,   4.31079508e-06,\n",
       "         4.47157293e-06,   4.63825605e-06,   4.81139758e-06,\n",
       "         4.99158415e-06,   5.17943571e-06,   5.37560510e-06,\n",
       "         5.58077740e-06,   5.79566901e-06,   6.02102649e-06,\n",
       "         6.25762517e-06,   6.50626744e-06,   6.76778083e-06,\n",
       "         7.04301578e-06,   7.33284321e-06,   7.63815170e-06,\n",
       "         7.95984457e-06,   8.29883655e-06,   8.65605023e-06,\n",
       "         9.03241224e-06,   9.42884914e-06,   9.84628302e-06,\n",
       "         1.02856267e-05,   1.07477789e-05,   1.12336187e-05,\n",
       "         1.17439998e-05,   1.22797448e-05,   1.28416382e-05,\n",
       "         1.34304204e-05,   1.40467798e-05,   1.46913458e-05,\n",
       "         1.53646809e-05,   1.60672720e-05,   1.67995228e-05,\n",
       "         1.75617439e-05,   1.83541448e-05,   1.91768236e-05,\n",
       "         2.00297581e-05,   2.09127958e-05,   2.18256439e-05,\n",
       "         2.27678595e-05,   2.37388392e-05,   2.47378091e-05,\n",
       "         2.57638148e-05,   2.68157106e-05,   2.78921501e-05,\n",
       "         2.89915761e-05,   3.01122104e-05,   3.12520449e-05,\n",
       "         3.24088323e-05,   3.35800771e-05,   3.47630277e-05,\n",
       "         3.59546684e-05,   3.71517124e-05,   3.83505955e-05,\n",
       "         3.95474702e-05,   4.07382010e-05,   4.19183607e-05,\n",
       "         4.30832273e-05,   4.42277824e-05,   4.53467103e-05,\n",
       "         4.64343988e-05,   4.74849412e-05,   4.84921394e-05,\n",
       "         4.94495093e-05,   5.03502865e-05,   5.11874353e-05,\n",
       "         5.19536579e-05,   5.26414065e-05,   5.32428967e-05,\n",
       "         5.37501234e-05,   5.41548783e-05,   5.44487693e-05,\n",
       "         5.46232428e-05,   5.46696078e-05,   5.45790616e-05,\n",
       "         5.43427189e-05,   5.39516420e-05,   5.33968745e-05,\n",
       "         5.26694758e-05,   5.17605591e-05,   5.06613308e-05,\n",
       "         4.93631322e-05,   4.78574834e-05,   4.61361286e-05,\n",
       "         4.41910841e-05,   4.20146865e-05,   3.95996443e-05,\n",
       "         3.69390889e-05,   3.40266278e-05,   3.08563987e-05,\n",
       "         2.74231235e-05,   2.37221635e-05,   1.97495746e-05,\n",
       "         1.55021616e-05,   1.09775335e-05,   6.17415646e-06,\n",
       "         1.09140748e-06,  -4.27037471e-06,  -9.90983957e-06,\n",
       "        -1.58245768e-05,  -2.20110710e-05,  -2.84646581e-05,\n",
       "        -3.51794862e-05,  -4.21484783e-05,  -4.93632997e-05,\n",
       "        -5.68143288e-05,  -6.44906328e-05,  -7.23799478e-05,\n",
       "        -8.04686639e-05,  -8.87418160e-05,  -9.71830800e-05,\n",
       "        -1.05774775e-04,  -1.14497871e-04,  -1.23332006e-04,\n",
       "        -1.32255505e-04,  -1.41245410e-04,  -1.50277516e-04,\n",
       "        -1.59326411e-04,  -1.68365531e-04,  -1.77367211e-04,\n",
       "        -1.86302756e-04,  -1.95142510e-04,  -2.03855934e-04,\n",
       "        -2.12411698e-04,  -2.20777767e-04,  -2.28921511e-04,\n",
       "        -2.36809803e-04,  -2.44409140e-04,  -2.51685759e-04,\n",
       "        -2.58605763e-04,  -2.65135254e-04,  -2.71240464e-04,\n",
       "        -2.76887900e-04,  -2.82044483e-04,  -2.86677699e-04,\n",
       "        -2.90755743e-04,  -2.94247676e-04,  -2.97123573e-04,\n",
       "        -2.99354675e-04,  -3.00913547e-04,  -3.01774221e-04,\n",
       "        -3.01912355e-04,  -3.01305369e-04,  -2.99932598e-04,\n",
       "        -2.97775424e-04,  -2.94817413e-04,  -2.91044445e-04,\n",
       "        -2.86444828e-04,  -2.81009422e-04,  -2.74731737e-04,\n",
       "        -2.67608030e-04,  -2.59637399e-04,  -2.50821853e-04,\n",
       "        -2.41166379e-04,  -2.30679001e-04,  -2.19370815e-04,\n",
       "        -2.07256026e-04,  -1.94351960e-04,  -1.80679067e-04,\n",
       "        -1.66260915e-04,  -1.51124161e-04,  -1.35298513e-04,\n",
       "        -1.18816677e-04,  -1.01714291e-04,  -8.40298395e-05,\n",
       "        -6.58045613e-05,  -4.70823358e-05,  -2.79095605e-05,\n",
       "        -8.33501297e-06,   1.15902998e-05,   3.18133039e-05,\n",
       "         5.22790342e-05,   7.29308197e-05,   9.37104805e-05,\n",
       "         1.14558534e-04,   1.35414409e-04,   1.56216672e-04,\n",
       "         1.76903250e-04,   1.97411675e-04,   2.17679318e-04,\n",
       "         2.37643634e-04,   2.57242410e-04,   2.76414014e-04,\n",
       "         2.95097641e-04,   3.13233559e-04,   3.30763356e-04,\n",
       "         3.47630182e-04,   3.63778982e-04,   3.79156728e-04,\n",
       "         3.93712645e-04,   4.07398422e-04,   4.20168421e-04,\n",
       "         4.31979869e-04,   4.42793048e-04,   4.52571457e-04,\n",
       "         4.61281979e-04,   4.68895021e-04,   4.75384641e-04,\n",
       "         4.80728666e-04,   4.84908784e-04,   4.87910630e-04,\n",
       "         4.89723844e-04])"
      ]
     },
     "execution_count": 15,
     "metadata": {},
     "output_type": "execute_result"
    }
   ],
   "source": [
    "ixy.real / ixy.size"
   ]
  },
  {
   "cell_type": "code",
   "execution_count": 16,
   "metadata": {},
   "outputs": [
    {
     "data": {
      "text/plain": [
       "0.58521191677769779"
      ]
     },
     "execution_count": 16,
     "metadata": {},
     "output_type": "execute_result"
    }
   ],
   "source": [
    "ixx.real[0]"
   ]
  },
  {
   "cell_type": "code",
   "execution_count": 17,
   "metadata": {},
   "outputs": [
    {
     "data": {
      "text/plain": [
       "array([ 0.58521198])"
      ]
     },
     "execution_count": 17,
     "metadata": {},
     "output_type": "execute_result"
    }
   ],
   "source": [
    "np.correlate(a.x, a.x)"
   ]
  },
  {
   "cell_type": "code",
   "execution_count": 18,
   "metadata": {},
   "outputs": [
    {
     "data": {
      "text/plain": [
       "0.5852119248656189"
      ]
     },
     "execution_count": 18,
     "metadata": {},
     "output_type": "execute_result"
    }
   ],
   "source": [
    "np.var(a.x)*(a.x.size)"
   ]
  },
  {
   "cell_type": "code",
   "execution_count": 19,
   "metadata": {},
   "outputs": [
    {
     "data": {
      "text/plain": [
       "array([  5.85211917e-01,   5.84497536e-01,   5.82356840e-01,\n",
       "         5.78797145e-01,   5.73830614e-01,   5.67474198e-01,\n",
       "         5.59749561e-01,   5.50682988e-01,   5.40305266e-01,\n",
       "         5.28651550e-01,   5.15761213e-01,   5.01677666e-01,\n",
       "         4.86448180e-01,   4.70123675e-01,   4.52758501e-01,\n",
       "         4.34410211e-01,   4.15139310e-01,   3.95009002e-01,\n",
       "         3.74084924e-01,   3.52434872e-01,   3.30128516e-01,\n",
       "         3.07237118e-01,   2.83833237e-01,   2.59990439e-01,\n",
       "         2.35782993e-01,   2.11285586e-01,   1.86573020e-01,\n",
       "         1.61719927e-01,   1.36800476e-01,   1.11888098e-01,\n",
       "         8.70552057e-02,   6.23729285e-02,   3.79108562e-02,\n",
       "         1.37367907e-02,   1.00834895e-02,   3.34864528e-02,\n",
       "         5.64110243e-02,   7.87987824e-02,   1.00594140e-01,\n",
       "         1.21744508e-01,   1.42200451e-01,   1.61915815e-01,\n",
       "         1.80847845e-01,   1.98957288e-01,   2.16208473e-01,\n",
       "         2.32569375e-01,   2.48011667e-01,   2.62510747e-01,\n",
       "         2.76045754e-01,   2.88599565e-01,   3.00158775e-01,\n",
       "         3.10713665e-01,   3.20258148e-01,   3.28789710e-01,\n",
       "         3.36309326e-01,   3.42821372e-01,   3.48333518e-01,\n",
       "         3.52856615e-01,   3.56404565e-01,   3.58994190e-01,\n",
       "         3.60645081e-01,   3.61379445e-01,   3.61221950e-01,\n",
       "         3.60199554e-01,   3.58341332e-01,   3.55678307e-01,\n",
       "         3.52243265e-01,   3.48070576e-01,   3.43196015e-01,\n",
       "         3.37656574e-01,   3.31490284e-01,   3.24736033e-01,\n",
       "         3.17433387e-01,   3.09622417e-01,   3.01343523e-01,\n",
       "         2.92637270e-01,   2.83544225e-01,   2.74104799e-01,\n",
       "         2.64359096e-01,   2.54346770e-01,   2.44106891e-01,\n",
       "         2.33677811e-01,   2.23097045e-01,   2.12401158e-01,\n",
       "         2.01625661e-01,   1.90804916e-01,   1.79972044e-01,\n",
       "         1.69158854e-01,   1.58395768e-01,   1.47711764e-01,\n",
       "         1.37134323e-01,   1.26689385e-01,   1.16401319e-01,\n",
       "         1.06292893e-01,   9.63852583e-02,   8.66979371e-02,\n",
       "         7.72488234e-02,   6.80541859e-02,   5.91286794e-02,\n",
       "         5.04853637e-02,   4.21357272e-02,   3.40897170e-02,\n",
       "         2.63557737e-02,   1.89408714e-02,   1.18505622e-02,\n",
       "         5.08902436e-03,   1.34088601e-03,   7.43757963e-03,\n",
       "         1.32006765e-02,   1.86309460e-02,   2.37302446e-02,\n",
       "         2.85014528e-02,   3.29484102e-02,   3.70758502e-02,\n",
       "         4.08893344e-02,   4.43951865e-02,   4.76004263e-02,\n",
       "         5.05127050e-02,   5.31402403e-02,   5.54917536e-02,\n",
       "         5.75764068e-02,   5.94037430e-02,   6.09836263e-02,\n",
       "         6.23261856e-02,   6.34417594e-02,   6.43408425e-02,\n",
       "         6.50340361e-02,   6.55319995e-02,   6.58454047e-02,\n",
       "         6.59848932e-02,   6.59610361e-02,   6.57842968e-02,\n",
       "         6.54649957e-02,   6.50132789e-02,   6.44390884e-02,\n",
       "         6.37521363e-02,   6.29618808e-02,   6.20775049e-02,\n",
       "         6.11078985e-02,   6.00616420e-02,   5.89469929e-02,\n",
       "         5.77718747e-02,   5.65438680e-02,   5.52702037e-02,\n",
       "         5.39577579e-02,   5.26130496e-02,   5.12422388e-02,\n",
       "         4.98511281e-02,   4.84451637e-02,   4.70294399e-02,\n",
       "         4.56087037e-02,   4.41873608e-02,   4.27694831e-02,\n",
       "         4.13588167e-02,   3.99587913e-02,   3.85725302e-02,\n",
       "         3.72028606e-02,   3.58523251e-02,   3.45231934e-02,\n",
       "         3.32174743e-02,   3.19369284e-02,   3.06830802e-02,\n",
       "         2.94572315e-02,   2.82604740e-02,   2.70937020e-02,\n",
       "         2.59576256e-02,   2.48527829e-02,   2.37795529e-02,\n",
       "         2.27381678e-02,   2.17287247e-02,   2.07511978e-02,\n",
       "         1.98054495e-02,   1.88912415e-02,   1.80082458e-02,\n",
       "         1.71560546e-02,   1.63341902e-02,   1.55421147e-02,\n",
       "         1.47792386e-02,   1.40449294e-02,   1.33385195e-02,\n",
       "         1.26593135e-02,   1.20065953e-02,   1.13796345e-02,\n",
       "         1.07776920e-02,   1.02000253e-02,   9.64589357e-03,\n",
       "         9.11456168e-03,   8.60530401e-03,   8.11740773e-03,\n",
       "         7.65017562e-03,   7.20292842e-03,   6.77500686e-03,\n",
       "         6.36577319e-03,   5.97461241e-03,   5.60093322e-03,\n",
       "         5.24416857e-03,   4.90377597e-03,   4.57923758e-03,\n",
       "         4.27005998e-03,   3.97577381e-03,   3.69593309e-03,\n",
       "         3.43011445e-03,   3.17791615e-03,   2.93895685e-03,\n",
       "         2.71287441e-03,   2.49932438e-03,   2.29797849e-03,\n",
       "         2.10852300e-03,   1.93065700e-03,   1.76409065e-03,\n",
       "         1.60854343e-03,   1.46374232e-03,   1.32942007e-03,\n",
       "         1.20531351e-03,   1.09116185e-03,   9.86705187e-04,\n",
       "         8.91682980e-04,   8.05832748e-04,   7.28888825e-04,\n",
       "         6.60581274e-04,   6.00634935e-04,   5.48768620e-04,\n",
       "         5.04694458e-04,   4.68117382e-04,   4.38734776e-04,\n",
       "         4.16236265e-04,   4.00303656e-04,   3.90611016e-04,\n",
       "         3.86824905e-04,   3.88604736e-04,   3.95603268e-04,\n",
       "         4.07467231e-04,   4.23838069e-04,   4.44352789e-04,\n",
       "         4.68644929e-04,   4.96345606e-04,   5.27084664e-04,\n",
       "         5.60491886e-04,   5.96198276e-04,   6.33837392e-04,\n",
       "         6.73046711e-04,   7.13469023e-04,   7.54753829e-04,\n",
       "         7.96558733e-04,   8.38550806e-04,   8.80407918e-04,\n",
       "         9.21819997e-04,   9.62490234e-04,   1.00213618e-03,\n",
       "         1.04049077e-03,   1.07730319e-03,   1.11233968e-03,\n",
       "         1.14538413e-03,   1.17623866e-03,   1.20472393e-03,\n",
       "         1.23067939e-03,   1.25396344e-03,   1.27445332e-03,\n",
       "         1.29204504e-03,   1.30665311e-03,   1.31821010e-03,\n",
       "         1.32666626e-03,   1.33198886e-03,   1.33416157e-03,\n",
       "         1.33318368e-03,   1.32906929e-03,   1.32184637e-03,\n",
       "         1.31155582e-03,   1.29825043e-03,   1.28199381e-03,\n",
       "         1.26285930e-03,   1.24092885e-03,   1.21629188e-03,\n",
       "         1.18904417e-03,   1.15928680e-03,   1.12712504e-03,\n",
       "         1.09266742e-03,   1.05602475e-03,   1.01730931e-03,\n",
       "         9.76634008e-04,   9.34111787e-04,   8.89854978e-04,\n",
       "         8.43974831e-04,   7.96581113e-04,   7.47781801e-04,\n",
       "         6.97682856e-04,   6.46388072e-04,   5.93999000e-04,\n",
       "         5.40614920e-04,   4.86332880e-04,   4.31247766e-04,\n",
       "         3.75452414e-04,   3.19037751e-04,   2.62092967e-04,\n",
       "         2.04705701e-04,   1.46962260e-04,   8.89478448e-05,\n",
       "         3.07468068e-05,   2.75570846e-05,   8.58803532e-05,\n",
       "         1.44139512e-04,   2.02250745e-04,   2.60129581e-04,\n",
       "         3.17690557e-04,   3.74846892e-04,   4.31510157e-04,\n",
       "         4.87589975e-04,   5.42993733e-04,   5.97626343e-04,\n",
       "         6.51390033e-04,   7.04184201e-04,   7.55905325e-04,\n",
       "         8.06446949e-04,   8.55699732e-04,   9.03551593e-04,\n",
       "         9.49887933e-04,   9.94591941e-04,   1.03754500e-03,\n",
       "         1.07862718e-03,   1.11771778e-03,   1.15469602e-03,\n",
       "         1.18944175e-03,   1.22183624e-03,   1.25176300e-03,\n",
       "         1.27910873e-03,   1.30376419e-03,   1.32562517e-03,\n",
       "         1.34459342e-03,   1.36057759e-03,   1.37349414e-03,\n",
       "         1.38326821e-03,   1.38983446e-03,   1.39313781e-03,\n",
       "         1.39313417e-03,   1.38979103e-03,   1.38308806e-03,\n",
       "         1.37301750e-03,   1.35958463e-03,   1.34280800e-03,\n",
       "         1.32271968e-03,   1.29936543e-03,   1.27280472e-03,\n",
       "         1.24311076e-03,   1.21037040e-03,   1.17468398e-03,\n",
       "         1.13616507e-03,   1.09494022e-03,   1.05114848e-03,\n",
       "         1.00494098e-03,   9.56480347e-04,   9.05940023e-04,\n",
       "         8.53503527e-04,   7.99363592e-04,   7.43721215e-04,\n",
       "         6.86784613e-04,   6.28768083e-04,   5.69890782e-04,\n",
       "         5.10375425e-04,   4.50446915e-04,   3.90330920e-04,\n",
       "         3.30252407e-04,   2.70434146e-04,   2.11095215e-04,\n",
       "         1.52449503e-04,   9.47042537e-05,   3.80586541e-05,\n",
       "         1.72975069e-05,   7.11850888e-05,   1.23436742e-04,\n",
       "         1.73897928e-04,   2.22427794e-04,   2.68899908e-04,\n",
       "         3.13202823e-04,   3.55240488e-04,   3.94932484e-04,\n",
       "         4.32214109e-04,   4.67036294e-04,   4.99365377e-04,\n",
       "         5.29182739e-04,   5.56484315e-04,   5.81279990e-04,\n",
       "         6.03592906e-04,   6.23458685e-04,   6.40924581e-04,\n",
       "         6.56048584e-04,   6.68898478e-04,   6.79550872e-04,\n",
       "         6.88090200e-04,   6.94607719e-04,   6.99200491e-04,\n",
       "         7.01970371e-04,   7.03023003e-04,   7.02466824e-04,\n",
       "         7.00412101e-04,   6.96969989e-04,   6.92251627e-04,\n",
       "         6.86367287e-04,   6.79425570e-04,   6.71532663e-04,\n",
       "         6.62791662e-04,   6.53301968e-04,   6.43158754e-04,\n",
       "         6.32452500e-04,   6.21268607e-04,   6.09687071e-04,\n",
       "         5.97782223e-04,   5.85622528e-04,   5.73270433e-04,\n",
       "         5.60782262e-04,   5.48208154e-04,   5.35592042e-04,\n",
       "         5.22971671e-04,   5.10378653e-04,   4.97838568e-04,\n",
       "         4.85371111e-04,   4.72990281e-04,   4.60704635e-04,\n",
       "         4.48517586e-04,   4.36427763e-04,   4.24429424e-04,\n",
       "         4.12512921e-04,   4.00665208e-04,   3.88870381e-04,\n",
       "         3.77110248e-04,   3.65364903e-04,   3.53613295e-04,\n",
       "         3.41833780e-04,   3.30004635e-04,   3.18104534e-04,\n",
       "         3.06112959e-04,   2.94010546e-04,   2.81779374e-04,\n",
       "         2.69403171e-04,   2.56867458e-04,   2.44159633e-04,\n",
       "         2.31268993e-04,   2.18186717e-04,   2.04905809e-04,\n",
       "         1.91421020e-04,   1.77728752e-04,   1.63826963e-04,\n",
       "         1.49715076e-04,   1.35393900e-04,   1.20865568e-04,\n",
       "         1.06133494e-04,   9.12023532e-05,   7.60780763e-05,\n",
       "         6.07678638e-05,   4.52802081e-05,   2.96249215e-05,\n",
       "         1.38131640e-05,   2.14253683e-06,   1.82282783e-05,\n",
       "         3.44287920e-05,   5.07274753e-05,   6.71064454e-05,\n",
       "         8.35466192e-05,   1.00027816e-04,   1.16528886e-04,\n",
       "         1.33027854e-04,   1.49502082e-04,   1.65928445e-04,\n",
       "         1.82283513e-04,   1.98543730e-04,   2.14685595e-04,\n",
       "         2.30685836e-04,   2.46521563e-04,   2.62170411e-04,\n",
       "         2.77610662e-04,   2.92821338e-04,   3.07782272e-04,\n",
       "         3.22474155e-04,   3.36878548e-04,   3.50977868e-04,\n",
       "         3.64755353e-04,   3.78194994e-04,   3.91281450e-04,\n",
       "         4.03999941e-04,   4.16336131e-04,   4.28275993e-04,\n",
       "         4.39805682e-04,   4.50911402e-04,   4.61579278e-04,\n",
       "         4.71795261e-04,   4.81545031e-04,   4.90813949e-04,\n",
       "         4.99587032e-04,   5.07848966e-04,   5.15584166e-04,\n",
       "         5.22776872e-04,   5.29411292e-04,   5.35471781e-04,\n",
       "         5.40943059e-04,   5.45810449e-04,   5.50060141e-04,\n",
       "         5.53679462e-04,   5.56657140e-04,   5.58983561e-04,\n",
       "         5.60650988e-04,   5.61653753e-04,   5.61988395e-04,\n",
       "         5.61653753e-04,   5.60650988e-04,   5.58983561e-04,\n",
       "         5.56657140e-04,   5.53679462e-04,   5.50060141e-04,\n",
       "         5.45810449e-04,   5.40943059e-04,   5.35471781e-04,\n",
       "         5.29411292e-04,   5.22776872e-04,   5.15584166e-04,\n",
       "         5.07848966e-04,   4.99587032e-04,   4.90813949e-04,\n",
       "         4.81545031e-04,   4.71795261e-04,   4.61579278e-04,\n",
       "         4.50911402e-04,   4.39805682e-04,   4.28275993e-04,\n",
       "         4.16336131e-04,   4.03999941e-04,   3.91281450e-04,\n",
       "         3.78194994e-04,   3.64755353e-04,   3.50977868e-04,\n",
       "         3.36878548e-04,   3.22474155e-04,   3.07782272e-04,\n",
       "         2.92821338e-04,   2.77610662e-04,   2.62170411e-04,\n",
       "         2.46521563e-04,   2.30685836e-04,   2.14685595e-04,\n",
       "         1.98543730e-04,   1.82283513e-04,   1.65928445e-04,\n",
       "         1.49502082e-04,   1.33027854e-04,   1.16528886e-04,\n",
       "         1.00027816e-04,   8.35466192e-05,   6.71064454e-05,\n",
       "         5.07274753e-05,   3.44287920e-05,   1.82282783e-05,\n",
       "         2.14253683e-06,   1.38131640e-05,   2.96249215e-05,\n",
       "         4.52802081e-05,   6.07678638e-05,   7.60780763e-05,\n",
       "         9.12023532e-05,   1.06133494e-04,   1.20865568e-04,\n",
       "         1.35393900e-04,   1.49715076e-04,   1.63826963e-04,\n",
       "         1.77728752e-04,   1.91421020e-04,   2.04905809e-04,\n",
       "         2.18186717e-04,   2.31268993e-04,   2.44159633e-04,\n",
       "         2.56867458e-04,   2.69403171e-04,   2.81779374e-04,\n",
       "         2.94010546e-04,   3.06112959e-04,   3.18104534e-04,\n",
       "         3.30004635e-04,   3.41833780e-04,   3.53613295e-04,\n",
       "         3.65364903e-04,   3.77110248e-04,   3.88870381e-04,\n",
       "         4.00665208e-04,   4.12512921e-04,   4.24429424e-04,\n",
       "         4.36427763e-04,   4.48517586e-04,   4.60704635e-04,\n",
       "         4.72990281e-04,   4.85371111e-04,   4.97838568e-04,\n",
       "         5.10378653e-04,   5.22971671e-04,   5.35592042e-04,\n",
       "         5.48208154e-04,   5.60782262e-04,   5.73270433e-04,\n",
       "         5.85622528e-04,   5.97782223e-04,   6.09687071e-04,\n",
       "         6.21268607e-04,   6.32452500e-04,   6.43158754e-04,\n",
       "         6.53301968e-04,   6.62791662e-04,   6.71532663e-04,\n",
       "         6.79425570e-04,   6.86367287e-04,   6.92251627e-04,\n",
       "         6.96969989e-04,   7.00412101e-04,   7.02466824e-04,\n",
       "         7.03023003e-04,   7.01970371e-04,   6.99200491e-04,\n",
       "         6.94607719e-04,   6.88090200e-04,   6.79550872e-04,\n",
       "         6.68898478e-04,   6.56048584e-04,   6.40924581e-04,\n",
       "         6.23458685e-04,   6.03592906e-04,   5.81279990e-04,\n",
       "         5.56484315e-04,   5.29182739e-04,   4.99365377e-04,\n",
       "         4.67036294e-04,   4.32214109e-04,   3.94932484e-04,\n",
       "         3.55240488e-04,   3.13202823e-04,   2.68899908e-04,\n",
       "         2.22427794e-04,   1.73897928e-04,   1.23436742e-04,\n",
       "         7.11850888e-05,   1.72975069e-05,   3.80586541e-05,\n",
       "         9.47042537e-05,   1.52449503e-04,   2.11095215e-04,\n",
       "         2.70434146e-04,   3.30252407e-04,   3.90330920e-04,\n",
       "         4.50446915e-04,   5.10375425e-04,   5.69890782e-04,\n",
       "         6.28768083e-04,   6.86784613e-04,   7.43721215e-04,\n",
       "         7.99363592e-04,   8.53503527e-04,   9.05940023e-04,\n",
       "         9.56480347e-04,   1.00494098e-03,   1.05114848e-03,\n",
       "         1.09494022e-03,   1.13616507e-03,   1.17468398e-03,\n",
       "         1.21037040e-03,   1.24311076e-03,   1.27280472e-03,\n",
       "         1.29936543e-03,   1.32271968e-03,   1.34280800e-03,\n",
       "         1.35958463e-03,   1.37301750e-03,   1.38308806e-03,\n",
       "         1.38979103e-03,   1.39313417e-03,   1.39313781e-03,\n",
       "         1.38983446e-03,   1.38326821e-03,   1.37349414e-03,\n",
       "         1.36057759e-03,   1.34459342e-03,   1.32562517e-03,\n",
       "         1.30376419e-03,   1.27910873e-03,   1.25176300e-03,\n",
       "         1.22183624e-03,   1.18944175e-03,   1.15469602e-03,\n",
       "         1.11771778e-03,   1.07862718e-03,   1.03754500e-03,\n",
       "         9.94591941e-04,   9.49887933e-04,   9.03551593e-04,\n",
       "         8.55699732e-04,   8.06446949e-04,   7.55905325e-04,\n",
       "         7.04184201e-04,   6.51390033e-04,   5.97626343e-04,\n",
       "         5.42993733e-04,   4.87589975e-04,   4.31510157e-04,\n",
       "         3.74846892e-04,   3.17690557e-04,   2.60129581e-04,\n",
       "         2.02250745e-04,   1.44139512e-04,   8.58803532e-05,\n",
       "         2.75570846e-05,   3.07468068e-05,   8.89478448e-05,\n",
       "         1.46962260e-04,   2.04705701e-04,   2.62092967e-04,\n",
       "         3.19037751e-04,   3.75452414e-04,   4.31247766e-04,\n",
       "         4.86332880e-04,   5.40614920e-04,   5.93999000e-04,\n",
       "         6.46388072e-04,   6.97682856e-04,   7.47781801e-04,\n",
       "         7.96581113e-04,   8.43974831e-04,   8.89854978e-04,\n",
       "         9.34111787e-04,   9.76634008e-04,   1.01730931e-03,\n",
       "         1.05602475e-03,   1.09266742e-03,   1.12712504e-03,\n",
       "         1.15928680e-03,   1.18904417e-03,   1.21629188e-03,\n",
       "         1.24092885e-03,   1.26285930e-03,   1.28199381e-03,\n",
       "         1.29825043e-03,   1.31155582e-03,   1.32184637e-03,\n",
       "         1.32906929e-03,   1.33318368e-03,   1.33416157e-03,\n",
       "         1.33198886e-03,   1.32666626e-03,   1.31821010e-03,\n",
       "         1.30665311e-03,   1.29204504e-03,   1.27445332e-03,\n",
       "         1.25396344e-03,   1.23067939e-03,   1.20472393e-03,\n",
       "         1.17623866e-03,   1.14538413e-03,   1.11233968e-03,\n",
       "         1.07730319e-03,   1.04049077e-03,   1.00213618e-03,\n",
       "         9.62490234e-04,   9.21819997e-04,   8.80407918e-04,\n",
       "         8.38550806e-04,   7.96558733e-04,   7.54753829e-04,\n",
       "         7.13469023e-04,   6.73046711e-04,   6.33837392e-04,\n",
       "         5.96198276e-04,   5.60491886e-04,   5.27084664e-04,\n",
       "         4.96345606e-04,   4.68644929e-04,   4.44352789e-04,\n",
       "         4.23838069e-04,   4.07467231e-04,   3.95603268e-04,\n",
       "         3.88604736e-04,   3.86824905e-04,   3.90611016e-04,\n",
       "         4.00303656e-04,   4.16236265e-04,   4.38734776e-04,\n",
       "         4.68117382e-04,   5.04694458e-04,   5.48768620e-04,\n",
       "         6.00634935e-04,   6.60581274e-04,   7.28888825e-04,\n",
       "         8.05832748e-04,   8.91682980e-04,   9.86705187e-04,\n",
       "         1.09116185e-03,   1.20531351e-03,   1.32942007e-03,\n",
       "         1.46374232e-03,   1.60854343e-03,   1.76409065e-03,\n",
       "         1.93065700e-03,   2.10852300e-03,   2.29797849e-03,\n",
       "         2.49932438e-03,   2.71287441e-03,   2.93895685e-03,\n",
       "         3.17791615e-03,   3.43011445e-03,   3.69593309e-03,\n",
       "         3.97577381e-03,   4.27005998e-03,   4.57923758e-03,\n",
       "         4.90377597e-03,   5.24416857e-03,   5.60093322e-03,\n",
       "         5.97461241e-03,   6.36577319e-03,   6.77500686e-03,\n",
       "         7.20292842e-03,   7.65017562e-03,   8.11740773e-03,\n",
       "         8.60530401e-03,   9.11456168e-03,   9.64589357e-03,\n",
       "         1.02000253e-02,   1.07776920e-02,   1.13796345e-02,\n",
       "         1.20065953e-02,   1.26593135e-02,   1.33385195e-02,\n",
       "         1.40449294e-02,   1.47792386e-02,   1.55421147e-02,\n",
       "         1.63341902e-02,   1.71560546e-02,   1.80082458e-02,\n",
       "         1.88912415e-02,   1.98054495e-02,   2.07511978e-02,\n",
       "         2.17287247e-02,   2.27381678e-02,   2.37795529e-02,\n",
       "         2.48527829e-02,   2.59576256e-02,   2.70937020e-02,\n",
       "         2.82604740e-02,   2.94572315e-02,   3.06830802e-02,\n",
       "         3.19369284e-02,   3.32174743e-02,   3.45231934e-02,\n",
       "         3.58523251e-02,   3.72028606e-02,   3.85725302e-02,\n",
       "         3.99587913e-02,   4.13588167e-02,   4.27694831e-02,\n",
       "         4.41873608e-02,   4.56087037e-02,   4.70294399e-02,\n",
       "         4.84451637e-02,   4.98511281e-02,   5.12422388e-02,\n",
       "         5.26130496e-02,   5.39577579e-02,   5.52702037e-02,\n",
       "         5.65438680e-02,   5.77718747e-02,   5.89469929e-02,\n",
       "         6.00616420e-02,   6.11078985e-02,   6.20775049e-02,\n",
       "         6.29618808e-02,   6.37521363e-02,   6.44390884e-02,\n",
       "         6.50132789e-02,   6.54649957e-02,   6.57842968e-02,\n",
       "         6.59610361e-02,   6.59848932e-02,   6.58454047e-02,\n",
       "         6.55319995e-02,   6.50340361e-02,   6.43408425e-02,\n",
       "         6.34417594e-02,   6.23261856e-02,   6.09836263e-02,\n",
       "         5.94037430e-02,   5.75764068e-02,   5.54917536e-02,\n",
       "         5.31402403e-02,   5.05127050e-02,   4.76004263e-02,\n",
       "         4.43951865e-02,   4.08893344e-02,   3.70758502e-02,\n",
       "         3.29484102e-02,   2.85014528e-02,   2.37302446e-02,\n",
       "         1.86309460e-02,   1.32006765e-02,   7.43757963e-03,\n",
       "         1.34088601e-03,   5.08902436e-03,   1.18505622e-02,\n",
       "         1.89408714e-02,   2.63557737e-02,   3.40897170e-02,\n",
       "         4.21357272e-02,   5.04853637e-02,   5.91286794e-02,\n",
       "         6.80541859e-02,   7.72488234e-02,   8.66979371e-02,\n",
       "         9.63852583e-02,   1.06292893e-01,   1.16401319e-01,\n",
       "         1.26689385e-01,   1.37134323e-01,   1.47711764e-01,\n",
       "         1.58395768e-01,   1.69158854e-01,   1.79972044e-01,\n",
       "         1.90804916e-01,   2.01625661e-01,   2.12401158e-01,\n",
       "         2.23097045e-01,   2.33677811e-01,   2.44106891e-01,\n",
       "         2.54346770e-01,   2.64359096e-01,   2.74104799e-01,\n",
       "         2.83544225e-01,   2.92637270e-01,   3.01343523e-01,\n",
       "         3.09622417e-01,   3.17433387e-01,   3.24736033e-01,\n",
       "         3.31490284e-01,   3.37656574e-01,   3.43196015e-01,\n",
       "         3.48070576e-01,   3.52243265e-01,   3.55678307e-01,\n",
       "         3.58341332e-01,   3.60199554e-01,   3.61221950e-01,\n",
       "         3.61379445e-01,   3.60645081e-01,   3.58994190e-01,\n",
       "         3.56404565e-01,   3.52856615e-01,   3.48333518e-01,\n",
       "         3.42821372e-01,   3.36309326e-01,   3.28789710e-01,\n",
       "         3.20258148e-01,   3.10713665e-01,   3.00158775e-01,\n",
       "         2.88599565e-01,   2.76045754e-01,   2.62510747e-01,\n",
       "         2.48011667e-01,   2.32569375e-01,   2.16208473e-01,\n",
       "         1.98957288e-01,   1.80847845e-01,   1.61915815e-01,\n",
       "         1.42200451e-01,   1.21744508e-01,   1.00594140e-01,\n",
       "         7.87987824e-02,   5.64110243e-02,   3.34864528e-02,\n",
       "         1.00834895e-02,   1.37367907e-02,   3.79108562e-02,\n",
       "         6.23729285e-02,   8.70552057e-02,   1.11888098e-01,\n",
       "         1.36800476e-01,   1.61719927e-01,   1.86573020e-01,\n",
       "         2.11285586e-01,   2.35782993e-01,   2.59990439e-01,\n",
       "         2.83833237e-01,   3.07237118e-01,   3.30128516e-01,\n",
       "         3.52434872e-01,   3.74084924e-01,   3.95009002e-01,\n",
       "         4.15139310e-01,   4.34410211e-01,   4.52758501e-01,\n",
       "         4.70123675e-01,   4.86448180e-01,   5.01677666e-01,\n",
       "         5.15761213e-01,   5.28651550e-01,   5.40305266e-01,\n",
       "         5.50682988e-01,   5.59749561e-01,   5.67474198e-01,\n",
       "         5.73830614e-01,   5.78797145e-01,   5.82356840e-01,\n",
       "         5.84497536e-01])"
      ]
     },
     "execution_count": 19,
     "metadata": {},
     "output_type": "execute_result"
    }
   ],
   "source": [
    "np.abs(ixx)"
   ]
  },
  {
   "cell_type": "code",
   "execution_count": 20,
   "metadata": {
    "collapsed": true
   },
   "outputs": [],
   "source": [
    "rotate = sw.core.core.rotate\n",
    "\n",
    "def gridcov(x, y, w0, w1, degs, slags):\n",
    "    # prepare empty covariance arrays\n",
    "    g = np.empty((degs.size, slags.size, 2, 2))\n",
    "    n = w1 - w0\n",
    "    npsum = np.sum # remove dots from inner loop\n",
    "    # now loop and calculate\n",
    "    for ii in range(degs.size):\n",
    "        # prepare a list of data rotated to degs\n",
    "        rot = rotate(x, y, degs[ii])\n",
    "        # this is the mean in each window\n",
    "        meanx = running_mean(rot[0], w0, w1, slags)\n",
    "        meany = running_mean(rot[1], w0, w1, slags)\n",
    "        # loop over lags\n",
    "        for jj in range(slags.size):\n",
    "            slag = slags[jj]\n",
    "            wx, wy  = slagchop(rot[0], rot[1], w0, w1, -slag)\n",
    "            dx, dy = wx - meanx[slag], wy - meany[slag]\n",
    "            g[ii, jj, 0, 0] = npsum(dx * dx)\n",
    "            g[ii, jj, 1, 0] = g[ii, jj, 0, 1] = npsum(dx * dy)\n",
    "            g[ii, jj, 1, 1] = npsum(dy * dy)\n",
    "    return g / n\n",
    "    "
   ]
  },
  {
   "cell_type": "code",
   "execution_count": 21,
   "metadata": {
    "collapsed": true
   },
   "outputs": [],
   "source": [
    "rotate = sw.core.core.rotate\n",
    "\n",
    "def gridcovfreq(x, y, ndegs=60, nlags=50):\n",
    "    \"\"\"Returns grid of covariance matrices of shape (ndegs/2, 1+2*nlags, 2, 2).\n",
    "       The grid contains \n",
    "    \"\"\"\n",
    "    mdegs = int(ndegs/2)\n",
    "    mlags = int(nlags*2) + 1\n",
    "    degs = np.linspace(0, 90, mdegs, endpoint=False)\n",
    "    n = x.size\n",
    "    g = np.empty((mlags, mdegs, 2, 2))\n",
    "    # Fourier Transform\n",
    "    x = x - np.mean(x)\n",
    "    y = y - np.mean(y)\n",
    "    fx = np.fft.rfft(x)\n",
    "    fy = np.fft.rfft(y)    \n",
    "    # now loop and calculate\n",
    "    for ii in range(mdegs):\n",
    "        # rotate\n",
    "        fxr, fyr = rotate(fx, fy, degs[ii])\n",
    "        # correlate\n",
    "        cxx = fxr * fxr.conj()\n",
    "        cyy = fyr * fyr.conj()\n",
    "        cxy = fxr * fyr.conj()\n",
    "        # inverse transform\n",
    "        icxx = np.fft.irfft(cxx) \n",
    "        icyy = np.fft.irfft(cyy)\n",
    "        icxy = np.fft.irfft(cxy)\n",
    "        # get info\n",
    "        varx = icxx[0]\n",
    "        vary = icyy[0]\n",
    "        rho = np.roll(icxy, int(nlags))[0:mlags]\n",
    "        # basic covariance map\n",
    "        g[:,ii,0,0] = varx\n",
    "        g[:,ii,1,1] = vary\n",
    "        g[:,ii,0,1] = g[:,ii,1,0] = rho\n",
    "    return g / n \n",
    "    "
   ]
  },
  {
   "cell_type": "code",
   "execution_count": 22,
   "metadata": {
    "collapsed": true
   },
   "outputs": [],
   "source": [
    "a = sw.SplitWave(pol=0, split=(30,2), noise=0.02)\n",
    "x = a.x[:-1]\n",
    "y = a.y[:-1]\n",
    "cov = gridcovfreq(x,y)\n",
    "# xx,yy = np.meshgrid(np.arange(90), np.arange(a.x.size-1))\n",
    "# plt.contourf(xx,yy,cov.T,30,cmap='magma')\n",
    "# plt.show()"
   ]
  },
  {
   "cell_type": "code",
   "execution_count": 23,
   "metadata": {},
   "outputs": [
    {
     "data": {
      "image/png": "[encoded data removed]",
      "text/plain": [
       "<matplotlib.figure.Figure at 0x1c1dc562e8>"
      ]
     },
     "metadata": {},
     "output_type": "display_data"
    }
   ],
   "source": [
    "yy = np.linspace(0, 90, cov.shape[1], endpoint=False)\n",
    "mlags = cov.shape[0]\n",
    "maxlag = (mlags - 1)/2\n",
    "xx = np.linspace(-maxlag, maxlag, mlags)\n",
    "xx, yy = np.meshgrid(xx, yy, indexing='ij')\n",
    "plt.ylabel('degs')\n",
    "plt.xlabel('lags')\n",
    "rho = sw.core.core.covmap2rho(cov)\n",
    "plt.contourf(xx, yy, abs(rho), 50, cmap='magma')\n",
    "plt.show()"
   ]
  },
  {
   "cell_type": "code",
   "execution_count": 24,
   "metadata": {},
   "outputs": [
    {
     "data": {
      "image/png": "[encoded data removed]",
      "text/plain": [
       "<matplotlib.figure.Figure at 0x1c1dc56b70>"
      ]
     },
     "metadata": {},
     "output_type": "display_data"
    }
   ],
   "source": [
    "yy = np.linspace(0, 90, cov.shape[1], endpoint=False)\n",
    "mlags = cov.shape[0]\n",
    "maxlag = (mlags - 1)/2\n",
    "xx = np.linspace(-maxlag, maxlag, mlags)\n",
    "xx, yy = np.meshgrid(xx, yy, indexing='ij')\n",
    "plt.ylabel('degs')\n",
    "plt.xlabel('lags')\n",
    "lam1, lam2 = sw.core.core.covmap2eigvals(cov)\n",
    "plt.contourf(xx, yy, lam1/lam2, 50, cmap='magma')\n",
    "plt.show()"
   ]
  },
  {
   "cell_type": "code",
   "execution_count": 25,
   "metadata": {
    "collapsed": true
   },
   "outputs": [],
   "source": [
    "neg = cov[:51,:,:,:]\n",
    "pos = cov[50:,:,:,:]"
   ]
  },
  {
   "cell_type": "code",
   "execution_count": 26,
   "metadata": {},
   "outputs": [
    {
     "data": {
      "text/plain": [
       "<matplotlib.contour.QuadContourSet at 0x1c1ddc04e0>"
      ]
     },
     "execution_count": 26,
     "metadata": {},
     "output_type": "execute_result"
    },
    {
     "data": {
      "image/png": "[encoded data removed]",
      "text/plain": [
       "<matplotlib.figure.Figure at 0x1c1ddc0518>"
      ]
     },
     "metadata": {},
     "output_type": "display_data"
    }
   ],
   "source": [
    "# plot positive lags (from the right)\n",
    "yy = np.linspace(0, 90, pos.shape[1], endpoint=False)\n",
    "mlags = pos.shape[0]\n",
    "maxlag = (mlags - 1)/2\n",
    "xx = np.linspace(-maxlag, maxlag, mlags)\n",
    "xx, yy = np.meshgrid(xx, yy, indexing='ij')\n",
    "plt.ylabel('degs')\n",
    "plt.xlabel('lags')\n",
    "lam1, lam2 = sw.core.core.covmap2eigvals(pos)\n",
    "plt.contourf(xx,yy,lam1/lam2,50,cmap='magma')"
   ]
  },
  {
   "cell_type": "code",
   "execution_count": 27,
   "metadata": {},
   "outputs": [
    {
     "data": {
      "text/plain": [
       "<matplotlib.contour.QuadContourSet at 0x1c1ea78898>"
      ]
     },
     "execution_count": 27,
     "metadata": {},
     "output_type": "execute_result"
    },
    {
     "data": {
      "image/png": "[encoded data removed]",
      "text/plain": [
       "<matplotlib.figure.Figure at 0x1c1ea78a58>"
      ]
     },
     "metadata": {},
     "output_type": "display_data"
    }
   ],
   "source": [
    "# plot negative lags (from the left)\n",
    "yy = np.linspace(0, 90, neg.shape[1], endpoint=False)\n",
    "mlags = neg.shape[0]\n",
    "maxlag = (mlags - 1)/2\n",
    "xx = np.linspace(-maxlag, 0, mlags)\n",
    "xx, yy = np.meshgrid(xx, yy, indexing='ij')\n",
    "plt.ylabel('degs')\n",
    "plt.xlabel('lags')\n",
    "lam1, lam2 = sw.core.core.covmap2eigvals(neg)\n",
    "plt.contourf(xx,yy,lam1/lam2,50,cmap='magma')"
   ]
  },
  {
   "cell_type": "code",
   "execution_count": 28,
   "metadata": {},
   "outputs": [
    {
     "data": {
      "text/plain": [
       "<matplotlib.contour.QuadContourSet at 0x1c1eb9a048>"
      ]
     },
     "execution_count": 28,
     "metadata": {},
     "output_type": "execute_result"
    },
    {
     "data": {
      "image/png": "[encoded data removed]",
      "text/plain": [
       "<matplotlib.figure.Figure at 0x1c1eb9a860>"
      ]
     },
     "metadata": {},
     "output_type": "display_data"
    }
   ],
   "source": [
    "# flip the \"negative\" lags\n",
    "negflip = np.flip(neg,0)\n",
    "yy = np.linspace(0, 90, negflip.shape[1], endpoint=False)\n",
    "mlags = negflip.shape[0]\n",
    "maxlag = (mlags - 1)/2\n",
    "xx = np.linspace(-maxlag, 0, mlags)\n",
    "xx, yy = np.meshgrid(xx, yy, indexing='ij')\n",
    "plt.ylabel('degs')\n",
    "plt.xlabel('lags')\n",
    "lam1, lam2 = sw.core.core.covmap2eigvals(negflip)\n",
    "plt.contourf(xx,yy,lam1/lam2,50,cmap='magma')"
   ]
  },
  {
   "cell_type": "code",
   "execution_count": 29,
   "metadata": {},
   "outputs": [
    {
     "data": {
      "image/png": "[encoded data removed]",
      "text/plain": [
       "<matplotlib.figure.Figure at 0x1c1ea7fac8>"
      ]
     },
     "metadata": {},
     "output_type": "display_data"
    }
   ],
   "source": [
    "# concatenate lags\n",
    "covcat = np.concatenate((negflip,pos),axis=1)\n",
    "# plot\n",
    "yy = np.linspace(0, 180, covcat.shape[1], endpoint=False)\n",
    "mlags = covcat.shape[0]\n",
    "# maxlag = (mlags - 1)/2\n",
    "xx = np.linspace(0, mlags, mlags)\n",
    "xx, yy = np.meshgrid(xx, yy, indexing='ij')\n",
    "plt.ylabel('degs')\n",
    "plt.xlabel('lags')\n",
    "lam1, lam2 = sw.core.core.covmap2eigvals(covcat)\n",
    "plt.contourf(xx, yy, lam1/lam2, 50, cmap='magma')\n",
    "plt.show()"
   ]
  },
  {
   "cell_type": "code",
   "execution_count": 30,
   "metadata": {},
   "outputs": [],
   "source": [
    "def freqcov_reshape(cov):\n",
    "    shp = cov.shape\n",
    "    mid = int((shp[0]-1)/2)\n",
    "    neg = np.flip(cov[:mid+1,:,:,:], 0)\n",
    "    pos = cov[mid:,:,:,:]\n",
    "    return np.concatenate((neg, pos), axis=1)"
   ]
  },
  {
   "cell_type": "code",
   "execution_count": 31,
   "metadata": {},
   "outputs": [
    {
     "data": {
      "text/plain": [
       "50"
      ]
     },
     "execution_count": 31,
     "metadata": {},
     "output_type": "execute_result"
    }
   ],
   "source": [
    "int((cov.shape[0]-1)/2)"
   ]
  },
  {
   "cell_type": "code",
   "execution_count": null,
   "metadata": {
    "collapsed": true
   },
   "outputs": [],
   "source": [
    "def gridcovfreqwin(x, y, w0, w1, ndegs=60, nlags=50):\n",
    "    \"\"\"Returns grid of covariance matrices of shape (ndegs/2, 1+2*nlags, 2, 2).\n",
    "       The grid contains \n",
    "    \"\"\"\n",
    "    mdegs = int(ndegs/2)\n",
    "    mlags = int(nlags*2) + 1\n",
    "    degs = np.linspace(0, 90, mdegs, endpoint=False)\n",
    "    n = x.size\n",
    "    g = np.empty((mlags, mdegs, 2, 2))\n",
    "    # Fourier Transform\n",
    "    x = x - np.mean(x)\n",
    "    y = y - np.mean(y)\n",
    "    fx = np.fft.rfft(x)\n",
    "    fy = np.fft.rfft(y)    \n",
    "    # now loop and calculate\n",
    "    for ii in range(mdegs):\n",
    "        # rotate\n",
    "        fxr, fyr = rotate(fx, fy, degs[ii])\n",
    "        # multiply by Fwindow to get running means\n",
    "        # correlate\n",
    "        cxx = fxr * fxr.conj()\n",
    "        cyy = fyr * fyr.conj()\n",
    "        cxy = fxr * fyr.conj()\n",
    "        # inverse transform\n",
    "        icxx = np.fft.irfft(cxx) \n",
    "        icyy = np.fft.irfft(cyy)\n",
    "        icxy = np.fft.irfft(cxy)\n",
    "        # get info\n",
    "        varx = icxx[0]\n",
    "        vary = icyy[0]\n",
    "        rho = np.roll(icxy, int(nlags))[0:mlags]\n",
    "        # basic covariance map\n",
    "        g[:,ii,0,0] = varx\n",
    "        g[:,ii,1,1] = vary\n",
    "        g[:,ii,0,1] = g[:,ii,1,0] = rho\n",
    "    return g / n "
   ]
  },
  {
   "cell_type": "markdown",
   "metadata": {},
   "source": [
    "Apply splitting operator in Fourier domain."
   ]
  },
  {
   "cell_type": "code",
   "execution_count": 9,
   "metadata": {
    "collapsed": true
   },
   "outputs": [],
   "source": [
    "import splitwavepy as sw\n",
    "import numpy as np\n",
    "import math\n",
    "import matplotlib.pyplot as plt"
   ]
  },
  {
   "cell_type": "code",
   "execution_count": 4,
   "metadata": {},
   "outputs": [
    {
     "data": {
      "image/png": "[encoded data removed]",
      "text/plain": [
       "<matplotlib.figure.Figure at 0x1c0dc76a58>"
      ]
     },
     "metadata": {},
     "output_type": "display_data"
    }
   ],
   "source": [
    "a = sw.SplitWave(split=(30,1.2), noise=0.02)\n",
    "a.plot()"
   ]
  },
  {
   "cell_type": "code",
   "execution_count": 13,
   "metadata": {
    "collapsed": true
   },
   "outputs": [],
   "source": [
    "def split_operator(phi, slag):\n",
    "    # rotate:\n",
    "    ang = math.radians(phi)\n",
    "    cang = math.cos(ang)\n",
    "    sang = math.sin(ang)\n",
    "    rot = np.array([[ cang, sang],\n",
    "                    [-sang, cang]])\n",
    "    # lag:\n",
    "    pi = math.pi\n",
    "    p = -(2*pi * slag)\n",
    "    q = np.exp(1j*p)\n",
    "    lag = q * np.eye(2)\n",
    "    return rot + lag\n",
    "#     return np.dot()\n",
    "\n",
    "def splitting_in_fourier(x, y, phi, slag):\n",
    "    # Fourier transform data\n",
    "    fx = np.fft.rfft(x)\n",
    "    fy = np.fft.rfft(y)\n",
    "    data = np.vstack((fx, fy))\n",
    "    gamma = split_operator(phi, slag)\n",
    "    data = np.dot(gamma, data)\n",
    "    x = np.fft.irfft(data[0])\n",
    "    y = np.fft.irfft(data[1])\n",
    "    return x, y"
   ]
  },
  {
   "cell_type": "code",
   "execution_count": 17,
   "metadata": {
    "collapsed": true
   },
   "outputs": [],
   "source": [
    "x = a.x\n",
    "y = a.y\n",
    "x1, y1 = splitting_in_fourier(x, y, 45, 10)"
   ]
  },
  {
   "cell_type": "code",
   "execution_count": 18,
   "metadata": {},
   "outputs": [
    {
     "data": {
      "image/png": "[encoded data removed]",
      "text/plain": [
       "<matplotlib.figure.Figure at 0x1c160c0860>"
      ]
     },
     "metadata": {},
     "output_type": "display_data"
    }
   ],
   "source": [
    "plt.plot(x)\n",
    "plt.plot(y)\n",
    "plt.show()"
   ]
  },
  {
   "cell_type": "code",
   "execution_count": 20,
   "metadata": {},
   "outputs": [
    {
     "data": {
      "image/png": "[encoded data removed]",
      "text/plain": [
       "<matplotlib.figure.Figure at 0x1c161b38d0>"
      ]
     },
     "metadata": {},
     "output_type": "display_data"
    }
   ],
   "source": [
    "plt.plot(x1)\n",
    "plt.plot(y1)\n",
    "plt.show()"
   ]
  },
  {
   "cell_type": "code",
   "execution_count": 42,
   "metadata": {},
   "outputs": [
    {
     "data": {
      "image/png": "[encoded data removed]",
      "text/plain": [
       "<matplotlib.figure.Figure at 0x1c0dc7b668>"
      ]
     },
     "metadata": {},
     "output_type": "display_data"
    }
   ],
   "source": [
    "fx = np.fft.fft(x)\n",
    "pwr = np.abs(fx)**2\n",
    "plt.plot(pwr)\n",
    "plt.show()"
   ]
  },
  {
   "cell_type": "code",
   "execution_count": 43,
   "metadata": {},
   "outputs": [
    {
     "data": {
      "text/plain": [
       "0.96067011998107343"
      ]
     },
     "execution_count": 43,
     "metadata": {},
     "output_type": "execute_result"
    }
   ],
   "source": [
    "np.sum(x**2)"
   ]
  },
  {
   "cell_type": "code",
   "execution_count": 44,
   "metadata": {},
   "outputs": [
    {
     "data": {
      "text/plain": [
       "0.96067011998107288"
      ]
     },
     "execution_count": 44,
     "metadata": {},
     "output_type": "execute_result"
    }
   ],
   "source": [
    "np.sum(pwr)/x.size"
   ]
  },
  {
   "cell_type": "code",
   "execution_count": 48,
   "metadata": {},
   "outputs": [
    {
     "name": "stdout",
     "output_type": "stream",
     "text": [
      "1.07608771453\n"
     ]
    },
    {
     "data": {
      "image/png": "[encoded data removed]",
      "text/plain": [
       "<matplotlib.figure.Figure at 0x1c16a94ef0>"
      ]
     },
     "metadata": {},
     "output_type": "display_data"
    },
    {
     "name": "stdout",
     "output_type": "stream",
     "text": [
      "1.07608771453\n"
     ]
    }
   ],
   "source": [
    "xb = x + 0.01\n",
    "print(np.sum(xb**2))\n",
    "fxb = np.fft.fft(xb)\n",
    "pwr = np.abs(fxb)**2\n",
    "plt.plot(pwr)\n",
    "plt.show()\n",
    "print(np.sum(pwr)/x.size)"
   ]
  },
  {
   "cell_type": "code",
   "execution_count": 52,
   "metadata": {},
   "outputs": [
    {
     "name": "stdout",
     "output_type": "stream",
     "text": [
      "0.959980456357\n"
     ]
    }
   ],
   "source": [
    "fxb[0] = 0\n",
    "pwr = np.abs(fxb)**2\n",
    "print(np.sum(pwr)/x.size)"
   ]
  },
  {
   "cell_type": "code",
   "execution_count": 60,
   "metadata": {},
   "outputs": [
    {
     "data": {
      "text/plain": [
       "(-4.7933569074132439e-15+5.3248111102418297e-30j)"
      ]
     },
     "execution_count": 60,
     "metadata": {},
     "output_type": "execute_result"
    }
   ],
   "source": [
    "x = a.x[:-1]\n",
    "x = x - np.mean(x)\n",
    "fx = np.fft.fft(x)\n",
    "ifx = np.fft.ifft(fx)\n",
    "np.sum(x-ifx)"
   ]
  },
  {
   "cell_type": "code",
   "execution_count": 59,
   "metadata": {},
   "outputs": [
    {
     "data": {
      "text/plain": [
       "0.00083374789813840222"
      ]
     },
     "execution_count": 59,
     "metadata": {},
     "output_type": "execute_result"
    }
   ],
   "source": []
  },
  {
   "cell_type": "markdown",
   "metadata": {},
   "source": [
    "$Cov(X,Y) = E[(X-E[X])(Y-E[Y])]$\n",
    "\n",
    "$Cov(X,Y) = E[XY] - E[X]E[Y]$\n",
    "\n",
    "If we can guarantee $E[X]=0$ or $E[Y]=0$ ...\n",
    "\n",
    "\n",
    "$Cov(X,Y) = E[XY]$\n",
    "\n",
    "By parseval's theorem the sum $\\sum{XY}$ can be calculated in the Fourier domain.\n",
    "\n",
    "Remove the mean in the Fourier domain by setting the 0th entry to zero."
   ]
  },
  {
   "cell_type": "code",
   "execution_count": 91,
   "metadata": {},
   "outputs": [
    {
     "name": "stdout",
     "output_type": "stream",
     "text": [
      "ener 0.960670119981\n",
      "var 0.000970657690957\n"
     ]
    }
   ],
   "source": [
    "x = a.x[:]\n",
    "# x = x - np.mean(x)\n",
    "print('ener', np.sum(x**2))\n",
    "# print(np.sum(x**2)/x.size)\n",
    "print('var', np.var(x))"
   ]
  },
  {
   "cell_type": "code",
   "execution_count": 92,
   "metadata": {},
   "outputs": [
    {
     "name": "stdout",
     "output_type": "stream",
     "text": [
      "ener 0.959980456357\n",
      "var 0.000970657690957\n"
     ]
    }
   ],
   "source": [
    "# Fourier transform x\n",
    "fx = np.fft.fft(x)\n",
    "# Remove mean\n",
    "fx[0] = 0\n",
    "# Calc Energy\n",
    "pwr = np.abs(fx)**2\n",
    "ener = np.sum(pwr)/x.size\n",
    "print('ener', ener)\n",
    "# Variance\n",
    "print('var', ener/x.size)"
   ]
  },
  {
   "cell_type": "code",
   "execution_count": 197,
   "metadata": {
    "collapsed": true
   },
   "outputs": [],
   "source": [
    "def cov_in_fourier(x, y):\n",
    "    fx = np.fft.fft(x)\n",
    "    fx[0] = 0\n",
    "    fy = np.fft.fft(y)\n",
    "    fy[0] = 0\n",
    "    n = x.size\n",
    "    pwr = np.abs(fx) * np.abs(fy.conj())   \n",
    "    cov = np.sum(pwr) / n**2\n",
    "    return cov"
   ]
  },
  {
   "cell_type": "code",
   "execution_count": 198,
   "metadata": {},
   "outputs": [
    {
     "data": {
      "text/plain": [
       "array([[  9.71640138e-04,   3.51404389e-05],\n",
       "       [  3.51404389e-05,   6.82963111e-05]])"
      ]
     },
     "execution_count": 198,
     "metadata": {},
     "output_type": "execute_result"
    }
   ],
   "source": [
    "x = a.x\n",
    "y = a.y\n",
    "ncov = np.cov(x, y)\n",
    "ncov"
   ]
  },
  {
   "cell_type": "code",
   "execution_count": 199,
   "metadata": {},
   "outputs": [
    {
     "data": {
      "text/plain": [
       "0.00024125954387192833"
      ]
     },
     "execution_count": 199,
     "metadata": {},
     "output_type": "execute_result"
    }
   ],
   "source": [
    "cxx = cov_in_fourier(x, x)\n",
    "cyy = cov_in_fourier(y, y)\n",
    "cxy = cov_in_fourier(x, y)\n",
    "cxy"
   ]
  },
  {
   "cell_type": "code",
   "execution_count": 200,
   "metadata": {},
   "outputs": [
    {
     "data": {
      "text/plain": [
       "14.226831902158857"
      ]
     },
     "execution_count": 200,
     "metadata": {},
     "output_type": "execute_result"
    }
   ],
   "source": [
    "cxx/cyy"
   ]
  },
  {
   "cell_type": "code",
   "execution_count": 201,
   "metadata": {},
   "outputs": [
    {
     "data": {
      "text/plain": [
       "14.226831902158851"
      ]
     },
     "execution_count": 201,
     "metadata": {},
     "output_type": "execute_result"
    }
   ],
   "source": [
    "cxxn = ncov[0][0]\n",
    "cyyn = ncov[1][1]\n",
    "cxxn/cyyn"
   ]
  },
  {
   "cell_type": "code",
   "execution_count": 165,
   "metadata": {},
   "outputs": [
    {
     "data": {
      "text/plain": [
       "0.00024150905616092253"
      ]
     },
     "execution_count": 165,
     "metadata": {},
     "output_type": "execute_result"
    }
   ],
   "source": [
    "cov_in_fourier(x,y)"
   ]
  },
  {
   "cell_type": "code",
   "execution_count": 356,
   "metadata": {},
   "outputs": [
    {
     "name": "stdout",
     "output_type": "stream",
     "text": [
      "0.000289981880111\n",
      "0.000289981880111\n",
      "0.000513214597367\n"
     ]
    }
   ],
   "source": [
    "x = a.x - np.mean(a.x)\n",
    "y = a.y - np.mean(a.y)\n",
    "\n",
    "sumxy = np.sum((x*y)**2)\n",
    "print(sumxy)\n",
    "fx = np.fft.fft(x)\n",
    "fy = np.fft.fft(y)\n",
    "fxy = np.fft.fft(x*y)\n",
    "pwr = np.abs(fxy**2)\n",
    "ener = pwr / x.size\n",
    "print(np.sum(ener))\n",
    "#\n",
    "# fx[0] = fy[0] = 0\n",
    "pwr = np.abs((fx*fy)**2)\n",
    "ener = pwr / (2*math.pi*x.size**2)\n",
    "print(np.sum(ener))\n",
    "# np.sum(np.abs(fx)*np.abs(fy).conj())/(x.size*y.size)\n"
   ]
  },
  {
   "cell_type": "code",
   "execution_count": 348,
   "metadata": {},
   "outputs": [
    {
     "data": {
      "text/plain": [
       "0.00025290075755254204"
      ]
     },
     "execution_count": 348,
     "metadata": {},
     "output_type": "execute_result"
    }
   ],
   "source": [
    "fxs = np.fft.fftshift(fx)\n",
    "fys = np.fft.fftshift(fy)\n",
    "fxfy = np.convolve(fx,fy,'same')\n",
    "np.sum(np.abs(fxfy))/(x.size*x.size*math.pi)"
   ]
  },
  {
   "cell_type": "code",
   "execution_count": 327,
   "metadata": {
    "collapsed": true
   },
   "outputs": [],
   "source": [
    "np.convolve?"
   ]
  },
  {
   "cell_type": "code",
   "execution_count": 2,
   "metadata": {
    "collapsed": true
   },
   "outputs": [],
   "source": [
    "import splitwavepy as sw\n",
    "import numpy as np"
   ]
  },
  {
   "cell_type": "code",
   "execution_count": 17,
   "metadata": {
    "collapsed": true
   },
   "outputs": [],
   "source": [
    "rotate = sw.core.core.rotate\n",
    "\n",
    "# faster covariance mapping exploiting correlation in frequency domain\n",
    "def gridcovfreq(x, y, ndegs=60, maxslag=50):\n",
    "    \"\"\"Returns grid of covariance matrices of shape (ndegs/2, 1+2*maxslag, 2, 2).\n",
    "       Use covfreq_reshape to get this into a more user friendly shape.\n",
    "       x and y are the windowed traces.  \n",
    "       Probably best to use a reasonably long, tapered, window as shifts\n",
    "       are performed implicitly in the Frequency domain (so wrap around?).\n",
    "    \"\"\"\n",
    "    mdegs = int(ndegs/2)\n",
    "    mlags = int(maxslag*2) + 1\n",
    "    degs = np.linspace(0, 90, mdegs, endpoint=False)\n",
    "    n = x.size\n",
    "    g = np.empty((mlags, mdegs, 2, 2))\n",
    "    # Fourier Transform\n",
    "    fx = np.fft.rfft(x)\n",
    "    fy = np.fft.rfft(y)\n",
    "    # now loop and calculate\n",
    "    for ii in range(mdegs):\n",
    "        # rotate\n",
    "        fxr, fyr = rotate(fx, fy, degs[ii])\n",
    "        # correlate\n",
    "        cxx = fxr * fxr.conj()\n",
    "        cyy = fyr * fyr.conj()\n",
    "        cxy = fxr * fyr.conj()\n",
    "        # inverse transform\n",
    "        icxx = np.fft.irfft(cxx) \n",
    "        icyy = np.fft.irfft(cyy)\n",
    "        icxy = np.fft.irfft(cxy)\n",
    "        # get info\n",
    "        varx = icxx[0]\n",
    "        vary = icyy[0]\n",
    "        rho = np.roll(icxy, int(maxslag))[0:mlags]\n",
    "        # basic covariance map\n",
    "        g[:,ii,0,0] = varx\n",
    "        g[:,ii,1,1] = vary\n",
    "        g[:,ii,0,1] = g[:,ii,1,0] = rho\n",
    "    return g / n\n",
    "\n",
    "def gridcovfreq2(x, y, ndegs=60, maxslag=50):\n",
    "    \"\"\"Returns grid of covariance matrices of shape (ndegs/2, 1+2*maxslag, 2, 2).\n",
    "       Use covfreq_reshape to get this into a more user friendly shape.\n",
    "       x and y are the windowed traces.  \n",
    "       Probably best to use a reasonably long, tapered, window as shifts\n",
    "       are performed implicitly in the Frequency domain (so wrap around?).\n",
    "    \"\"\"\n",
    "    mdegs = int(ndegs/2)\n",
    "    mlags = int(maxslag*2) + 1\n",
    "    degs = np.linspace(0, 90, mdegs, endpoint=False)\n",
    "    n = x.size\n",
    "    g = np.empty((mlags, mdegs, 2, 2))\n",
    "    # Fourier Transform\n",
    "    fx = np.fft.fft(x)\n",
    "    fy = np.fft.fft(y)\n",
    "    fx[0] = 0\n",
    "    fy[0] = 0\n",
    "    # now loop and calculate\n",
    "    for ii in range(mdegs):\n",
    "        # rotate\n",
    "        fxr, fyr = rotate(fx, fy, degs[ii])\n",
    "        # correlate\n",
    "        cxx = fxr * fxr.conj()\n",
    "        cyy = fyr * fyr.conj()\n",
    "        cxy = fxr * fyr.conj()\n",
    "        # inverse transform\n",
    "        icxx = np.fft.ifft(cxx).real\n",
    "        icyy = np.fft.ifft(cyy).real\n",
    "        icxy = np.fft.ifft(cxy).real\n",
    "        # get info\n",
    "        varx = icxx[0]\n",
    "        vary = icyy[0]\n",
    "        rho = np.roll(icxy, int(maxslag))[0:mlags]\n",
    "        # basic covariance map\n",
    "        g[:,ii,0,0] = varx\n",
    "        g[:,ii,1,1] = vary\n",
    "        g[:,ii,0,1] = g[:,ii,1,0] = rho\n",
    "    return g / n\n",
    "\n",
    "def gridcovfreq3(x, y, ndegs=60, maxslag=50):\n",
    "    \"\"\"Returns grid of covariance matrices of shape (ndegs/2, 1+2*maxslag, 2, 2).\n",
    "       Use covfreq_reshape to get this into a more user friendly shape.\n",
    "       x and y are the windowed traces.  \n",
    "       Probably best to use a reasonably long, tapered, window as shifts\n",
    "       are performed implicitly in the Frequency domain (so wrap around?).\n",
    "    \"\"\"\n",
    "    mdegs = int(ndegs/2)\n",
    "    mlags = int(maxslag*2) + 1\n",
    "    degs = np.linspace(0, 90, mdegs, endpoint=False)\n",
    "    n = x.size\n",
    "    g = np.empty((mlags, mdegs, 2, 2))\n",
    "    # Fourier Transform\n",
    "    fx = np.fft.fft(x)\n",
    "    fy = np.fft.fft(y)\n",
    "    fx[0] = 0\n",
    "    fy[0] = 0\n",
    "    # now loop and calculate\n",
    "    for ii in range(mdegs):\n",
    "        # rotate\n",
    "        fxr, fyr = rotate(fx, fy, degs[ii])\n",
    "        # correlate\n",
    "        cxy = fxr * fyr.conj()\n",
    "        # inverse transform\n",
    "        icxy = np.fft.ifft(cxy).real\n",
    "        # get info\n",
    "        varx = np.sum(np.abs(fxr)**2)/fxr.size\n",
    "        vary = np.sum(np.abs(fyr)**2)/fyr.size\n",
    "        rho = np.roll(icxy, int(maxslag))[0:mlags]\n",
    "        # basic covariance map\n",
    "        g[:,ii,0,0] = varx\n",
    "        g[:,ii,1,1] = vary\n",
    "        g[:,ii,0,1] = g[:,ii,1,0] = rho\n",
    "    return g / n\n",
    "\n",
    "def gridcovfreq4(x, y, ndegs=60, maxslag=50):\n",
    "    \"\"\"Returns grid of covariance matrices of shape (ndegs/2, 1+2*maxslag, 2, 2).\n",
    "       Use covfreq_reshape to get this into a more user friendly shape.\n",
    "       x and y are the windowed traces.  \n",
    "       Probably best to use a reasonably long, tapered, window as shifts\n",
    "       are performed implicitly in the Frequency domain (so wrap around?).\n",
    "    \"\"\"\n",
    "    mdegs = int(ndegs/2)\n",
    "    mlags = int(maxslag*2) + 1\n",
    "    degs = np.linspace(0, 90, mdegs, endpoint=False)\n",
    "    n = x.size\n",
    "    g = np.empty((mlags, mdegs, 2, 2))\n",
    "    # Fourier Transform\n",
    "    fx = np.fft.fft(x)\n",
    "    fy = np.fft.fft(y)\n",
    "    fx[0] = 0\n",
    "    fy[0] = 0\n",
    "    # now loop and calculate\n",
    "    for ii in range(mdegs):\n",
    "        # rotate\n",
    "        fxr, fyr = rotate(fx, fy, degs[ii])\n",
    "        # correlate\n",
    "        cxy = fxr * fyr.conj()\n",
    "        # inverse transform\n",
    "        icxy = np.fft.ifft(cxy).real\n",
    "        # get info\n",
    "        varx = np.sum(np.abs(fxr)**2)/n\n",
    "        vary = np.sum(np.abs(fyr)**2)/n\n",
    "        rho = np.roll(icxy, int(maxslag))[0:mlags]\n",
    "        # basic covariance map\n",
    "        g[:,ii,0,0] = varx\n",
    "        g[:,ii,1,1] = vary\n",
    "        g[:,ii,0,1] = g[:,ii,1,0] = rho\n",
    "    return g / n\n",
    "\n",
    "def gridcovfreq5(x, y, ndegs=60, maxslag=50):\n",
    "    \"\"\"Returns grid of covariance matrices of shape (ndegs/2, 1+2*maxslag, 2, 2).\n",
    "       Use covfreq_reshape to get this into a more user friendly shape.\n",
    "       x and y are the windowed traces.  \n",
    "       Probably best to use a reasonably long, tapered, window as shifts\n",
    "       are performed implicitly in the Frequency domain (so wrap around?).\n",
    "    \"\"\"\n",
    "    mdegs = int(ndegs/2)\n",
    "    mlags = int(maxslag*2) + 1\n",
    "    degs = np.linspace(0, 90, mdegs, endpoint=False)\n",
    "    n = x.size\n",
    "    g = np.empty((mlags, mdegs, 2, 2))\n",
    "    # Fourier Transform\n",
    "    fx = np.fft.fft(x)\n",
    "    fy = np.fft.fft(y)\n",
    "    fx[0] = 0\n",
    "    fy[0] = 0\n",
    "    sumsqrs = np.sum(np.abs(fx)**2 + np.abs(fy)**2)\n",
    "    # now loop and calculate\n",
    "    for ii in range(mdegs):\n",
    "        # rotate\n",
    "        fxr, fyr = rotate(fx, fy, degs[ii])\n",
    "        # correlate\n",
    "        cxy = fxr * fyr.conj()\n",
    "        # inverse transform\n",
    "        icxy = np.fft.ifft(cxy).real\n",
    "        # get info\n",
    "        sumxsqr = np.sum(np.abs(fxr)**2)\n",
    "        varx = sumxsqr/n\n",
    "        vary = (sumsqrs-sumxsqr)/n\n",
    "        rho = np.roll(icxy, int(maxslag))[0:mlags]\n",
    "        # basic covariance map\n",
    "        g[:,ii,0,0] = varx\n",
    "        g[:,ii,1,1] = vary\n",
    "        g[:,ii,0,1] = g[:,ii,1,0] = rho\n",
    "    return g / n\n",
    "\n",
    "def gridcovfreq6(x, y, ndegs=60, maxslag=50):\n",
    "    \"\"\"Returns grid of covariance matrices of shape (ndegs/2, 1+2*maxslag, 2, 2).\n",
    "       Use covfreq_reshape to get this into a more user friendly shape.\n",
    "       x and y are the windowed traces.  \n",
    "       Probably best to use a reasonably long, tapered, window as shifts\n",
    "       are performed implicitly in the Frequency domain (so wrap around?).\n",
    "    \"\"\"\n",
    "    mdegs = int(ndegs/2)\n",
    "    mlags = int(maxslag*2) + 1\n",
    "    degs = np.linspace(0, 90, mdegs, endpoint=False)\n",
    "    n = x.size\n",
    "    g = np.empty((mlags, mdegs, 2, 2))\n",
    "    # Fourier Transform\n",
    "    fx = np.fft.rfft(x)\n",
    "    fy = np.fft.rfft(y)\n",
    "    fx[0] = 0\n",
    "    fy[0] = 0\n",
    "    sumsqrs = np.sum(np.abs(fx)**2 + np.abs(fy)**2)\n",
    "    # now loop and calculate\n",
    "    for ii in range(mdegs):\n",
    "        # rotate\n",
    "        fxr, fyr = rotate(fx, fy, degs[ii])\n",
    "        # correlate\n",
    "        cxy = fxr * fyr.conj()\n",
    "        # inverse transform\n",
    "        icxy = np.fft.irfft(cxy).real\n",
    "        # get info\n",
    "        sumxsqr = np.sum(np.abs(fxr)**2)\n",
    "        varx = 2*sumxsqr/n\n",
    "        vary = 2*(sumsqrs-sumxsqr)/n\n",
    "        rho = np.roll(icxy, int(maxslag))[0:mlags]\n",
    "        # basic covariance map\n",
    "        g[:,ii,0,0] = varx\n",
    "        g[:,ii,1,1] = vary\n",
    "        g[:,ii,0,1] = g[:,ii,1,0] = rho\n",
    "    return g / n\n"
   ]
  },
  {
   "cell_type": "code",
   "execution_count": 18,
   "metadata": {
    "collapsed": true
   },
   "outputs": [],
   "source": [
    "a = sw.SplitWave()\n",
    "x = a.x\n",
    "y = a.y"
   ]
  },
  {
   "cell_type": "code",
   "execution_count": 19,
   "metadata": {},
   "outputs": [
    {
     "data": {
      "text/plain": [
       "True"
      ]
     },
     "execution_count": 19,
     "metadata": {},
     "output_type": "execute_result"
    }
   ],
   "source": [
    "np.allclose(gridcovfreq6(x,y), gridcovfreq5(x,y),atol=1e-06)"
   ]
  },
  {
   "cell_type": "code",
   "execution_count": 20,
   "metadata": {},
   "outputs": [
    {
     "name": "stdout",
     "output_type": "stream",
     "text": [
      "14.9 ms ± 888 µs per loop (mean ± std. dev. of 7 runs, 100 loops each)\n",
      "11.7 ms ± 52.3 µs per loop (mean ± std. dev. of 7 runs, 100 loops each)\n"
     ]
    }
   ],
   "source": [
    "# %timeit gridcovfreq(x,y)\n",
    "# %timeit gridcovfreq2(x,y)\n",
    "%timeit gridcovfreq5(x,y,ndegs=180,maxslag=50)\n",
    "%timeit gridcovfreq6(x,y,ndegs=180,maxslag=50)\n",
    "# %timeit gridcovfreq4(x,y,ndegs=180,maxslag=50)\n",
    "# %timeit gridcovfreq3(x,y,ndegs=180,maxslag=50)"
   ]
  },
  {
   "cell_type": "code",
   "execution_count": 21,
   "metadata": {},
   "outputs": [
    {
     "name": "stdout",
     "output_type": "stream",
     "text": [
      "5.12 ms ± 262 µs per loop (mean ± std. dev. of 7 runs, 100 loops each)\n",
      "4.44 ms ± 425 µs per loop (mean ± std. dev. of 7 runs, 100 loops each)\n"
     ]
    }
   ],
   "source": [
    "%timeit gridcovfreq5(x,y)\n",
    "%timeit gridcovfreq6(x,y)"
   ]
  },
  {
   "cell_type": "code",
   "execution_count": null,
   "metadata": {
    "collapsed": true
   },
   "outputs": [],
   "source": []
  }
 ],
 "metadata": {
  "kernelspec": {
   "display_name": "Python 3",
   "language": "python",
   "name": "python3"
  },
  "language_info": {
   "codemirror_mode": {
    "name": "ipython",
    "version": 3
   },
   "file_extension": ".py",
   "mimetype": "text/x-python",
   "name": "python",
   "nbconvert_exporter": "python",
   "pygments_lexer": "ipython3",
   "version": "3.6.3"
  }
 },
 "nbformat": 4,
 "nbformat_minor": 2
}
