{
 "cells": [
  {
   "cell_type": "code",
   "execution_count": 10,
   "metadata": {
    "collapsed": true
   },
   "outputs": [],
   "source": [
    "import splitwavepy as sw\n",
    "import numpy as np\n",
    "import math"
   ]
  },
  {
   "cell_type": "code",
   "execution_count": 11,
   "metadata": {
    "collapsed": true
   },
   "outputs": [],
   "source": [
    "dat = sw.Data(delta=0.1, noise=0.1, split=(30, 1.3))\n",
    "x0 = dat.x\n",
    "y0 = dat.y"
   ]
  },
  {
   "cell_type": "code",
   "execution_count": 13,
   "metadata": {},
   "outputs": [],
   "source": [
    "def rotate(x,y,degrees):\n",
    "    \"\"\"row 0 is x-axis and row 1 is y-axis,\n",
    "       rotates from x to y axis\n",
    "       e.g. N to E if row 0 is N cmp and row1 is E cmp\"\"\"\n",
    "    ang = math.radians(degrees)\n",
    "    rot = np.array([[ np.cos(ang), np.sin(ang)],\n",
    "                    [-np.sin(ang), np.cos(ang)]])\n",
    "    xy = np.dot(rot, np.vstack((x,y)))\n",
    "    return xy[0], xy[1]\n",
    "\n",
    "def rot2(x, y, deg):\n",
    "    ang = math.radians(deg)\n",
    "    cang = math.cos(ang)\n",
    "    sang = math.sin(ang)\n",
    "    rot = np.array([[ cang, sang],\n",
    "                    [-sang, cang]])\n",
    "    xy = np.dot(rot, np.vstack((x,y)))\n",
    "    return xy[0], xy[1]"
   ]
  },
  {
   "cell_type": "code",
   "execution_count": 15,
   "metadata": {},
   "outputs": [
    {
     "name": "stdout",
     "output_type": "stream",
     "text": [
      "18.5 µs ± 822 ns per loop (mean ± std. dev. of 7 runs, 100000 loops each)\n"
     ]
    }
   ],
   "source": [
    "%timeit rotate(x0, y0, 10)"
   ]
  },
  {
   "cell_type": "code",
   "execution_count": 16,
   "metadata": {},
   "outputs": [
    {
     "name": "stdout",
     "output_type": "stream",
     "text": [
      "13.6 µs ± 49.8 ns per loop (mean ± std. dev. of 7 runs, 100000 loops each)\n"
     ]
    }
   ],
   "source": [
    "%timeit rot2(x0, y0, 10)"
   ]
  },
  {
   "cell_type": "code",
   "execution_count": 48,
   "metadata": {},
   "outputs": [
    {
     "ename": "SyntaxError",
     "evalue": "invalid syntax (<ipython-input-48-611aa876e116>, line 7)",
     "output_type": "error",
     "traceback": [
      "\u001b[0;36m  File \u001b[0;32m\"<ipython-input-48-611aa876e116>\"\u001b[0;36m, line \u001b[0;32m7\u001b[0m\n\u001b[0;31m    diffs = ( x - np.mean(x), y - np.mean(y) for x, y in shifts )\u001b[0m\n\u001b[0m                                               ^\u001b[0m\n\u001b[0;31mSyntaxError\u001b[0m\u001b[0;31m:\u001b[0m invalid syntax\n"
     ]
    }
   ],
   "source": [
    "degs = np.linspace(0, 180, 90, endpoint=False)\n",
    "\n",
    "def grid_search(x, y, degs, lags):\n",
    "    rots = ( rot2(x0, y0, deg) for deg in degs ) \n",
    "    shifts = ( ( lagchop(*rot, lag) for lag in lags) for rot in rots )\n",
    "#     lagy = ( ( lagchop(*rot, lag) for lag in lags) for rot in rots )\n",
    "    diffs = ( x - np.mean(x), y - np.mean(y) for x, y in shifts )\n",
    "#     dy = ( l - np.mean(l) for l in lagy )\n",
    "    varcov = [ get_c(*d) for d in diffs ]\n",
    "    rho = [ c[1][1] for c in varcov ]\n",
    "    \n",
    "\n",
    "def get_c(dx, dy):\n",
    "    c = np.empty((2, 2))\n",
    "    c[0][0] = np.sum(dx**2)\n",
    "    c[0][1] = c[1][0] = np.sum(dx*dy)\n",
    "    c[1][1] = np.sum(dy**2)\n",
    "    return c / (np.sqrt(c[0][0]) * np.sqrt(c[1][1]))\n",
    "    "
   ]
  },
  {
   "cell_type": "code",
   "execution_count": 22,
   "metadata": {},
   "outputs": [
    {
     "name": "stdout",
     "output_type": "stream",
     "text": [
      "66.3 µs ± 1.92 µs per loop (mean ± std. dev. of 7 runs, 10000 loops each)\n"
     ]
    }
   ],
   "source": [
    "%timeit np.cov(x,y)"
   ]
  },
  {
   "cell_type": "code",
   "execution_count": 26,
   "metadata": {},
   "outputs": [
    {
     "name": "stdout",
     "output_type": "stream",
     "text": [
      "84.3 µs ± 396 ns per loop (mean ± std. dev. of 7 runs, 10000 loops each)\n"
     ]
    }
   ],
   "source": [
    "%timeit np.corrcoef(x, y)"
   ]
  },
  {
   "cell_type": "code",
   "execution_count": 28,
   "metadata": {},
   "outputs": [
    {
     "name": "stdout",
     "output_type": "stream",
     "text": [
      "7.38 µs ± 165 ns per loop (mean ± std. dev. of 7 runs, 100000 loops each)\n"
     ]
    }
   ],
   "source": [
    "%timeit np.mean(x)"
   ]
  },
  {
   "cell_type": "code",
   "execution_count": 29,
   "metadata": {
    "collapsed": true
   },
   "outputs": [],
   "source": [
    "def lagchop(slag):\n",
    "    slags = np.unique( core.time2samps(lags, self.data.delta, mode='even')).astype(int)\n",
    "    pass"
   ]
  },
  {
   "cell_type": "code",
   "execution_count": 30,
   "metadata": {},
   "outputs": [
    {
     "name": "stdout",
     "output_type": "stream",
     "text": [
      "30.7 ns ± 0.734 ns per loop (mean ± std. dev. of 7 runs, 10000000 loops each)\n"
     ]
    }
   ],
   "source": [
    "%timeit lagchop"
   ]
  },
  {
   "cell_type": "code",
   "execution_count": 33,
   "metadata": {},
   "outputs": [
    {
     "data": {
      "text/plain": [
       "329"
      ]
     },
     "execution_count": 33,
     "metadata": {},
     "output_type": "execute_result"
    }
   ],
   "source": [
    "dat.window.width"
   ]
  },
  {
   "cell_type": "code",
   "execution_count": 39,
   "metadata": {},
   "outputs": [
    {
     "data": {
      "text/plain": [
       "494"
      ]
     },
     "execution_count": 39,
     "metadata": {},
     "output_type": "execute_result"
    }
   ],
   "source": [
    "dat._centresamp()"
   ]
  },
  {
   "cell_type": "code",
   "execution_count": 45,
   "metadata": {},
   "outputs": [],
   "source": [
    "sw.core.core.lag??\n",
    "# dat.chopdata??"
   ]
  },
  {
   "cell_type": "code",
   "execution_count": 46,
   "metadata": {
    "collapsed": true
   },
   "outputs": [],
   "source": [
    "sw.core.core.time2samps??"
   ]
  },
  {
   "cell_type": "code",
   "execution_count": 47,
   "metadata": {
    "collapsed": true
   },
   "outputs": [],
   "source": [
    "dat._parse"
   ]
  },
  {
   "cell_type": "code",
   "execution_count": null,
   "metadata": {
    "collapsed": true
   },
   "outputs": [],
   "source": []
  }
 ],
 "metadata": {
  "kernelspec": {
   "display_name": "Python 3",
   "language": "python",
   "name": "python3"
  },
  "language_info": {
   "codemirror_mode": {
    "name": "ipython",
    "version": 3
   },
   "file_extension": ".py",
   "mimetype": "text/x-python",
   "name": "python",
   "nbconvert_exporter": "python",
   "pygments_lexer": "ipython3",
   "version": "3.6.3"
  }
 },
 "nbformat": 4,
 "nbformat_minor": 2
}
