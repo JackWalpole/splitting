{
 "cells": [
  {
   "cell_type": "code",
   "execution_count": 118,
   "metadata": {
    "collapsed": true
   },
   "outputs": [],
   "source": [
    "import splitwavepy as sw\n",
    "import numpy as np\n",
    "import math\n",
    "import matplotlib.pyplot as plt"
   ]
  },
  {
   "cell_type": "code",
   "execution_count": 131,
   "metadata": {
    "collapsed": true
   },
   "outputs": [],
   "source": [
    "dat = sw.Data(delta=0.1, noise=0.01, split=(30, 1.3))\n",
    "x0 = dat.x\n",
    "y0 = dat.y"
   ]
  },
  {
   "cell_type": "markdown",
   "metadata": {},
   "source": [
    "The correlation and the variance of the data are connected by the covariance.\n",
    "\n",
    "The Pearson correlation coefficient $\\rho$, is maximised between the *fast* and *slow* components when the data are corrected for splitting.\n",
    "$\\rho(X,Y) = \\frac{\\operatorname{cov}(X,Y)}{\\sigma_{X}\\sigma_{Y}}$\n",
    "\n",
    "The variance.  This is equivalent to the energy.  The energy is maximised on the *polarisation* component and minimised on the *transverse* component when the data are corrected for splitting.\n",
    "$\\operatorname{var}(X) = \\operatorname{cov}(X,X)$\n",
    "\n",
    "The covariance is defined as:\n",
    "$\\operatorname{cov}(X,Y) = \\operatorname {E} [(X-\\operatorname{E}[X])(Y-\\operatorname{E}[Y])]$, or calculated using:\n",
    "$cov(X,Y) = \\frac{1}{n} \\Sigma^{n}_{i=1}(x_i - \\mu_x)(y_i - \\mu_y)$\n",
    "\n",
    "The variance-covariance matrix:\n",
    "$\\Sigma _{ij}=\\operatorname {cov} (X_{i},X_{j})=\\operatorname {E} [(X_{i}-\\mu _{i})(X_{j}-\\mu _{j})]=\\operatorname {E} [X_{i}X_{j}]-\\mu _{i}\\mu _{j}$\n",
    "\n",
    "\n"
   ]
  },
  {
   "cell_type": "code",
   "execution_count": 221,
   "metadata": {},
   "outputs": [],
   "source": [
    "def rotate(x,y,degrees):\n",
    "    \"\"\"row 0 is x-axis and row 1 is y-axis,\n",
    "       rotates from x to y axis\n",
    "       e.g. N to E if row 0 is N cmp and row1 is E cmp\"\"\"\n",
    "    ang = math.radians(degrees)\n",
    "    rot = np.array([[ np.cos(ang), np.sin(ang)],\n",
    "                    [-np.sin(ang), np.cos(ang)]])\n",
    "    xy = np.dot(rot, np.vstack((x,y)))\n",
    "    return xy[0], xy[1]\n",
    "\n",
    "def rot2(x, y, deg):\n",
    "    ang = math.radians(deg)\n",
    "    cang = math.cos(ang)\n",
    "    sang = math.sin(ang)\n",
    "    rot = np.array([[ cang, sang],\n",
    "                    [-sang, cang]])\n",
    "    xy = np.dot(rot, np.vstack((x,y)))\n",
    "    return xy[0], xy[1]\n",
    "\n",
    "def get_c(dx, dy):\n",
    "    c = np.empty((2, 2))\n",
    "    c[0][0] = np.sum(dx**2)\n",
    "    c[0][1] = c[1][0] = np.sum(dx*dy)\n",
    "    c[1][1] = np.sum(dy**2)\n",
    "    return c / (np.sqrt(c[0][0]) * np.sqrt(c[1][1]))\n",
    "\n",
    "def slagchop(x, y, w0, w1, slag):\n",
    "    d = int(slag/2)\n",
    "    return x[w0+d: w1+d], y[w0-d: w1-d] \n",
    "\n",
    "def running_mean(x, w0, w1, slags):\n",
    "    d = int(slags[-1]/2)\n",
    "    x = x[w0-d: w1+d]\n",
    "    n = w1-w0\n",
    "    return np.convolve(x, np.ones((n,))/n, mode='valid')\n",
    "\n",
    "def rotmat(ang):\n",
    "    sang = math.sin(ang)\n",
    "    cang = math.cos(ang)\n",
    "    return np.array([[ cang, sang],\n",
    "                    [-sang, cang]])\n",
    "\n",
    "# slower\n",
    "# def running_mean2(x, w0, w1, maxslag):\n",
    "#     d = int(maxslag/2)\n",
    "#     x = x[w0-d: w1+d]\n",
    "#     n = w1-w0\n",
    "#     cumsum = np.cumsum(np.insert(x, 0, 0))\n",
    "#     return (cumsum[n:] - cumsum[:-n]) / float(n)\n"
   ]
  },
  {
   "cell_type": "code",
   "execution_count": 206,
   "metadata": {},
   "outputs": [],
   "source": [
    "degs = np.linspace(0, 180, 180, endpoint=False)\n",
    "lags = np.linspace(0, 8, 60)\n",
    "slags = np.unique(sw.core.core.time2samps(lags, dat.delta, mode='even'))\n",
    "\n",
    "def gridcov(x, y, w0, w1, degs, slags):\n",
    "    # prepare a list of data rotated to degs\n",
    "    rot_data = [ rot2(x0, y0, deg) for deg in degs ]\n",
    "    # prepare empty covariance arrays\n",
    "    gridcov = np.empty((degs.size, slags.size, 2, 2))\n",
    "    c = np.empty((2, 2))\n",
    "    ii = 0\n",
    "    # now loop and calculate\n",
    "    for rot in rot_data:  \n",
    "        # this is the mean in each window\n",
    "        meanx = running_mean(rot[0], w0, w1, slags)\n",
    "        meany = running_mean(rot[1], w0, w1, slags)\n",
    "        jj = 0\n",
    "        for slag in slags:\n",
    "            wx, wy  = slagchop(*rot, w0, w1, slag)\n",
    "            dx, dy = wx - meanx[slag], wy - meany[slag]\n",
    "            n = dx.size\n",
    "            c[0, 0] = np.sum(dx * dx)\n",
    "            c[1, 0] = c[0, 1] = np.sum(dx * dy)\n",
    "            c[1, 1] = np.sum(dy * dy)\n",
    "            c = c / n\n",
    "#             print(ii,jj,c)\n",
    "            gridcov[ii, jj, :, :] = c \n",
    "            jj += 1\n",
    "        ii += 1\n",
    "    return gridcov\n",
    "\n",
    "\n",
    "    "
   ]
  },
  {
   "cell_type": "code",
   "execution_count": 207,
   "metadata": {},
   "outputs": [],
   "source": [
    "x, y, w0, w1 = dat.x, dat.y, dat._w0(), dat._w1()"
   ]
  },
  {
   "cell_type": "code",
   "execution_count": 276,
   "metadata": {},
   "outputs": [],
   "source": [
    "c = gridcov(x, y, w0, w1, degs, slags)\n",
    "\n",
    "# fast slow correlation method\n",
    "stdx = np.sqrt(c[:, :, 0, 0])\n",
    "stdy = np.sqrt(c[:, :, 1, 1])\n",
    "rho = c[:, :, 0, 1] / (stdx * stdy)\n",
    "\n",
    "# silver and chan eigenvalue method\n",
    "eigvals, eigvecs = np.linalg.eigh(c[:, :])\n",
    "lam2 = eigvals[:, :, 0]\n",
    "lam1 = eigvals[:, :, 1]\n",
    "\n",
    "# silver and chan transenergy method\n",
    "pol = 0\n",
    "var = np.empty(c.shape)\n",
    "# rotmats = np.asarray([ rotmat(math.radians(pol-deg)) for deg in degs ])\n",
    "# var = np.tensordot(c, rotmats, 2)\n",
    "for ii in range(degs.size):\n",
    "    r = rotmat(math.radians(pol-degs[jj]))\n",
    "    for jj in range(slags.size):\n",
    "        var[ii,jj,:,:] = np.dot(r, c[ii,jj,:,:])\n",
    "        \n",
    "var1 = var[:,:,0,0]\n",
    "var2 = var[:,:,1,1]\n",
    "\n"
   ]
  },
  {
   "cell_type": "code",
   "execution_count": 199,
   "metadata": {},
   "outputs": [
    {
     "data": {
      "image/png": "[encoded data removed]",
      "text/plain": [
       "<matplotlib.figure.Figure at 0x1c18d67cc0>"
      ]
     },
     "metadata": {},
     "output_type": "display_data"
    }
   ],
   "source": [
    "ll, dd = np.meshgrid(slags, degs)\n",
    "plt.contourf(ll, dd, abs(rho), 50, cmap='magma')\n",
    "plt.colorbar()\n",
    "plt.show()\n"
   ]
  },
  {
   "cell_type": "code",
   "execution_count": 195,
   "metadata": {},
   "outputs": [
    {
     "data": {
      "image/png": "[encoded data removed]",
      "text/plain": [
       "<matplotlib.figure.Figure at 0x1c18de64e0>"
      ]
     },
     "metadata": {},
     "output_type": "display_data"
    }
   ],
   "source": [
    "ll, dd = np.meshgrid(slags, degs)\n",
    "plt.contourf(ll, dd, lam1, 50, cmap='magma')\n",
    "plt.colorbar()\n",
    "plt.show()"
   ]
  },
  {
   "cell_type": "code",
   "execution_count": 280,
   "metadata": {},
   "outputs": [
    {
     "data": {
      "image/png": "[encoded data removed]",
      "text/plain": [
       "<matplotlib.figure.Figure at 0x1c1e2d2d68>"
      ]
     },
     "metadata": {},
     "output_type": "display_data"
    }
   ],
   "source": [
    "ll, dd = np.meshgrid(slags, degs)\n",
    "plt.contourf(ll, dd, var1, 50, cmap='magma')\n",
    "plt.colorbar()\n",
    "plt.show()"
   ]
  },
  {
   "cell_type": "code",
   "execution_count": 237,
   "metadata": {},
   "outputs": [
    {
     "ename": "ValueError",
     "evalue": "operands could not be broadcast together with remapped shapes [original->remapped]: (180,2,2) and requested shape (180,2,2,41)",
     "output_type": "error",
     "traceback": [
      "\u001b[0;31m---------------------------------------------------------------------------\u001b[0m",
      "\u001b[0;31mValueError\u001b[0m                                Traceback (most recent call last)",
      "\u001b[0;32m<ipython-input-237-43e84a8db5f7>\u001b[0m in \u001b[0;36m<module>\u001b[0;34m()\u001b[0m\n\u001b[0;32m----> 1\u001b[0;31m \u001b[0mnp\u001b[0m\u001b[0;34m.\u001b[0m\u001b[0mbroadcast_to\u001b[0m\u001b[0;34m(\u001b[0m\u001b[0mrotmats\u001b[0m\u001b[0;34m,\u001b[0m \u001b[0;34m(\u001b[0m\u001b[0;36m180\u001b[0m\u001b[0;34m,\u001b[0m \u001b[0;36m2\u001b[0m\u001b[0;34m,\u001b[0m \u001b[0;36m2\u001b[0m\u001b[0;34m,\u001b[0m \u001b[0;36m41\u001b[0m\u001b[0;34m)\u001b[0m\u001b[0;34m)\u001b[0m\u001b[0;34m\u001b[0m\u001b[0m\n\u001b[0m",
      "\u001b[0;32m~/anaconda3/lib/python3.6/site-packages/numpy/lib/stride_tricks.py\u001b[0m in \u001b[0;36mbroadcast_to\u001b[0;34m(array, shape, subok)\u001b[0m\n\u001b[1;32m    171\u001b[0m            [1, 2, 3]])\n\u001b[1;32m    172\u001b[0m     \"\"\"\n\u001b[0;32m--> 173\u001b[0;31m     \u001b[0;32mreturn\u001b[0m \u001b[0m_broadcast_to\u001b[0m\u001b[0;34m(\u001b[0m\u001b[0marray\u001b[0m\u001b[0;34m,\u001b[0m \u001b[0mshape\u001b[0m\u001b[0;34m,\u001b[0m \u001b[0msubok\u001b[0m\u001b[0;34m=\u001b[0m\u001b[0msubok\u001b[0m\u001b[0;34m,\u001b[0m \u001b[0mreadonly\u001b[0m\u001b[0;34m=\u001b[0m\u001b[0;32mTrue\u001b[0m\u001b[0;34m)\u001b[0m\u001b[0;34m\u001b[0m\u001b[0m\n\u001b[0m\u001b[1;32m    174\u001b[0m \u001b[0;34m\u001b[0m\u001b[0m\n\u001b[1;32m    175\u001b[0m \u001b[0;34m\u001b[0m\u001b[0m\n",
      "\u001b[0;32m~/anaconda3/lib/python3.6/site-packages/numpy/lib/stride_tricks.py\u001b[0m in \u001b[0;36m_broadcast_to\u001b[0;34m(array, shape, subok, readonly)\u001b[0m\n\u001b[1;32m    126\u001b[0m     broadcast = np.nditer(\n\u001b[1;32m    127\u001b[0m         \u001b[0;34m(\u001b[0m\u001b[0marray\u001b[0m\u001b[0;34m,\u001b[0m\u001b[0;34m)\u001b[0m\u001b[0;34m,\u001b[0m \u001b[0mflags\u001b[0m\u001b[0;34m=\u001b[0m\u001b[0;34m[\u001b[0m\u001b[0;34m'multi_index'\u001b[0m\u001b[0;34m,\u001b[0m \u001b[0;34m'refs_ok'\u001b[0m\u001b[0;34m,\u001b[0m \u001b[0;34m'zerosize_ok'\u001b[0m\u001b[0;34m]\u001b[0m \u001b[0;34m+\u001b[0m \u001b[0mextras\u001b[0m\u001b[0;34m,\u001b[0m\u001b[0;34m\u001b[0m\u001b[0m\n\u001b[0;32m--> 128\u001b[0;31m         op_flags=[op_flag], itershape=shape, order='C').itviews[0]\n\u001b[0m\u001b[1;32m    129\u001b[0m     \u001b[0mresult\u001b[0m \u001b[0;34m=\u001b[0m \u001b[0m_maybe_view_as_subclass\u001b[0m\u001b[0;34m(\u001b[0m\u001b[0marray\u001b[0m\u001b[0;34m,\u001b[0m \u001b[0mbroadcast\u001b[0m\u001b[0;34m)\u001b[0m\u001b[0;34m\u001b[0m\u001b[0m\n\u001b[1;32m    130\u001b[0m     \u001b[0;32mif\u001b[0m \u001b[0mneeds_writeable\u001b[0m \u001b[0;32mand\u001b[0m \u001b[0;32mnot\u001b[0m \u001b[0mresult\u001b[0m\u001b[0;34m.\u001b[0m\u001b[0mflags\u001b[0m\u001b[0;34m.\u001b[0m\u001b[0mwriteable\u001b[0m\u001b[0;34m:\u001b[0m\u001b[0;34m\u001b[0m\u001b[0m\n",
      "\u001b[0;31mValueError\u001b[0m: operands could not be broadcast together with remapped shapes [original->remapped]: (180,2,2) and requested shape (180,2,2,41)"
     ]
    }
   ],
   "source": [
    "np.broadcast_to(rotmats, (180, 2, 2, 41))"
   ]
  },
  {
   "cell_type": "code",
   "execution_count": 209,
   "metadata": {},
   "outputs": [
    {
     "data": {
      "text/plain": [
       "(180, 41)"
      ]
     },
     "execution_count": 209,
     "metadata": {},
     "output_type": "execute_result"
    }
   ],
   "source": [
    "c[:,:,0,0].shape"
   ]
  },
  {
   "cell_type": "code",
   "execution_count": 19,
   "metadata": {},
   "outputs": [
    {
     "data": {
      "text/plain": [
       "329.0"
      ]
     },
     "execution_count": 19,
     "metadata": {},
     "output_type": "execute_result"
    }
   ],
   "source": [
    "dat._w0() - 2/2"
   ]
  },
  {
   "cell_type": "code",
   "execution_count": 18,
   "metadata": {},
   "outputs": [
    {
     "data": {
      "text/plain": [
       "659"
      ]
     },
     "execution_count": 18,
     "metadata": {},
     "output_type": "execute_result"
    }
   ],
   "source": [
    "dat._w1()"
   ]
  },
  {
   "cell_type": "code",
   "execution_count": 28,
   "metadata": {
    "collapsed": true
   },
   "outputs": [],
   "source": [
    "np.convolve?"
   ]
  },
  {
   "cell_type": "code",
   "execution_count": 156,
   "metadata": {},
   "outputs": [],
   "source": [
    "eigvals, eigvecs = np.linalg.eigh(c[:,:])"
   ]
  },
  {
   "cell_type": "code",
   "execution_count": 163,
   "metadata": {},
   "outputs": [
    {
     "data": {
      "text/plain": [
       "array([[ 0.00017179,  0.00016396,  0.00014071, ...,  0.00015749,\n",
       "         0.00015389,  0.00015304],\n",
       "       [ 0.00017179,  0.0001686 ,  0.00015333, ...,  0.00015984,\n",
       "         0.00015618,  0.00015501],\n",
       "       [ 0.00017179,  0.00017333,  0.00016662, ...,  0.00016693,\n",
       "         0.00016358,  0.00016227],\n",
       "       ..., \n",
       "       [ 0.00017179,  0.00015074,  0.00010718, ...,  0.00017784,\n",
       "         0.00017654,  0.00017781],\n",
       "       [ 0.00017179,  0.00015501,  0.00011762, ...,  0.00016665,\n",
       "         0.00016423,  0.0001646 ],\n",
       "       [ 0.00017179,  0.00015943,  0.0001288 , ...,  0.00015981,\n",
       "         0.00015661,  0.00015629]])"
      ]
     },
     "execution_count": 163,
     "metadata": {},
     "output_type": "execute_result"
    }
   ],
   "source": [
    "eigvals[:,:,0]"
   ]
  },
  {
   "cell_type": "code",
   "execution_count": 205,
   "metadata": {},
   "outputs": [
    {
     "name": "stdout",
     "output_type": "stream",
     "text": [
      "66.6 ms ± 487 µs per loop (mean ± std. dev. of 7 runs, 10 loops each)\n"
     ]
    }
   ],
   "source": [
    "degs = np.linspace(0, 180, 90, endpoint=False)\n",
    "lags = np.linspace(0, 8, 30)\n",
    "slags = np.unique(sw.core.core.time2samps(lags, dat.delta, mode='even'))\n",
    "%timeit gridcov(x, y, w0, w1, degs, slags)"
   ]
  },
  {
   "cell_type": "code",
   "execution_count": 255,
   "metadata": {},
   "outputs": [
    {
     "data": {
      "text/plain": [
       "(41, 180, 2, 180, 41, 2)"
      ]
     },
     "execution_count": 255,
     "metadata": {},
     "output_type": "execute_result"
    }
   ],
   "source": [
    "# a = np.broadcast_to(rotmats, (41, 180, 2, 2))\n",
    "# b = np.swapaxes(a, 0, 1)\n",
    "# b.shape\n",
    "np.dot(a, c[:,:]).shape"
   ]
  },
  {
   "cell_type": "code",
   "execution_count": 217,
   "metadata": {},
   "outputs": [
    {
     "data": {
      "text/plain": [
       "(41, 2, 2)"
      ]
     },
     "execution_count": 217,
     "metadata": {},
     "output_type": "execute_result"
    }
   ],
   "source": [
    "c[0,:].shape"
   ]
  },
  {
   "cell_type": "code",
   "execution_count": 241,
   "metadata": {},
   "outputs": [
    {
     "data": {
      "text/plain": [
       "(180, 2, 2)"
      ]
     },
     "execution_count": 241,
     "metadata": {},
     "output_type": "execute_result"
    }
   ],
   "source": [
    "rotmats.shape"
   ]
  },
  {
   "cell_type": "code",
   "execution_count": 239,
   "metadata": {},
   "outputs": [
    {
     "data": {
      "text/plain": [
       "array([[1, 2, 3],\n",
       "       [1, 2, 3],\n",
       "       [1, 2, 3]])"
      ]
     },
     "execution_count": 239,
     "metadata": {},
     "output_type": "execute_result"
    }
   ],
   "source": [
    ">>> x = np.array([1, 2, 3])\n",
    ">>> np.broadcast_to(x, (3, 3))\n"
   ]
  },
  {
   "cell_type": "code",
   "execution_count": 244,
   "metadata": {},
   "outputs": [],
   "source": [
    "x = np.arange(9).reshape((3,3))"
   ]
  },
  {
   "cell_type": "code",
   "execution_count": 273,
   "metadata": {},
   "outputs": [
    {
     "data": {
      "text/plain": [
       "(180, 2, 2)"
      ]
     },
     "execution_count": 273,
     "metadata": {},
     "output_type": "execute_result"
    }
   ],
   "source": [
    "rotmats.shape"
   ]
  },
  {
   "cell_type": "code",
   "execution_count": null,
   "metadata": {
    "collapsed": true
   },
   "outputs": [],
   "source": [
    "def gridcov_srccorr(x, y, w0, w1, degs, slags, srcfast, srcslag):\n",
    "    # prepare a list of data rotated to degs\n",
    "    rot_data = [ rot2(x0, y0, deg) for deg in degs ]\n",
    "    # prepare empty covariance arrays\n",
    "    gridcov = np.empty((degs.size, slags.size, 2, 2))\n",
    "    c = np.empty((2, 2))\n",
    "    ii = 0\n",
    "    # now loop and calculate\n",
    "    for rot in rot_data:  \n",
    "        # this is the mean in each window\n",
    "        meanx = running_mean(rot[0], w0, w1, slags)\n",
    "        meany = running_mean(rot[1], w0, w1, slags)\n",
    "        jj = 0\n",
    "        for slag in slags:\n",
    "            wx, wy  = slagchop(*rot, w0, w1, slag)\n",
    "            dx, dy = wx - meanx[slag], wy - meany[slag]\n",
    "            n = dx.size\n",
    "            c[0, 0] = np.sum(dx * dx)\n",
    "            c[1, 0] = c[0, 1] = np.sum(dx * dy)\n",
    "            c[1, 1] = np.sum(dy * dy)\n",
    "            c = c / n\n",
    "#             print(ii,jj,c)\n",
    "            gridcov[ii, jj, :, :] = c \n",
    "            jj += 1\n",
    "        ii += 1\n",
    "    return gridcov"
   ]
  }
 ],
 "metadata": {
  "kernelspec": {
   "display_name": "Python 3",
   "language": "python",
   "name": "python3"
  },
  "language_info": {
   "codemirror_mode": {
    "name": "ipython",
    "version": 3
   },
   "file_extension": ".py",
   "mimetype": "text/x-python",
   "name": "python",
   "nbconvert_exporter": "python",
   "pygments_lexer": "ipython3",
   "version": "3.6.3"
  }
 },
 "nbformat": 4,
 "nbformat_minor": 2
}
