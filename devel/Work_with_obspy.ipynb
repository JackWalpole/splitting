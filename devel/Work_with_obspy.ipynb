{
 "cells": [
  {
   "cell_type": "markdown",
   "metadata": {},
   "source": [
    "# Use obspy as interface to nuts and bolts"
   ]
  },
  {
   "cell_type": "code",
   "execution_count": 1,
   "metadata": {},
   "outputs": [],
   "source": [
    "%matplotlib inline\n",
    "\n",
    "import sys\n",
    "sys.path.append(\"..\")\n",
    "import splitwavepy as s\n",
    "\n",
    "import scipy\n",
    "import numpy as np\n",
    "import matplotlib.pyplot as plt\n",
    "\n",
    "from obspy import read\n"
   ]
  },
  {
   "cell_type": "code",
   "execution_count": 2,
   "metadata": {},
   "outputs": [],
   "source": [
    "st = read()"
   ]
  },
  {
   "cell_type": "code",
   "execution_count": 3,
   "metadata": {
    "collapsed": true
   },
   "outputs": [],
   "source": [
    "tr = st[0]"
   ]
  },
  {
   "cell_type": "code",
   "execution_count": 4,
   "metadata": {},
   "outputs": [
    {
     "data": {
      "text/plain": [
       "         network: BW\n",
       "         station: RJOB\n",
       "        location: \n",
       "         channel: EHZ\n",
       "       starttime: 2009-08-24T00:20:03.000000Z\n",
       "         endtime: 2009-08-24T00:20:32.990000Z\n",
       "   sampling_rate: 100.0\n",
       "           delta: 0.01\n",
       "            npts: 3000\n",
       "           calib: 1.0\n",
       "    back_azimuth: 100.0\n",
       "     inclination: 30.0\n",
       "        response: Channel Response\n",
       "\tFrom M/S (Velocity in Meters Per Second) to COUNTS (Digital Counts)\n",
       "\tOverall Sensitivity: 2.5168e+09 defined at 0.020 Hz\n",
       "\t4 stages:\n",
       "\t\tStage 1: PolesZerosResponseStage from M/S to V, gain: 1500\n",
       "\t\tStage 2: CoefficientsTypeResponseStage from V to COUNTS, gain: 1.67785e+06\n",
       "\t\tStage 3: FIRResponseStage from COUNTS to COUNTS, gain: 1\n",
       "\t\tStage 4: FIRResponseStage from COUNTS to COUNTS, gain: 1"
      ]
     },
     "execution_count": 4,
     "metadata": {},
     "output_type": "execute_result"
    }
   ],
   "source": [
    "tr.stats"
   ]
  },
  {
   "cell_type": "code",
   "execution_count": null,
   "metadata": {
    "collapsed": true
   },
   "outputs": [],
   "source": []
  }
 ],
 "metadata": {
  "kernelspec": {
   "display_name": "Python 2",
   "language": "python",
   "name": "python2"
  },
  "language_info": {
   "codemirror_mode": {
    "name": "ipython",
    "version": 2
   },
   "file_extension": ".py",
   "mimetype": "text/x-python",
   "name": "python",
   "nbconvert_exporter": "python",
   "pygments_lexer": "ipython2",
   "version": "2.7.11"
  }
 },
 "nbformat": 4,
 "nbformat_minor": 2
}
