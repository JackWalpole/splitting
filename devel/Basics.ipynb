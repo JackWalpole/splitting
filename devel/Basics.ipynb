{
 "cells": [
  {
   "cell_type": "code",
   "execution_count": 1,
   "metadata": {
    "collapsed": true
   },
   "outputs": [],
   "source": [
    "%matplotlib inline\n",
    "import numpy as np\n",
    "import matplotlib.pyplot as plt\n",
    "import math\n",
    "from scipy import signal"
   ]
  },
  {
   "cell_type": "code",
   "execution_count": 2,
   "metadata": {},
   "outputs": [
    {
     "data": {
      "text/plain": [
       "[<matplotlib.lines.Line2D at 0x1c14d0eeb8>]"
      ]
     },
     "execution_count": 2,
     "metadata": {},
     "output_type": "execute_result"
    },
    {
     "data": {
      "image/png": "[encoded data removed]",
      "text/plain": [
       "<matplotlib.figure.Figure at 0x10aa46208>"
      ]
     },
     "metadata": {},
     "output_type": "display_data"
    }
   ],
   "source": [
    "t1 = signal.ricker(500, 16.0)\n",
    "# t1 = np.imag(signal.hilbert(signal.ricker(100, 4.0)))\n",
    "t2 = np.zeros(t1.shape)\n",
    "plt.plot(t1)\n",
    "plt.plot(t2)"
   ]
  },
  {
   "cell_type": "code",
   "execution_count": 3,
   "metadata": {},
   "outputs": [
    {
     "data": {
      "image/png": "[encoded data removed]",
      "text/plain": [
       "<matplotlib.figure.Figure at 0x1c0fd3c470>"
      ]
     },
     "metadata": {},
     "output_type": "display_data"
    }
   ],
   "source": [
    "\n",
    "sp = np.fft.fft(t1)\n",
    "freq = np.rad2deg(np.fft.fftfreq(t1.shape[-1]))\n",
    "plt.plot(freq, sp.real, freq, sp.imag)\n",
    "plt.xlim(0,10)\n",
    "plt.show()"
   ]
  },
  {
   "cell_type": "code",
   "execution_count": 4,
   "metadata": {
    "collapsed": true
   },
   "outputs": [],
   "source": [
    "\n",
    "\n",
    "\n",
    "def _shift(pair,shift):\n",
    "    \"\"\"shift t1 shift/2 samples to the left and\n",
    "       shift t2 shift/2 samples to the right,\n",
    "       if shift is odd move t1 the extra sample\n",
    "       this process truncates trace length\"\"\"\n",
    "    if shift == 0:\n",
    "        return pair\n",
    "    elif shift == 1:\n",
    "        t1 = pair[0,:]\n",
    "        t2 = pair[1,:]\n",
    "        return np.vstack((t1[math.ceil(shift/2):], t2[:-shift]))\n",
    "    else:\n",
    "        t1 = pair[0,:]\n",
    "        t2 = pair[1,:]\n",
    "        return np.vstack((t1[math.ceil(shift/2):-math.floor(shift/2)], t2[:-shift]))\n",
    "\n",
    "def _rotate(pair,degrees):\n",
    "    \"\"\"t1 is x-axis and t2 is y-axis,\n",
    "       rotates clockwise\"\"\"\n",
    "    ang = np.deg2rad(degrees)\n",
    "    rot = np.array([[np.cos(ang),-np.sin(ang)],\n",
    "                    [np.sin(ang), np.cos(ang)]])\n",
    "    return np.dot(rot,pair)\n",
    "\n",
    "def _rotate_and_shift(pair,degrees,shift):\n",
    "    return _shift(_rotate(pair,degrees), shift)\n",
    "\n",
    "def _split(pair,degrees,shift):\n",
    "    return _rotate(_shift(_rotate(pair,degrees), shift),-degrees)\n",
    "\n",
    "def _unsplit(pair,degrees,shift):\n",
    "    return _split(pair,degrees+90,shift)\n",
    "    \n",
    "def _taper(pair,width,centre=None):\n",
    "    \"\"\"Apply Hanning window about c0 sample\n",
    "       of width number of samples, truncates traces\"\"\"\n",
    "    \n",
    "    if centre is None:\n",
    "        centre = math.floor(pair.shape[1]/2)\n",
    "        \n",
    "    if width > pair.shape[1]:\n",
    "        raise Exception('taper width is greater than trace length')\n",
    "        \n",
    "    t0 = centre - math.floor(width/2)\n",
    "    t1 = centre + math.ceil(width/2)\n",
    "    \n",
    "    if t0 < 0:\n",
    "        raise Exception('window starts before trace data')\n",
    "    elif t1 > pair.shape[1]:\n",
    "        raise Exception('window ends after trace data')\n",
    "        \n",
    "    return np.hanning(width) * pair[:,t0:t1]\n",
    "\n",
    "def _eigcov(pair):\n",
    "    return np.sort(np.linalg.eigvals(np.cov(pair,rowvar=True)))\n",
    "#     return np.sort(np.linalg.eigvals(np.cov(pair)))\n",
    "\n",
    "def _grideigcov(pair,maxshift,window=None, stepang=None,stepshift=None):\n",
    "    \n",
    "    # set some defaults\n",
    "    if stepshift is None:\n",
    "        stepshift = int(np.max([1,maxshift/40]))\n",
    "    if stepang is None:\n",
    "        stepang = 2\n",
    "    if window is None:\n",
    "        # by default whatevers smaller,\n",
    "        # half trace length or 10 * max shift\n",
    "        window = int(np.min([pair.shape[1] * 0.5,maxshift * 10]))\n",
    "    \n",
    "    deg, shift = np.meshgrid(np.arange(0,180,stepang),\n",
    "                             np.arange(0,maxshift,stepshift).astype(int))\n",
    "    \n",
    "    shape = deg.shape\n",
    "    lam1 = np.zeros(shape)\n",
    "    lam2 = np.zeros(shape)\n",
    "    for ii in np.arange(shape[1]):\n",
    "        temp = _rotate(pair,deg[0,ii]+90)\n",
    "        for jj in np.arange(shape[0]):\n",
    "            temp2 = _shift(temp,shift[jj,ii])\n",
    "            temp3 = _taper(temp2,window)\n",
    "            lam2[jj,ii], lam1[jj,ii] = _eigcov(temp3)\n",
    "    return deg, shift, lam1, lam2\n",
    "\n",
    "def _xcorr(pair):\n",
    "    return np.correlate(pair[0,:],pair[1,:])[0]\n",
    "\n",
    "def _gridxcorr(pair,maxshift,window=None, stepang=None,stepshift=None):\n",
    "    \n",
    "    # set some defaults\n",
    "    if stepshift is None:\n",
    "        stepshift = int(np.max([1,maxshift/40]))\n",
    "    if stepang is None:\n",
    "        stepang = 2\n",
    "    if window is None:\n",
    "        # by default whatevers smaller,\n",
    "        # half trace length or 10 * max shift\n",
    "        window = int(np.min([pair.shape[1] * 0.5,maxshift * 10]))\n",
    "        \n",
    "    deg, shift = np.meshgrid(np.arange(0,180,stepang),\n",
    "                             np.arange(0,maxshift,stepshift).astype(int))\n",
    "    \n",
    "    shape = deg.shape\n",
    "    xc = np.zeros(shape)\n",
    "    for ii in np.arange(shape[1]):\n",
    "        temp = _rotate(pair,deg[0,ii]+90)\n",
    "        for jj in np.arange(shape[0]):\n",
    "            temp2 = _shift(temp,shift[jj,ii])\n",
    "            temp3 = _taper(temp2,window)\n",
    "            xc[jj,ii] = _xcorr(temp3)\n",
    "    return deg, shift, xc  "
   ]
  },
  {
   "cell_type": "code",
   "execution_count": 5,
   "metadata": {},
   "outputs": [
    {
     "ename": "NameError",
     "evalue": "name 'plt_pair' is not defined",
     "output_type": "error",
     "traceback": [
      "\u001b[0;31m---------------------------------------------------------------------------\u001b[0m",
      "\u001b[0;31mNameError\u001b[0m                                 Traceback (most recent call last)",
      "\u001b[0;32m<ipython-input-5-f97614689c5f>\u001b[0m in \u001b[0;36m<module>\u001b[0;34m()\u001b[0m\n\u001b[1;32m      3\u001b[0m \u001b[0;31m# b = _rotate(pair,45)\u001b[0m\u001b[0;34m\u001b[0m\u001b[0;34m\u001b[0m\u001b[0m\n\u001b[1;32m      4\u001b[0m \u001b[0;31m# c = _rotate_and_shift(pair,30,10)\u001b[0m\u001b[0;34m\u001b[0m\u001b[0;34m\u001b[0m\u001b[0m\n\u001b[0;32m----> 5\u001b[0;31m \u001b[0mplt_pair\u001b[0m\u001b[0;34m(\u001b[0m\u001b[0ma\u001b[0m\u001b[0;34m)\u001b[0m\u001b[0;34m\u001b[0m\u001b[0m\n\u001b[0m",
      "\u001b[0;31mNameError\u001b[0m: name 'plt_pair' is not defined"
     ]
    }
   ],
   "source": [
    "pair = np.vstack((t1,t2))\n",
    "a = _shift(pair,5)\n",
    "# b = _rotate(pair,45)\n",
    "# c = _rotate_and_shift(pair,30,10)\n",
    "plt_pair(a)"
   ]
  },
  {
   "cell_type": "code",
   "execution_count": null,
   "metadata": {
    "collapsed": true
   },
   "outputs": [],
   "source": [
    "def plt_wigg(pair):\n",
    "    plt.plot(pair.T)\n",
    "    plt.show()\n",
    "    \n",
    "def plt_hodo(pair):\n",
    "    plt.plot(pair[0,:],pair[1,:])\n",
    "    plt.show()\n",
    "\n",
    "def plt_pair(pair):\n",
    "    from matplotlib import gridspec\n",
    "    fig = plt.figure(figsize=(12, 6)) \n",
    "    gs = gridspec.GridSpec(1, 2, width_ratios=[3, 1]) \n",
    "    ax0 = plt.subplot(gs[0])\n",
    "    ax0.plot(pair.T)\n",
    "    ax1 = plt.subplot(gs[1])\n",
    "    ax1.plot(pair[0,:],pair[1,:])\n",
    "    plt.axis('equal')\n",
    "    plt.show()\n",
    "    \n",
    "def plt_surf(surf):\n",
    "    from matplotlib import colors, ticker, cm\n",
    "    plt.contourf(shift,deg,l2/(l1+l2),locator=ticker.LogLocator(),cmap='viridis_r')"
   ]
  },
  {
   "cell_type": "code",
   "execution_count": 6,
   "metadata": {
    "scrolled": true
   },
   "outputs": [
    {
     "ename": "NameError",
     "evalue": "name 'plt_pair' is not defined",
     "output_type": "error",
     "traceback": [
      "\u001b[0;31m---------------------------------------------------------------------------\u001b[0m",
      "\u001b[0;31mNameError\u001b[0m                                 Traceback (most recent call last)",
      "\u001b[0;32m<ipython-input-6-dee677071f80>\u001b[0m in \u001b[0;36m<module>\u001b[0;34m()\u001b[0m\n\u001b[1;32m      2\u001b[0m \u001b[0msplitdata\u001b[0m \u001b[0;34m=\u001b[0m \u001b[0m_split\u001b[0m\u001b[0;34m(\u001b[0m\u001b[0mpair\u001b[0m\u001b[0;34m,\u001b[0m\u001b[0;36m110\u001b[0m\u001b[0;34m,\u001b[0m\u001b[0;36m12\u001b[0m\u001b[0;34m)\u001b[0m\u001b[0;34m\u001b[0m\u001b[0m\n\u001b[1;32m      3\u001b[0m \u001b[0;31m# unsplitdata = _unsplit(splitdata,15,20)\u001b[0m\u001b[0;34m\u001b[0m\u001b[0;34m\u001b[0m\u001b[0m\n\u001b[0;32m----> 4\u001b[0;31m \u001b[0mplt_pair\u001b[0m\u001b[0;34m(\u001b[0m\u001b[0msplitdata\u001b[0m\u001b[0;34m)\u001b[0m\u001b[0;34m\u001b[0m\u001b[0m\n\u001b[0m\u001b[1;32m      5\u001b[0m \u001b[0mdeg\u001b[0m\u001b[0;34m,\u001b[0m\u001b[0mshift\u001b[0m\u001b[0;34m,\u001b[0m\u001b[0ml1\u001b[0m\u001b[0;34m,\u001b[0m\u001b[0ml2\u001b[0m \u001b[0;34m=\u001b[0m \u001b[0m_grideigcov\u001b[0m\u001b[0;34m(\u001b[0m\u001b[0msplitdata\u001b[0m\u001b[0;34m,\u001b[0m\u001b[0;36m25\u001b[0m\u001b[0;34m)\u001b[0m\u001b[0;34m\u001b[0m\u001b[0m\n\u001b[1;32m      6\u001b[0m \u001b[0mplt\u001b[0m\u001b[0;34m.\u001b[0m\u001b[0mcontourf\u001b[0m\u001b[0;34m(\u001b[0m\u001b[0mshift\u001b[0m\u001b[0;34m,\u001b[0m\u001b[0mdeg\u001b[0m\u001b[0;34m,\u001b[0m\u001b[0ml2\u001b[0m\u001b[0;34m/\u001b[0m\u001b[0;34m(\u001b[0m\u001b[0ml1\u001b[0m\u001b[0;34m+\u001b[0m\u001b[0ml2\u001b[0m\u001b[0;34m)\u001b[0m\u001b[0;34m,\u001b[0m\u001b[0mlocator\u001b[0m\u001b[0;34m=\u001b[0m\u001b[0mticker\u001b[0m\u001b[0;34m.\u001b[0m\u001b[0mLogLocator\u001b[0m\u001b[0;34m(\u001b[0m\u001b[0;34m)\u001b[0m\u001b[0;34m,\u001b[0m\u001b[0mcmap\u001b[0m\u001b[0;34m=\u001b[0m\u001b[0;34m'viridis_r'\u001b[0m\u001b[0;34m)\u001b[0m\u001b[0;34m\u001b[0m\u001b[0m\n",
      "\u001b[0;31mNameError\u001b[0m: name 'plt_pair' is not defined"
     ]
    }
   ],
   "source": [
    "\n",
    "splitdata = _split(pair,110,12)\n",
    "# unsplitdata = _unsplit(splitdata,15,20)\n",
    "plt_pair(splitdata)\n",
    "deg,shift,l1,l2 = _grideigcov(splitdata,25)\n",
    "plt.contourf(shift,deg,l2/(l1+l2),locator=ticker.LogLocator(),cmap='viridis_r')"
   ]
  },
  {
   "cell_type": "code",
   "execution_count": 7,
   "metadata": {},
   "outputs": [
    {
     "ename": "NameError",
     "evalue": "name 'plt_pair' is not defined",
     "output_type": "error",
     "traceback": [
      "\u001b[0;31m---------------------------------------------------------------------------\u001b[0m",
      "\u001b[0;31mNameError\u001b[0m                                 Traceback (most recent call last)",
      "\u001b[0;32m<ipython-input-7-f05b8f345b92>\u001b[0m in \u001b[0;36m<module>\u001b[0;34m()\u001b[0m\n\u001b[1;32m      2\u001b[0m \u001b[0msplitdata\u001b[0m \u001b[0;34m=\u001b[0m \u001b[0m_split\u001b[0m\u001b[0;34m(\u001b[0m\u001b[0mpair\u001b[0m\u001b[0;34m,\u001b[0m\u001b[0;36m110\u001b[0m\u001b[0;34m,\u001b[0m\u001b[0;36m12\u001b[0m\u001b[0;34m)\u001b[0m\u001b[0;34m\u001b[0m\u001b[0m\n\u001b[1;32m      3\u001b[0m \u001b[0;31m# unsplitdata = _unsplit(splitdata,15,20)\u001b[0m\u001b[0;34m\u001b[0m\u001b[0;34m\u001b[0m\u001b[0m\n\u001b[0;32m----> 4\u001b[0;31m \u001b[0mplt_pair\u001b[0m\u001b[0;34m(\u001b[0m\u001b[0msplitdata\u001b[0m\u001b[0;34m)\u001b[0m\u001b[0;34m\u001b[0m\u001b[0m\n\u001b[0m\u001b[1;32m      5\u001b[0m \u001b[0mdeg\u001b[0m\u001b[0;34m,\u001b[0m\u001b[0mshift\u001b[0m\u001b[0;34m,\u001b[0m\u001b[0mxc\u001b[0m \u001b[0;34m=\u001b[0m \u001b[0m_gridxcorr\u001b[0m\u001b[0;34m(\u001b[0m\u001b[0msplitdata\u001b[0m\u001b[0;34m,\u001b[0m\u001b[0;36m25\u001b[0m\u001b[0;34m)\u001b[0m\u001b[0;34m\u001b[0m\u001b[0m\n\u001b[1;32m      6\u001b[0m \u001b[0mplt\u001b[0m\u001b[0;34m.\u001b[0m\u001b[0mcontourf\u001b[0m\u001b[0;34m(\u001b[0m\u001b[0mshift\u001b[0m\u001b[0;34m,\u001b[0m\u001b[0mdeg\u001b[0m\u001b[0;34m,\u001b[0m\u001b[0mxc\u001b[0m\u001b[0;34m,\u001b[0m\u001b[0mcmap\u001b[0m\u001b[0;34m=\u001b[0m\u001b[0;34m'viridis'\u001b[0m\u001b[0;34m)\u001b[0m\u001b[0;34m\u001b[0m\u001b[0m\n",
      "\u001b[0;31mNameError\u001b[0m: name 'plt_pair' is not defined"
     ]
    }
   ],
   "source": [
    "from matplotlib import colors, ticker, cm\n",
    "splitdata = _split(pair,110,12)\n",
    "# unsplitdata = _unsplit(splitdata,15,20)\n",
    "plt_pair(splitdata)\n",
    "deg,shift,xc = _gridxcorr(splitdata,25)\n",
    "plt.contourf(shift,deg,xc,cmap='viridis')"
   ]
  },
  {
   "cell_type": "code",
   "execution_count": 8,
   "metadata": {},
   "outputs": [
    {
     "ename": "NameError",
     "evalue": "name 'xc' is not defined",
     "output_type": "error",
     "traceback": [
      "\u001b[0;31m---------------------------------------------------------------------------\u001b[0m",
      "\u001b[0;31mNameError\u001b[0m                                 Traceback (most recent call last)",
      "\u001b[0;32m<ipython-input-8-149cd57c1f67>\u001b[0m in \u001b[0;36m<module>\u001b[0;34m()\u001b[0m\n\u001b[0;32m----> 1\u001b[0;31m \u001b[0mxc\u001b[0m\u001b[0;34m.\u001b[0m\u001b[0mmax\u001b[0m\u001b[0;34m(\u001b[0m\u001b[0;34m)\u001b[0m\u001b[0;34m\u001b[0m\u001b[0m\n\u001b[0m\u001b[1;32m      2\u001b[0m \u001b[0mnp\u001b[0m\u001b[0;34m.\u001b[0m\u001b[0margmax\u001b[0m\u001b[0;34m(\u001b[0m\u001b[0mxc\u001b[0m\u001b[0;34m)\u001b[0m\u001b[0;34m\u001b[0m\u001b[0m\n",
      "\u001b[0;31mNameError\u001b[0m: name 'xc' is not defined"
     ]
    }
   ],
   "source": [
    "xc.max()\n",
    "np.argmax(xc)"
   ]
  },
  {
   "cell_type": "code",
   "execution_count": 9,
   "metadata": {},
   "outputs": [],
   "source": [
    "data1 = _taper(splitdata,30)\n",
    "data2 = _taper(_shift(splitdata,1),30)\n"
   ]
  },
  {
   "cell_type": "code",
   "execution_count": 10,
   "metadata": {},
   "outputs": [
    {
     "name": "stdout",
     "output_type": "stream",
     "text": [
      "[ 0.01427939]\n",
      "[ 0.02136148]\n"
     ]
    }
   ],
   "source": [
    "print(np.correlate(data1[0,:],data1[1,:]))\n",
    "print(np.correlate(data2[0,:],data2[1,:]))"
   ]
  },
  {
   "cell_type": "code",
   "execution_count": 11,
   "metadata": {},
   "outputs": [
    {
     "name": "stdout",
     "output_type": "stream",
     "text": [
      "[-0.00234573 -0.00330796 -0.00441404 -0.00559636 -0.00675517 -0.00776247\n",
      " -0.00847046 -0.00872404 -0.00837662 -0.00730737 -0.00543819 -0.00274811\n",
      "  0.00071701  0.00484095  0.00944102  0.01427939  0.0190813   0.02355906\n",
      "  0.02743941  0.03048987  0.03254015  0.03349646  0.03334748  0.03216166\n",
      "  0.03007669  0.02728281  0.02400202  0.02046612  0.01689566  0.01348245]\n"
     ]
    }
   ],
   "source": [
    "print(np.correlate(data1[0,:],data1[1,:],'same'))"
   ]
  },
  {
   "cell_type": "code",
   "execution_count": 12,
   "metadata": {
    "collapsed": true
   },
   "outputs": [],
   "source": [
    "x = np.correlate(data1[0,:],data1[1,:],'same')"
   ]
  },
  {
   "cell_type": "code",
   "execution_count": 13,
   "metadata": {},
   "outputs": [
    {
     "data": {
      "text/plain": [
       "0.014279386171869884"
      ]
     },
     "execution_count": 13,
     "metadata": {},
     "output_type": "execute_result"
    }
   ],
   "source": [
    "x[15]"
   ]
  },
  {
   "cell_type": "code",
   "execution_count": null,
   "metadata": {
    "collapsed": true
   },
   "outputs": [],
   "source": []
  }
 ],
 "metadata": {
  "kernelspec": {
   "display_name": "Python 3",
   "language": "python",
   "name": "python3"
  },
  "language_info": {
   "codemirror_mode": {
    "name": "ipython",
    "version": 3
   },
   "file_extension": ".py",
   "mimetype": "text/x-python",
   "name": "python",
   "nbconvert_exporter": "python",
   "pygments_lexer": "ipython3",
   "version": "3.6.3"
  }
 },
 "nbformat": 4,
 "nbformat_minor": 2
}
