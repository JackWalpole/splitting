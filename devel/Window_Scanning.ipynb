{
 "cells": [
  {
   "cell_type": "code",
   "execution_count": 1,
   "metadata": {
    "collapsed": true
   },
   "outputs": [],
   "source": [
    "import sys\n",
    "sys.path.append(\"..\")\n",
    "import splitwavepy as sw\n",
    "\n",
    "import scipy\n",
    "import numpy as np\n",
    "import matplotlib.pyplot as plt"
   ]
  },
  {
   "cell_type": "code",
   "execution_count": 2,
   "metadata": {},
   "outputs": [],
   "source": [
    "def window_scan(pair,widths,offsets,**kwargs):\n",
    "    \"\"\"\n",
    "    Returns a list of EigenM measurements.\n",
    "    \n",
    "    trials all combinations of *offsets* and *widths* windows\n",
    "    \"\"\"    \n",
    "    \n",
    "    if not isinstance(pair,sw.Pair):\n",
    "        raise Exception('pair must be a Pair')\n",
    "        \n",
    "    if not isinstance(offsets,np.ndarray):\n",
    "        raise Exception('offsets must be a numpy.array')\n",
    "    \n",
    "    if not isinstance(widths,np.ndarray):\n",
    "        raise Exception('widths must be a numpy.ndarray')\n",
    "    \n",
    "    # populate a lis of measurements\n",
    "    listM=[]\n",
    "    for w in widths:\n",
    "        for o in offsets:\n",
    "            listM.append(sw.EigenM(pair,window=sw.Window(w,o,**kwargs)))\n",
    "            \n",
    "    return listM\n",
    "                             \n"
   ]
  },
  {
   "cell_type": "code",
   "execution_count": 3,
   "metadata": {
    "collapsed": true
   },
   "outputs": [],
   "source": [
    "p = sw.Pair(fast=45,lag=2.3,delta=0.1)"
   ]
  },
  {
   "cell_type": "code",
   "execution_count": null,
   "metadata": {},
   "outputs": [],
   "source": [
    "widths = np.arange(51,151,25)\n",
    "offsets = np.arange(-40,60,20)"
   ]
  },
  {
   "cell_type": "code",
   "execution_count": null,
   "metadata": {},
   "outputs": [],
   "source": [
    "listM = window_scan(p,widths,offsets)"
   ]
  },
  {
   "cell_type": "code",
   "execution_count": null,
   "metadata": {},
   "outputs": [],
   "source": [
    "import matplotlib.gridspec as gridspec\n",
    "\n",
    "fig = plt.figure(figsize=(12,6)) \n",
    "nwid = widths.size\n",
    "noff = offsets.size\n",
    "gs = gridspec.GridSpec(nwid,noff)\n",
    "v = np.linspace(0, 50, 26, endpoint=True)\n",
    "\n",
    "for ii in range(nwid):\n",
    "    for jj in range(noff):\n",
    "        ax = plt.subplot(gs[ii,jj])\n",
    "        m = listM[ii*noff+jj]\n",
    "        ax.contourf(m.tlags,m.degs,m.lam1/m.lam2,v,cmap='magma',extend='max')\n",
    "\n",
    "plt.show()"
   ]
  },
  {
   "cell_type": "code",
   "execution_count": null,
   "metadata": {},
   "outputs": [],
   "source": [
    "stkm = sw.eigval.stack(listM)"
   ]
  },
  {
   "cell_type": "code",
   "execution_count": null,
   "metadata": {},
   "outputs": [],
   "source": [
    "nwid = widths.size\n",
    "noff = offsets.size"
   ]
  },
  {
   "cell_type": "code",
   "execution_count": null,
   "metadata": {},
   "outputs": [],
   "source": [
    "for ii in range(nwid):\n",
    "    for jj in range(noff):\n",
    "#         print(ii*nwid)\n",
    "#         print(jj*noff)\n",
    "        print(ii,jj,ii*noff + jj)"
   ]
  },
  {
   "cell_type": "code",
   "execution_count": null,
   "metadata": {
    "collapsed": true
   },
   "outputs": [],
   "source": []
  }
 ],
 "metadata": {
  "kernelspec": {
   "display_name": "Python 3",
   "language": "python",
   "name": "python3"
  },
  "language_info": {
   "codemirror_mode": {
    "name": "ipython",
    "version": 3
   },
   "file_extension": ".py",
   "mimetype": "text/x-python",
   "name": "python",
   "nbconvert_exporter": "python",
   "pygments_lexer": "ipython3",
   "version": "3.5.3"
  }
 },
 "nbformat": 4,
 "nbformat_minor": 2
}
